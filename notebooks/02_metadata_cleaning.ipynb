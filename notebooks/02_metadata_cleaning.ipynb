{
 "cells": [
  {
   "cell_type": "markdown",
   "id": "21c6d80e-cc48-4e8b-a32b-17bee52e24fb",
   "metadata": {},
   "source": [
    "# Metadata Cleaning"
   ]
  },
  {
   "cell_type": "code",
   "execution_count": 1,
   "id": "fdaa6925-c5cd-49cb-b245-b894f0b86a44",
   "metadata": {
    "scrolled": true
   },
   "outputs": [],
   "source": [
    "# Import dependencies\n",
    "import os\n",
    "import pandas as pd\n",
    "import numpy as np\n",
    "from scipy.stats import skew\n",
    "from statistics import mean\n",
    "import matplotlib.pyplot as plt\n",
    "\n",
    "%run functions.ipynb"
   ]
  },
  {
   "cell_type": "markdown",
   "id": "70aea5d2-1f82-45df-8a6a-61fa0e524ce1",
   "metadata": {},
   "source": [
    "## Read in Files"
   ]
  },
  {
   "cell_type": "code",
   "execution_count": 2,
   "id": "542d7022-a4ae-41f9-9399-8abef79ae14c",
   "metadata": {
    "scrolled": true
   },
   "outputs": [],
   "source": [
    "# Raw dataset file path\n",
    "rawdata_path = \"../resources/voiced_dataset/\"\n",
    "\n",
    "# Get all the files in the directory\n",
    "files = os.listdir(rawdata_path)"
   ]
  },
  {
   "cell_type": "code",
   "execution_count": 3,
   "id": "b130c6ec-f990-4c5c-86bf-d58facfced49",
   "metadata": {
    "scrolled": true
   },
   "outputs": [
    {
     "data": {
      "text/html": [
       "<div>\n",
       "<style scoped>\n",
       "    .dataframe tbody tr th:only-of-type {\n",
       "        vertical-align: middle;\n",
       "    }\n",
       "\n",
       "    .dataframe tbody tr th {\n",
       "        vertical-align: top;\n",
       "    }\n",
       "\n",
       "    .dataframe thead th {\n",
       "        text-align: right;\n",
       "    }\n",
       "</style>\n",
       "<table border=\"1\" class=\"dataframe\">\n",
       "  <thead>\n",
       "    <tr style=\"text-align: right;\">\n",
       "      <th></th>\n",
       "      <th>ID</th>\n",
       "      <th>Age</th>\n",
       "      <th>Gender</th>\n",
       "      <th>Diagnosis</th>\n",
       "      <th>Occupation status</th>\n",
       "      <th>Voice Handicap Index (VHI) Score</th>\n",
       "      <th>Reflux Symptom Index (RSI) Score</th>\n",
       "      <th>Smoker</th>\n",
       "      <th>Number of cigarettes smoked per day</th>\n",
       "      <th>Alcohol consumption</th>\n",
       "      <th>...</th>\n",
       "      <th>Amount of glasses drinked in a day</th>\n",
       "      <th>Tomatoes</th>\n",
       "      <th>Coffee</th>\n",
       "      <th>Number of cups of coffee drinked in a day</th>\n",
       "      <th>Chocolate</th>\n",
       "      <th>Gramme of chocolate eaten in  a day</th>\n",
       "      <th>Soft cheese</th>\n",
       "      <th>Gramme of soft cheese eaten in a day</th>\n",
       "      <th>Citrus fruits</th>\n",
       "      <th>Number of citrus fruits eaten in a day</th>\n",
       "    </tr>\n",
       "  </thead>\n",
       "  <tbody>\n",
       "    <tr>\n",
       "      <th>0</th>\n",
       "      <td>voice100</td>\n",
       "      <td>24</td>\n",
       "      <td>m</td>\n",
       "      <td>healthy</td>\n",
       "      <td>NU</td>\n",
       "      <td>0</td>\n",
       "      <td>5</td>\n",
       "      <td>no</td>\n",
       "      <td>NU</td>\n",
       "      <td>casual drinker</td>\n",
       "      <td>...</td>\n",
       "      <td>NU</td>\n",
       "      <td>never</td>\n",
       "      <td>always</td>\n",
       "      <td>3</td>\n",
       "      <td>sometimes</td>\n",
       "      <td>NU</td>\n",
       "      <td>almost always</td>\n",
       "      <td>NU</td>\n",
       "      <td>never</td>\n",
       "      <td>NU</td>\n",
       "    </tr>\n",
       "    <tr>\n",
       "      <th>1</th>\n",
       "      <td>voice101</td>\n",
       "      <td>60</td>\n",
       "      <td>m</td>\n",
       "      <td>healthy</td>\n",
       "      <td>NU</td>\n",
       "      <td>80</td>\n",
       "      <td>10</td>\n",
       "      <td>no</td>\n",
       "      <td>NU</td>\n",
       "      <td>nondrinker</td>\n",
       "      <td>...</td>\n",
       "      <td>NU</td>\n",
       "      <td>sometimes</td>\n",
       "      <td>always</td>\n",
       "      <td>4</td>\n",
       "      <td>sometimes</td>\n",
       "      <td>NU</td>\n",
       "      <td>sometimes</td>\n",
       "      <td>NU</td>\n",
       "      <td>never</td>\n",
       "      <td>NU</td>\n",
       "    </tr>\n",
       "    <tr>\n",
       "      <th>2</th>\n",
       "      <td>voice192</td>\n",
       "      <td>22</td>\n",
       "      <td>m</td>\n",
       "      <td>hyperkinetic dysphonia</td>\n",
       "      <td>Cook</td>\n",
       "      <td>0</td>\n",
       "      <td>10</td>\n",
       "      <td>no</td>\n",
       "      <td>NU</td>\n",
       "      <td>nondrinker</td>\n",
       "      <td>...</td>\n",
       "      <td>NU</td>\n",
       "      <td>sometimes</td>\n",
       "      <td>always</td>\n",
       "      <td>NU</td>\n",
       "      <td>always</td>\n",
       "      <td>NU</td>\n",
       "      <td>sometimes</td>\n",
       "      <td>NU</td>\n",
       "      <td>almost always</td>\n",
       "      <td>NU</td>\n",
       "    </tr>\n",
       "    <tr>\n",
       "      <th>3</th>\n",
       "      <td>voice193</td>\n",
       "      <td>46</td>\n",
       "      <td>f</td>\n",
       "      <td>hyperkinetic dysphonia</td>\n",
       "      <td>Housewife</td>\n",
       "      <td>0</td>\n",
       "      <td>36</td>\n",
       "      <td>yes</td>\n",
       "      <td>15</td>\n",
       "      <td>casual drinker</td>\n",
       "      <td>...</td>\n",
       "      <td>NU</td>\n",
       "      <td>sometimes</td>\n",
       "      <td>always</td>\n",
       "      <td>2</td>\n",
       "      <td>sometimes</td>\n",
       "      <td>NU</td>\n",
       "      <td>sometimes</td>\n",
       "      <td>NU</td>\n",
       "      <td>sometimes</td>\n",
       "      <td>NU</td>\n",
       "    </tr>\n",
       "    <tr>\n",
       "      <th>4</th>\n",
       "      <td>voice008</td>\n",
       "      <td>51</td>\n",
       "      <td>f</td>\n",
       "      <td>reflux laryngitis</td>\n",
       "      <td>Researcher</td>\n",
       "      <td>19</td>\n",
       "      <td>15</td>\n",
       "      <td>no</td>\n",
       "      <td>NU</td>\n",
       "      <td>casual drinker</td>\n",
       "      <td>...</td>\n",
       "      <td>NU</td>\n",
       "      <td>almost always</td>\n",
       "      <td>always</td>\n",
       "      <td>2</td>\n",
       "      <td>almost always</td>\n",
       "      <td>20g</td>\n",
       "      <td>sometimes</td>\n",
       "      <td>100 gr</td>\n",
       "      <td>almost always</td>\n",
       "      <td>1</td>\n",
       "    </tr>\n",
       "  </tbody>\n",
       "</table>\n",
       "<p>5 rows × 24 columns</p>\n",
       "</div>"
      ],
      "text/plain": [
       "         ID Age Gender               Diagnosis Occupation status  \\\n",
       "0  voice100  24      m                 healthy                NU   \n",
       "1  voice101  60      m                 healthy                NU   \n",
       "2  voice192  22      m  hyperkinetic dysphonia              Cook   \n",
       "3  voice193  46      f  hyperkinetic dysphonia         Housewife   \n",
       "4  voice008  51      f       reflux laryngitis        Researcher   \n",
       "\n",
       "  Voice Handicap Index (VHI) Score Reflux Symptom Index (RSI) Score Smoker  \\\n",
       "0                                0                                5     no   \n",
       "1                               80                               10     no   \n",
       "2                                0                               10     no   \n",
       "3                                0                               36    yes   \n",
       "4                               19                               15     no   \n",
       "\n",
       "  Number of cigarettes smoked per day Alcohol consumption  ...  \\\n",
       "0                                  NU      casual drinker  ...   \n",
       "1                                  NU          nondrinker  ...   \n",
       "2                                  NU          nondrinker  ...   \n",
       "3                                  15      casual drinker  ...   \n",
       "4                                  NU      casual drinker  ...   \n",
       "\n",
       "  Amount of glasses drinked in a day       Tomatoes  Coffee  \\\n",
       "0                                 NU          never  always   \n",
       "1                                 NU      sometimes  always   \n",
       "2                                 NU      sometimes  always   \n",
       "3                                 NU      sometimes  always   \n",
       "4                                 NU  almost always  always   \n",
       "\n",
       "  Number of cups of coffee drinked in a day      Chocolate  \\\n",
       "0                                         3      sometimes   \n",
       "1                                         4      sometimes   \n",
       "2                                        NU         always   \n",
       "3                                         2      sometimes   \n",
       "4                                         2  almost always   \n",
       "\n",
       "  Gramme of chocolate eaten in  a day    Soft cheese  \\\n",
       "0                                  NU  almost always   \n",
       "1                                  NU      sometimes   \n",
       "2                                  NU      sometimes   \n",
       "3                                  NU      sometimes   \n",
       "4                                 20g      sometimes   \n",
       "\n",
       "  Gramme of soft cheese eaten in a day  Citrus fruits  \\\n",
       "0                                   NU          never   \n",
       "1                                   NU          never   \n",
       "2                                   NU  almost always   \n",
       "3                                   NU      sometimes   \n",
       "4                               100 gr  almost always   \n",
       "\n",
       "  Number of citrus fruits eaten in a day  \n",
       "0                                     NU  \n",
       "1                                     NU  \n",
       "2                                     NU  \n",
       "3                                     NU  \n",
       "4                                      1  \n",
       "\n",
       "[5 rows x 24 columns]"
      ]
     },
     "execution_count": 3,
     "metadata": {},
     "output_type": "execute_result"
    }
   ],
   "source": [
    "# Initialise the list to hold dictionaries\n",
    "metadata_list = []\n",
    "\n",
    "# Parse the data in the info files\n",
    "for file in files:\n",
    "    \n",
    "    # Initialise the dictionary to store the info\n",
    "    metadata_dict = dict()\n",
    "    \n",
    "    # Look through info files only\n",
    "    if file.startswith(\"voice\") and file.endswith(\"-info.txt\"):\n",
    "        \n",
    "        # Read the text file\n",
    "        with open(rawdata_path + file, 'r') as file:\n",
    "            for line in file:\n",
    "                \n",
    "                # Split each line into a key-value pair using delimiter\n",
    "                key, value = map(str.strip, line.split(\"\\t\"))\n",
    "                \n",
    "                # Ignore the empty lines by checking whitespaces\n",
    "                if not line.strip():\n",
    "                    continue\n",
    "                else:\n",
    "                    # Remove the colon\n",
    "                    key = key.replace(\":\", \"\")\n",
    "                    \n",
    "                    # Load the data to a dictionary\n",
    "                    metadata_dict[key] = value\n",
    "                    \n",
    "            # Append the dictionary to the list\n",
    "            metadata_list.append(metadata_dict)\n",
    "\n",
    "# Convert the list to a DataFrame\n",
    "metadata_df = pd.DataFrame(metadata_list)\n",
    "metadata_df.head()"
   ]
  },
  {
   "cell_type": "markdown",
   "id": "9308398e-35e0-4230-9c41-41c2c0edddfe",
   "metadata": {},
   "source": [
    "## Clean `metadata_df`"
   ]
  },
  {
   "cell_type": "code",
   "execution_count": 4,
   "id": "e53a1fec-153d-4dc6-a576-9dfb56c462ec",
   "metadata": {
    "scrolled": true
   },
   "outputs": [
    {
     "name": "stdout",
     "output_type": "stream",
     "text": [
      "<class 'pandas.core.frame.DataFrame'>\n",
      "RangeIndex: 208 entries, 0 to 207\n",
      "Data columns (total 24 columns):\n",
      " #   Column                                                            Non-Null Count  Dtype \n",
      "---  ------                                                            --------------  ----- \n",
      " 0   ID                                                                208 non-null    object\n",
      " 1   Age                                                               208 non-null    object\n",
      " 2   Gender                                                            208 non-null    object\n",
      " 3   Diagnosis                                                         208 non-null    object\n",
      " 4   Occupation status                                                 208 non-null    object\n",
      " 5   Voice Handicap Index (VHI) Score                                  208 non-null    object\n",
      " 6   Reflux Symptom Index (RSI) Score                                  208 non-null    object\n",
      " 7   Smoker                                                            208 non-null    object\n",
      " 8   Number of cigarettes smoked per day                               208 non-null    object\n",
      " 9   Alcohol consumption                                               208 non-null    object\n",
      " 10  Number of glasses containing alcoholic beverage drinked in a day  208 non-null    object\n",
      " 11  Amount of water's litres drink every day                          208 non-null    object\n",
      " 12  Eating habits                                                     208 non-null    object\n",
      " 13  Carbonated beverages                                              208 non-null    object\n",
      " 14  Amount of glasses drinked in a day                                208 non-null    object\n",
      " 15  Tomatoes                                                          208 non-null    object\n",
      " 16  Coffee                                                            208 non-null    object\n",
      " 17  Number of cups of coffee drinked in a day                         208 non-null    object\n",
      " 18  Chocolate                                                         208 non-null    object\n",
      " 19  Gramme of chocolate eaten in  a day                               208 non-null    object\n",
      " 20  Soft cheese                                                       208 non-null    object\n",
      " 21  Gramme of soft cheese eaten in a day                              208 non-null    object\n",
      " 22  Citrus fruits                                                     208 non-null    object\n",
      " 23  Number of citrus fruits eaten in a day                            208 non-null    object\n",
      "dtypes: object(24)\n",
      "memory usage: 39.1+ KB\n"
     ]
    }
   ],
   "source": [
    "# Check the dataframe\n",
    "metadata_df.info()"
   ]
  },
  {
   "cell_type": "markdown",
   "id": "23831ad2-0d1c-44c7-b85c-0f925f286076",
   "metadata": {},
   "source": [
    "### Check for duplicate IDs"
   ]
  },
  {
   "cell_type": "code",
   "execution_count": 5,
   "id": "1a910d24-1928-48c0-9b42-d69683e51611",
   "metadata": {
    "scrolled": true
   },
   "outputs": [
    {
     "data": {
      "text/plain": [
       "ID\n",
       "voice005    2\n",
       "voice055    2\n",
       "voice100    1\n",
       "voice137    1\n",
       "voice140    1\n",
       "           ..\n",
       "voice080    1\n",
       "voice081    1\n",
       "voice153    1\n",
       "voice152    1\n",
       "voice024    1\n",
       "Name: count, Length: 206, dtype: int64"
      ]
     },
     "execution_count": 5,
     "metadata": {},
     "output_type": "execute_result"
    }
   ],
   "source": [
    "# Check the ID distribution\n",
    "metadata_df['ID'].value_counts()"
   ]
  },
  {
   "cell_type": "markdown",
   "id": "09ec05b0-30c8-41dd-a3a4-69ec09999678",
   "metadata": {},
   "source": [
    "__NOTE__: Checked these info files individually, incorrect naming, appears to be duplicates."
   ]
  },
  {
   "cell_type": "code",
   "execution_count": 6,
   "id": "70fa9d7e-2404-4353-865b-bf7e536986cd",
   "metadata": {
    "scrolled": true
   },
   "outputs": [
    {
     "data": {
      "text/html": [
       "<div>\n",
       "<style scoped>\n",
       "    .dataframe tbody tr th:only-of-type {\n",
       "        vertical-align: middle;\n",
       "    }\n",
       "\n",
       "    .dataframe tbody tr th {\n",
       "        vertical-align: top;\n",
       "    }\n",
       "\n",
       "    .dataframe thead th {\n",
       "        text-align: right;\n",
       "    }\n",
       "</style>\n",
       "<table border=\"1\" class=\"dataframe\">\n",
       "  <thead>\n",
       "    <tr style=\"text-align: right;\">\n",
       "      <th></th>\n",
       "      <th>ID</th>\n",
       "      <th>Age</th>\n",
       "      <th>Gender</th>\n",
       "      <th>Diagnosis</th>\n",
       "      <th>Occupation status</th>\n",
       "      <th>Voice Handicap Index (VHI) Score</th>\n",
       "      <th>Reflux Symptom Index (RSI) Score</th>\n",
       "      <th>Smoker</th>\n",
       "      <th>Number of cigarettes smoked per day</th>\n",
       "      <th>Alcohol consumption</th>\n",
       "      <th>...</th>\n",
       "      <th>Amount of glasses drinked in a day</th>\n",
       "      <th>Tomatoes</th>\n",
       "      <th>Coffee</th>\n",
       "      <th>Number of cups of coffee drinked in a day</th>\n",
       "      <th>Chocolate</th>\n",
       "      <th>Gramme of chocolate eaten in  a day</th>\n",
       "      <th>Soft cheese</th>\n",
       "      <th>Gramme of soft cheese eaten in a day</th>\n",
       "      <th>Citrus fruits</th>\n",
       "      <th>Number of citrus fruits eaten in a day</th>\n",
       "    </tr>\n",
       "  </thead>\n",
       "  <tbody>\n",
       "    <tr>\n",
       "      <th>99</th>\n",
       "      <td>voice005</td>\n",
       "      <td>54</td>\n",
       "      <td>f</td>\n",
       "      <td>hypokinetic dysphonia</td>\n",
       "      <td>Researcher</td>\n",
       "      <td>39</td>\n",
       "      <td>23</td>\n",
       "      <td>no</td>\n",
       "      <td>NU</td>\n",
       "      <td>casual drinker</td>\n",
       "      <td>...</td>\n",
       "      <td>NU</td>\n",
       "      <td>sometimes</td>\n",
       "      <td>never</td>\n",
       "      <td>NU</td>\n",
       "      <td>sometimes</td>\n",
       "      <td>150 gr</td>\n",
       "      <td>sometimes</td>\n",
       "      <td>200 gr</td>\n",
       "      <td>almost always</td>\n",
       "      <td>1</td>\n",
       "    </tr>\n",
       "    <tr>\n",
       "      <th>160</th>\n",
       "      <td>voice005</td>\n",
       "      <td>54</td>\n",
       "      <td>f</td>\n",
       "      <td>hypokinetic dysphonia</td>\n",
       "      <td>Researcher</td>\n",
       "      <td>39</td>\n",
       "      <td>25</td>\n",
       "      <td>no</td>\n",
       "      <td>NU</td>\n",
       "      <td>casual drinker</td>\n",
       "      <td>...</td>\n",
       "      <td>NU</td>\n",
       "      <td>sometimes</td>\n",
       "      <td>never</td>\n",
       "      <td>NU</td>\n",
       "      <td>sometimes</td>\n",
       "      <td>150 gr</td>\n",
       "      <td>sometimes</td>\n",
       "      <td>200 gr</td>\n",
       "      <td>almost always</td>\n",
       "      <td>1</td>\n",
       "    </tr>\n",
       "    <tr>\n",
       "      <th>121</th>\n",
       "      <td>voice055</td>\n",
       "      <td>46</td>\n",
       "      <td>m</td>\n",
       "      <td>hyperkinetic dysphonia</td>\n",
       "      <td>Technical operator</td>\n",
       "      <td>15</td>\n",
       "      <td>10</td>\n",
       "      <td>No</td>\n",
       "      <td>NU</td>\n",
       "      <td>nondrinker</td>\n",
       "      <td>...</td>\n",
       "      <td>NU</td>\n",
       "      <td>almost never</td>\n",
       "      <td>always</td>\n",
       "      <td>3</td>\n",
       "      <td>almost never</td>\n",
       "      <td>50 gr</td>\n",
       "      <td>sometimes</td>\n",
       "      <td>NU</td>\n",
       "      <td>never</td>\n",
       "      <td>NU</td>\n",
       "    </tr>\n",
       "    <tr>\n",
       "      <th>122</th>\n",
       "      <td>voice055</td>\n",
       "      <td>46</td>\n",
       "      <td>m</td>\n",
       "      <td>hyperkinetic dysphonia</td>\n",
       "      <td>Technical operator</td>\n",
       "      <td>15</td>\n",
       "      <td>19</td>\n",
       "      <td>No</td>\n",
       "      <td>NU</td>\n",
       "      <td>nondrinker</td>\n",
       "      <td>...</td>\n",
       "      <td>NU</td>\n",
       "      <td>almost never</td>\n",
       "      <td>always</td>\n",
       "      <td>3</td>\n",
       "      <td>almost never</td>\n",
       "      <td>50 gr</td>\n",
       "      <td>sometimes</td>\n",
       "      <td>NU</td>\n",
       "      <td>never</td>\n",
       "      <td>NU</td>\n",
       "    </tr>\n",
       "  </tbody>\n",
       "</table>\n",
       "<p>4 rows × 24 columns</p>\n",
       "</div>"
      ],
      "text/plain": [
       "           ID Age Gender               Diagnosis   Occupation status  \\\n",
       "99   voice005  54      f   hypokinetic dysphonia          Researcher   \n",
       "160  voice005  54      f   hypokinetic dysphonia          Researcher   \n",
       "121  voice055  46      m  hyperkinetic dysphonia  Technical operator   \n",
       "122  voice055  46      m  hyperkinetic dysphonia  Technical operator   \n",
       "\n",
       "    Voice Handicap Index (VHI) Score Reflux Symptom Index (RSI) Score Smoker  \\\n",
       "99                                39                               23     no   \n",
       "160                               39                               25     no   \n",
       "121                               15                               10     No   \n",
       "122                               15                               19     No   \n",
       "\n",
       "    Number of cigarettes smoked per day Alcohol consumption  ...  \\\n",
       "99                                   NU      casual drinker  ...   \n",
       "160                                  NU      casual drinker  ...   \n",
       "121                                  NU          nondrinker  ...   \n",
       "122                                  NU          nondrinker  ...   \n",
       "\n",
       "    Amount of glasses drinked in a day      Tomatoes  Coffee  \\\n",
       "99                                  NU     sometimes   never   \n",
       "160                                 NU     sometimes   never   \n",
       "121                                 NU  almost never  always   \n",
       "122                                 NU  almost never  always   \n",
       "\n",
       "    Number of cups of coffee drinked in a day     Chocolate  \\\n",
       "99                                         NU     sometimes   \n",
       "160                                        NU     sometimes   \n",
       "121                                         3  almost never   \n",
       "122                                         3  almost never   \n",
       "\n",
       "    Gramme of chocolate eaten in  a day Soft cheese  \\\n",
       "99                               150 gr   sometimes   \n",
       "160                              150 gr   sometimes   \n",
       "121                               50 gr   sometimes   \n",
       "122                               50 gr   sometimes   \n",
       "\n",
       "    Gramme of soft cheese eaten in a day  Citrus fruits  \\\n",
       "99                                200 gr  almost always   \n",
       "160                               200 gr  almost always   \n",
       "121                                   NU          never   \n",
       "122                                   NU          never   \n",
       "\n",
       "    Number of citrus fruits eaten in a day  \n",
       "99                                       1  \n",
       "160                                      1  \n",
       "121                                     NU  \n",
       "122                                     NU  \n",
       "\n",
       "[4 rows x 24 columns]"
      ]
     },
     "execution_count": 6,
     "metadata": {},
     "output_type": "execute_result"
    }
   ],
   "source": [
    "# Display all the duplicate rows\n",
    "duplicates = metadata_df.loc[metadata_df['ID']\\\n",
    "    .duplicated(keep=False)]\\\n",
    "    .sort_values(by='ID')\\\n",
    "    .copy()\n",
    "duplicates"
   ]
  },
  {
   "cell_type": "markdown",
   "id": "2309ac72-062d-4683-b09b-7ea369cf5fe0",
   "metadata": {},
   "source": [
    "__NOTE__: It appears there are slight differences, as in `Reflux Symptom Index (RSI) Score`."
   ]
  },
  {
   "cell_type": "code",
   "execution_count": 7,
   "id": "8048a99c-31e1-4920-afad-c200d86d1035",
   "metadata": {
    "scrolled": true
   },
   "outputs": [
    {
     "data": {
      "text/html": [
       "<div>\n",
       "<style scoped>\n",
       "    .dataframe tbody tr th:only-of-type {\n",
       "        vertical-align: middle;\n",
       "    }\n",
       "\n",
       "    .dataframe tbody tr th {\n",
       "        vertical-align: top;\n",
       "    }\n",
       "\n",
       "    .dataframe thead th {\n",
       "        text-align: right;\n",
       "    }\n",
       "</style>\n",
       "<table border=\"1\" class=\"dataframe\">\n",
       "  <thead>\n",
       "    <tr style=\"text-align: right;\">\n",
       "      <th></th>\n",
       "      <th>ID</th>\n",
       "      <th>Age</th>\n",
       "      <th>Gender</th>\n",
       "      <th>Diagnosis</th>\n",
       "      <th>Occupation status</th>\n",
       "      <th>Voice Handicap Index (VHI) Score</th>\n",
       "      <th>Reflux Symptom Index (RSI) Score</th>\n",
       "      <th>Smoker</th>\n",
       "      <th>Number of cigarettes smoked per day</th>\n",
       "      <th>Alcohol consumption</th>\n",
       "      <th>...</th>\n",
       "      <th>Amount of glasses drinked in a day</th>\n",
       "      <th>Tomatoes</th>\n",
       "      <th>Coffee</th>\n",
       "      <th>Number of cups of coffee drinked in a day</th>\n",
       "      <th>Chocolate</th>\n",
       "      <th>Gramme of chocolate eaten in  a day</th>\n",
       "      <th>Soft cheese</th>\n",
       "      <th>Gramme of soft cheese eaten in a day</th>\n",
       "      <th>Citrus fruits</th>\n",
       "      <th>Number of citrus fruits eaten in a day</th>\n",
       "    </tr>\n",
       "  </thead>\n",
       "  <tbody>\n",
       "    <tr>\n",
       "      <th>99</th>\n",
       "      <td>voice005</td>\n",
       "      <td>54</td>\n",
       "      <td>f</td>\n",
       "      <td>hypokinetic dysphonia</td>\n",
       "      <td>Researcher</td>\n",
       "      <td>39</td>\n",
       "      <td>23</td>\n",
       "      <td>no</td>\n",
       "      <td>NU</td>\n",
       "      <td>casual drinker</td>\n",
       "      <td>...</td>\n",
       "      <td>NU</td>\n",
       "      <td>sometimes</td>\n",
       "      <td>never</td>\n",
       "      <td>NU</td>\n",
       "      <td>sometimes</td>\n",
       "      <td>150 gr</td>\n",
       "      <td>sometimes</td>\n",
       "      <td>200 gr</td>\n",
       "      <td>almost always</td>\n",
       "      <td>1</td>\n",
       "    </tr>\n",
       "    <tr>\n",
       "      <th>160</th>\n",
       "      <td>voice005</td>\n",
       "      <td>54</td>\n",
       "      <td>f</td>\n",
       "      <td>hypokinetic dysphonia</td>\n",
       "      <td>Researcher</td>\n",
       "      <td>39</td>\n",
       "      <td>25</td>\n",
       "      <td>no</td>\n",
       "      <td>NU</td>\n",
       "      <td>casual drinker</td>\n",
       "      <td>...</td>\n",
       "      <td>NU</td>\n",
       "      <td>sometimes</td>\n",
       "      <td>never</td>\n",
       "      <td>NU</td>\n",
       "      <td>sometimes</td>\n",
       "      <td>150 gr</td>\n",
       "      <td>sometimes</td>\n",
       "      <td>200 gr</td>\n",
       "      <td>almost always</td>\n",
       "      <td>1</td>\n",
       "    </tr>\n",
       "  </tbody>\n",
       "</table>\n",
       "<p>2 rows × 24 columns</p>\n",
       "</div>"
      ],
      "text/plain": [
       "           ID Age Gender              Diagnosis Occupation status  \\\n",
       "99   voice005  54      f  hypokinetic dysphonia        Researcher   \n",
       "160  voice005  54      f  hypokinetic dysphonia        Researcher   \n",
       "\n",
       "    Voice Handicap Index (VHI) Score Reflux Symptom Index (RSI) Score Smoker  \\\n",
       "99                                39                               23     no   \n",
       "160                               39                               25     no   \n",
       "\n",
       "    Number of cigarettes smoked per day Alcohol consumption  ...  \\\n",
       "99                                   NU      casual drinker  ...   \n",
       "160                                  NU      casual drinker  ...   \n",
       "\n",
       "    Amount of glasses drinked in a day   Tomatoes Coffee  \\\n",
       "99                                  NU  sometimes  never   \n",
       "160                                 NU  sometimes  never   \n",
       "\n",
       "    Number of cups of coffee drinked in a day  Chocolate  \\\n",
       "99                                         NU  sometimes   \n",
       "160                                        NU  sometimes   \n",
       "\n",
       "    Gramme of chocolate eaten in  a day Soft cheese  \\\n",
       "99                               150 gr   sometimes   \n",
       "160                              150 gr   sometimes   \n",
       "\n",
       "    Gramme of soft cheese eaten in a day  Citrus fruits  \\\n",
       "99                                200 gr  almost always   \n",
       "160                               200 gr  almost always   \n",
       "\n",
       "    Number of citrus fruits eaten in a day  \n",
       "99                                       1  \n",
       "160                                      1  \n",
       "\n",
       "[2 rows x 24 columns]"
      ]
     },
     "metadata": {},
     "output_type": "display_data"
    },
    {
     "name": "stdout",
     "output_type": "stream",
     "text": [
      "ID                                                                   True\n",
      "Age                                                                  True\n",
      "Gender                                                               True\n",
      "Diagnosis                                                            True\n",
      "Occupation status                                                    True\n",
      "Voice Handicap Index (VHI) Score                                     True\n",
      "Reflux Symptom Index (RSI) Score                                    False\n",
      "Smoker                                                               True\n",
      "Number of cigarettes smoked per day                                  True\n",
      "Alcohol consumption                                                  True\n",
      "Number of glasses containing alcoholic beverage drinked in a day     True\n",
      "Amount of water's litres drink every day                             True\n",
      "Eating habits                                                        True\n",
      "Carbonated beverages                                                 True\n",
      "Amount of glasses drinked in a day                                   True\n",
      "Tomatoes                                                             True\n",
      "Coffee                                                               True\n",
      "Number of cups of coffee drinked in a day                            True\n",
      "Chocolate                                                            True\n",
      "Gramme of chocolate eaten in  a day                                  True\n",
      "Soft cheese                                                          True\n",
      "Gramme of soft cheese eaten in a day                                 True\n",
      "Citrus fruits                                                        True\n",
      "Number of citrus fruits eaten in a day                               True\n",
      "dtype: bool\n"
     ]
    },
    {
     "data": {
      "text/html": [
       "<div>\n",
       "<style scoped>\n",
       "    .dataframe tbody tr th:only-of-type {\n",
       "        vertical-align: middle;\n",
       "    }\n",
       "\n",
       "    .dataframe tbody tr th {\n",
       "        vertical-align: top;\n",
       "    }\n",
       "\n",
       "    .dataframe thead th {\n",
       "        text-align: right;\n",
       "    }\n",
       "</style>\n",
       "<table border=\"1\" class=\"dataframe\">\n",
       "  <thead>\n",
       "    <tr style=\"text-align: right;\">\n",
       "      <th></th>\n",
       "      <th>ID</th>\n",
       "      <th>Age</th>\n",
       "      <th>Gender</th>\n",
       "      <th>Diagnosis</th>\n",
       "      <th>Occupation status</th>\n",
       "      <th>Voice Handicap Index (VHI) Score</th>\n",
       "      <th>Reflux Symptom Index (RSI) Score</th>\n",
       "      <th>Smoker</th>\n",
       "      <th>Number of cigarettes smoked per day</th>\n",
       "      <th>Alcohol consumption</th>\n",
       "      <th>...</th>\n",
       "      <th>Amount of glasses drinked in a day</th>\n",
       "      <th>Tomatoes</th>\n",
       "      <th>Coffee</th>\n",
       "      <th>Number of cups of coffee drinked in a day</th>\n",
       "      <th>Chocolate</th>\n",
       "      <th>Gramme of chocolate eaten in  a day</th>\n",
       "      <th>Soft cheese</th>\n",
       "      <th>Gramme of soft cheese eaten in a day</th>\n",
       "      <th>Citrus fruits</th>\n",
       "      <th>Number of citrus fruits eaten in a day</th>\n",
       "    </tr>\n",
       "  </thead>\n",
       "  <tbody>\n",
       "    <tr>\n",
       "      <th>121</th>\n",
       "      <td>voice055</td>\n",
       "      <td>46</td>\n",
       "      <td>m</td>\n",
       "      <td>hyperkinetic dysphonia</td>\n",
       "      <td>Technical operator</td>\n",
       "      <td>15</td>\n",
       "      <td>10</td>\n",
       "      <td>No</td>\n",
       "      <td>NU</td>\n",
       "      <td>nondrinker</td>\n",
       "      <td>...</td>\n",
       "      <td>NU</td>\n",
       "      <td>almost never</td>\n",
       "      <td>always</td>\n",
       "      <td>3</td>\n",
       "      <td>almost never</td>\n",
       "      <td>50 gr</td>\n",
       "      <td>sometimes</td>\n",
       "      <td>NU</td>\n",
       "      <td>never</td>\n",
       "      <td>NU</td>\n",
       "    </tr>\n",
       "    <tr>\n",
       "      <th>122</th>\n",
       "      <td>voice055</td>\n",
       "      <td>46</td>\n",
       "      <td>m</td>\n",
       "      <td>hyperkinetic dysphonia</td>\n",
       "      <td>Technical operator</td>\n",
       "      <td>15</td>\n",
       "      <td>19</td>\n",
       "      <td>No</td>\n",
       "      <td>NU</td>\n",
       "      <td>nondrinker</td>\n",
       "      <td>...</td>\n",
       "      <td>NU</td>\n",
       "      <td>almost never</td>\n",
       "      <td>always</td>\n",
       "      <td>3</td>\n",
       "      <td>almost never</td>\n",
       "      <td>50 gr</td>\n",
       "      <td>sometimes</td>\n",
       "      <td>NU</td>\n",
       "      <td>never</td>\n",
       "      <td>NU</td>\n",
       "    </tr>\n",
       "  </tbody>\n",
       "</table>\n",
       "<p>2 rows × 24 columns</p>\n",
       "</div>"
      ],
      "text/plain": [
       "           ID Age Gender               Diagnosis   Occupation status  \\\n",
       "121  voice055  46      m  hyperkinetic dysphonia  Technical operator   \n",
       "122  voice055  46      m  hyperkinetic dysphonia  Technical operator   \n",
       "\n",
       "    Voice Handicap Index (VHI) Score Reflux Symptom Index (RSI) Score Smoker  \\\n",
       "121                               15                               10     No   \n",
       "122                               15                               19     No   \n",
       "\n",
       "    Number of cigarettes smoked per day Alcohol consumption  ...  \\\n",
       "121                                  NU          nondrinker  ...   \n",
       "122                                  NU          nondrinker  ...   \n",
       "\n",
       "    Amount of glasses drinked in a day      Tomatoes  Coffee  \\\n",
       "121                                 NU  almost never  always   \n",
       "122                                 NU  almost never  always   \n",
       "\n",
       "    Number of cups of coffee drinked in a day     Chocolate  \\\n",
       "121                                         3  almost never   \n",
       "122                                         3  almost never   \n",
       "\n",
       "    Gramme of chocolate eaten in  a day Soft cheese  \\\n",
       "121                               50 gr   sometimes   \n",
       "122                               50 gr   sometimes   \n",
       "\n",
       "    Gramme of soft cheese eaten in a day Citrus fruits  \\\n",
       "121                                   NU         never   \n",
       "122                                   NU         never   \n",
       "\n",
       "    Number of citrus fruits eaten in a day  \n",
       "121                                     NU  \n",
       "122                                     NU  \n",
       "\n",
       "[2 rows x 24 columns]"
      ]
     },
     "metadata": {},
     "output_type": "display_data"
    },
    {
     "name": "stdout",
     "output_type": "stream",
     "text": [
      "ID                                                                   True\n",
      "Age                                                                  True\n",
      "Gender                                                               True\n",
      "Diagnosis                                                            True\n",
      "Occupation status                                                    True\n",
      "Voice Handicap Index (VHI) Score                                     True\n",
      "Reflux Symptom Index (RSI) Score                                    False\n",
      "Smoker                                                               True\n",
      "Number of cigarettes smoked per day                                  True\n",
      "Alcohol consumption                                                  True\n",
      "Number of glasses containing alcoholic beverage drinked in a day     True\n",
      "Amount of water's litres drink every day                             True\n",
      "Eating habits                                                        True\n",
      "Carbonated beverages                                                 True\n",
      "Amount of glasses drinked in a day                                   True\n",
      "Tomatoes                                                             True\n",
      "Coffee                                                               True\n",
      "Number of cups of coffee drinked in a day                            True\n",
      "Chocolate                                                            True\n",
      "Gramme of chocolate eaten in  a day                                  True\n",
      "Soft cheese                                                          True\n",
      "Gramme of soft cheese eaten in a day                                 True\n",
      "Citrus fruits                                                        True\n",
      "Number of citrus fruits eaten in a day                               True\n",
      "dtype: bool\n"
     ]
    }
   ],
   "source": [
    "# Determine which columns are different\n",
    "dup_ids = duplicates['ID'].unique()\n",
    "\n",
    "# Loop through each ID\n",
    "for voice_id in dup_ids:\n",
    "    \n",
    "    # Isolate each voice ID\n",
    "    df = duplicates.loc[duplicates['ID'] == voice_id]   \n",
    "    display(df)\n",
    "    \n",
    "    # Isolate each row\n",
    "    top_row = df.iloc[0]\n",
    "    btm_row = df.iloc[1]\n",
    "    \n",
    "    # Compare each column\n",
    "    compare = (top_row == btm_row)\n",
    "    \n",
    "    print(compare)"
   ]
  },
  {
   "cell_type": "markdown",
   "id": "db4d3042-ab98-44b3-93f4-7b63f0ffe254",
   "metadata": {},
   "source": [
    "__NOTE__: It appears only the `Reflux Symptom Index (RSI) Score` is different."
   ]
  },
  {
   "cell_type": "code",
   "execution_count": 8,
   "id": "6b68cde5-2425-4709-907d-8bec5d865009",
   "metadata": {
    "scrolled": true
   },
   "outputs": [
    {
     "name": "stdout",
     "output_type": "stream",
     "text": [
      "voice005: 24\n",
      "voice055: 14\n"
     ]
    }
   ],
   "source": [
    "# Take the average for each RSI score and update one instance\n",
    "score_dict = dict()\n",
    "\n",
    "# Loop through each ID\n",
    "for voice_id in dup_ids:\n",
    "    \n",
    "    # Isolate each voice ID\n",
    "    df = duplicates.loc[\n",
    "        duplicates['ID'] == voice_id,\n",
    "        'Reflux Symptom Index (RSI) Score'\n",
    "    ]\n",
    "\n",
    "    # Get the average for each ID\n",
    "    avg_val = int(df.astype(int).mean())\n",
    "    \n",
    "    # Append to the dictionary\n",
    "    score_dict[voice_id] = avg_val\n",
    "    \n",
    "    # Print scores\n",
    "    print(f'{voice_id}: {avg_val}')"
   ]
  },
  {
   "cell_type": "code",
   "execution_count": 9,
   "id": "d3f2f1e5-9e7e-4c73-b05a-13368cc11d53",
   "metadata": {
    "scrolled": true
   },
   "outputs": [
    {
     "data": {
      "text/plain": [
       "206"
      ]
     },
     "execution_count": 9,
     "metadata": {},
     "output_type": "execute_result"
    }
   ],
   "source": [
    "# Drop one duplicated row\n",
    "no_duplicates_df = metadata_df.drop_duplicates(\n",
    "    keep = 'first',\n",
    "    subset = 'ID'\n",
    ")\n",
    "\n",
    "# Confirm duplicated rows dropped\n",
    "len(no_duplicates_df)"
   ]
  },
  {
   "cell_type": "code",
   "execution_count": 10,
   "id": "8f6f7074-a64c-442a-aeba-cf7b8032fb36",
   "metadata": {
    "scrolled": true
   },
   "outputs": [
    {
     "name": "stdout",
     "output_type": "stream",
     "text": [
      "voice005 24\n",
      "voice055 14\n"
     ]
    },
    {
     "data": {
      "text/html": [
       "<div>\n",
       "<style scoped>\n",
       "    .dataframe tbody tr th:only-of-type {\n",
       "        vertical-align: middle;\n",
       "    }\n",
       "\n",
       "    .dataframe tbody tr th {\n",
       "        vertical-align: top;\n",
       "    }\n",
       "\n",
       "    .dataframe thead th {\n",
       "        text-align: right;\n",
       "    }\n",
       "</style>\n",
       "<table border=\"1\" class=\"dataframe\">\n",
       "  <thead>\n",
       "    <tr style=\"text-align: right;\">\n",
       "      <th></th>\n",
       "      <th>ID</th>\n",
       "      <th>Age</th>\n",
       "      <th>Gender</th>\n",
       "      <th>Diagnosis</th>\n",
       "      <th>Occupation status</th>\n",
       "      <th>Voice Handicap Index (VHI) Score</th>\n",
       "      <th>Reflux Symptom Index (RSI) Score</th>\n",
       "      <th>Smoker</th>\n",
       "      <th>Number of cigarettes smoked per day</th>\n",
       "      <th>Alcohol consumption</th>\n",
       "      <th>...</th>\n",
       "      <th>Amount of glasses drinked in a day</th>\n",
       "      <th>Tomatoes</th>\n",
       "      <th>Coffee</th>\n",
       "      <th>Number of cups of coffee drinked in a day</th>\n",
       "      <th>Chocolate</th>\n",
       "      <th>Gramme of chocolate eaten in  a day</th>\n",
       "      <th>Soft cheese</th>\n",
       "      <th>Gramme of soft cheese eaten in a day</th>\n",
       "      <th>Citrus fruits</th>\n",
       "      <th>Number of citrus fruits eaten in a day</th>\n",
       "    </tr>\n",
       "  </thead>\n",
       "  <tbody>\n",
       "    <tr>\n",
       "      <th>99</th>\n",
       "      <td>voice005</td>\n",
       "      <td>54</td>\n",
       "      <td>f</td>\n",
       "      <td>hypokinetic dysphonia</td>\n",
       "      <td>Researcher</td>\n",
       "      <td>39</td>\n",
       "      <td>24</td>\n",
       "      <td>no</td>\n",
       "      <td>NU</td>\n",
       "      <td>casual drinker</td>\n",
       "      <td>...</td>\n",
       "      <td>NU</td>\n",
       "      <td>sometimes</td>\n",
       "      <td>never</td>\n",
       "      <td>NU</td>\n",
       "      <td>sometimes</td>\n",
       "      <td>150 gr</td>\n",
       "      <td>sometimes</td>\n",
       "      <td>200 gr</td>\n",
       "      <td>almost always</td>\n",
       "      <td>1</td>\n",
       "    </tr>\n",
       "    <tr>\n",
       "      <th>121</th>\n",
       "      <td>voice055</td>\n",
       "      <td>46</td>\n",
       "      <td>m</td>\n",
       "      <td>hyperkinetic dysphonia</td>\n",
       "      <td>Technical operator</td>\n",
       "      <td>15</td>\n",
       "      <td>14</td>\n",
       "      <td>No</td>\n",
       "      <td>NU</td>\n",
       "      <td>nondrinker</td>\n",
       "      <td>...</td>\n",
       "      <td>NU</td>\n",
       "      <td>almost never</td>\n",
       "      <td>always</td>\n",
       "      <td>3</td>\n",
       "      <td>almost never</td>\n",
       "      <td>50 gr</td>\n",
       "      <td>sometimes</td>\n",
       "      <td>NU</td>\n",
       "      <td>never</td>\n",
       "      <td>NU</td>\n",
       "    </tr>\n",
       "  </tbody>\n",
       "</table>\n",
       "<p>2 rows × 24 columns</p>\n",
       "</div>"
      ],
      "text/plain": [
       "           ID Age Gender               Diagnosis   Occupation status  \\\n",
       "99   voice005  54      f   hypokinetic dysphonia          Researcher   \n",
       "121  voice055  46      m  hyperkinetic dysphonia  Technical operator   \n",
       "\n",
       "    Voice Handicap Index (VHI) Score Reflux Symptom Index (RSI) Score Smoker  \\\n",
       "99                                39                               24     no   \n",
       "121                               15                               14     No   \n",
       "\n",
       "    Number of cigarettes smoked per day Alcohol consumption  ...  \\\n",
       "99                                   NU      casual drinker  ...   \n",
       "121                                  NU          nondrinker  ...   \n",
       "\n",
       "    Amount of glasses drinked in a day      Tomatoes  Coffee  \\\n",
       "99                                  NU     sometimes   never   \n",
       "121                                 NU  almost never  always   \n",
       "\n",
       "    Number of cups of coffee drinked in a day     Chocolate  \\\n",
       "99                                         NU     sometimes   \n",
       "121                                         3  almost never   \n",
       "\n",
       "    Gramme of chocolate eaten in  a day Soft cheese  \\\n",
       "99                               150 gr   sometimes   \n",
       "121                               50 gr   sometimes   \n",
       "\n",
       "    Gramme of soft cheese eaten in a day  Citrus fruits  \\\n",
       "99                                200 gr  almost always   \n",
       "121                                   NU          never   \n",
       "\n",
       "    Number of citrus fruits eaten in a day  \n",
       "99                                       1  \n",
       "121                                     NU  \n",
       "\n",
       "[2 rows x 24 columns]"
      ]
     },
     "execution_count": 10,
     "metadata": {},
     "output_type": "execute_result"
    }
   ],
   "source": [
    "# Update the calculated RSI scores\n",
    "for voice_id, score in score_dict.items():\n",
    "    # Display the values to update\n",
    "    print(voice_id, score)\n",
    "    \n",
    "    # Create a copy of the row\n",
    "    row_copy = no_duplicates_df.loc[\n",
    "        no_duplicates_df['ID'] == voice_id].copy()\n",
    "    \n",
    "    # Update the score on the copy\n",
    "    row_copy['Reflux Symptom Index (RSI) Score'] = score\n",
    "    \n",
    "    # Update the dataframe\n",
    "    no_duplicates_df.loc[no_duplicates_df['ID'] == voice_id] = row_copy\n",
    "\n",
    "# Confirm updated correctly\n",
    "no_duplicates_df.loc[no_duplicates_df['ID'].isin(score_dict.keys())]"
   ]
  },
  {
   "cell_type": "markdown",
   "id": "a700dd95-0cd2-4171-ac61-f58d91d95576",
   "metadata": {},
   "source": [
    "__NOTE__:\n",
    "\n",
    "- Deleted duplicates after all, different wav files and cannot be certain the correct one is selected.\n",
    "\n",
    "- By inspecting the raw data files, will need to delete the following in all future code:\n",
    "\n",
    "[`voice005`, `voice006`, `voice054`, `voice055`]"
   ]
  },
  {
   "cell_type": "code",
   "execution_count": 11,
   "id": "6fa2406f-7be4-4497-aa6e-a9c57e4f1530",
   "metadata": {
    "scrolled": true
   },
   "outputs": [
    {
     "data": {
      "text/plain": [
       "(204, 24)"
      ]
     },
     "execution_count": 11,
     "metadata": {},
     "output_type": "execute_result"
    }
   ],
   "source": [
    "# Define IDs to delete\n",
    "delete_id = ['voice005', 'voice055']\n",
    "no_duplicates_df = no_duplicates_df[~no_duplicates_df['ID'].isin(delete_id)]\n",
    "no_duplicates_df.shape"
   ]
  },
  {
   "cell_type": "markdown",
   "id": "67eb4e4c-1872-4b5e-b2ce-8114758f8611",
   "metadata": {},
   "source": [
    "### Simplify the column names"
   ]
  },
  {
   "cell_type": "code",
   "execution_count": 12,
   "id": "2e48fb8a-1e87-4961-a52a-4b4b15fbd21a",
   "metadata": {
    "scrolled": true
   },
   "outputs": [
    {
     "data": {
      "text/plain": [
       "['ID',\n",
       " 'Age',\n",
       " 'Gender',\n",
       " 'Diagnosis',\n",
       " 'Occupation status',\n",
       " 'Voice Handicap Index (VHI) Score',\n",
       " 'Reflux Symptom Index (RSI) Score',\n",
       " 'Smoker',\n",
       " 'Number of cigarettes smoked per day',\n",
       " 'Alcohol consumption',\n",
       " 'Number of glasses containing alcoholic beverage drinked in a day',\n",
       " \"Amount of water's litres drink every day\",\n",
       " 'Eating habits',\n",
       " 'Carbonated beverages',\n",
       " 'Amount of glasses drinked in a day',\n",
       " 'Tomatoes',\n",
       " 'Coffee',\n",
       " 'Number of cups of coffee drinked in a day',\n",
       " 'Chocolate',\n",
       " 'Gramme of chocolate eaten in  a day',\n",
       " 'Soft cheese',\n",
       " 'Gramme of soft cheese eaten in a day',\n",
       " 'Citrus fruits',\n",
       " 'Number of citrus fruits eaten in a day']"
      ]
     },
     "execution_count": 12,
     "metadata": {},
     "output_type": "execute_result"
    }
   ],
   "source": [
    "# Print the columns\n",
    "original_cols = list(no_duplicates_df.columns)\n",
    "original_cols"
   ]
  },
  {
   "cell_type": "code",
   "execution_count": 13,
   "id": "bb270bee-5b28-474f-af75-f647264a2340",
   "metadata": {
    "scrolled": true
   },
   "outputs": [
    {
     "data": {
      "text/html": [
       "<div>\n",
       "<style scoped>\n",
       "    .dataframe tbody tr th:only-of-type {\n",
       "        vertical-align: middle;\n",
       "    }\n",
       "\n",
       "    .dataframe tbody tr th {\n",
       "        vertical-align: top;\n",
       "    }\n",
       "\n",
       "    .dataframe thead th {\n",
       "        text-align: right;\n",
       "    }\n",
       "</style>\n",
       "<table border=\"1\" class=\"dataframe\">\n",
       "  <thead>\n",
       "    <tr style=\"text-align: right;\">\n",
       "      <th></th>\n",
       "      <th>id</th>\n",
       "      <th>age</th>\n",
       "      <th>gender</th>\n",
       "      <th>diagnosis</th>\n",
       "      <th>occupation status</th>\n",
       "      <th>voice handicap index (vhi) score</th>\n",
       "      <th>reflux symptom index (rsi) score</th>\n",
       "      <th>smoker</th>\n",
       "      <th>number of cigarettes smoked per day</th>\n",
       "      <th>alcohol consumption</th>\n",
       "      <th>...</th>\n",
       "      <th>amount of glasses drinked in a day</th>\n",
       "      <th>tomatoes</th>\n",
       "      <th>coffee</th>\n",
       "      <th>number of cups of coffee drinked in a day</th>\n",
       "      <th>chocolate</th>\n",
       "      <th>gramme of chocolate eaten in  a day</th>\n",
       "      <th>soft cheese</th>\n",
       "      <th>gramme of soft cheese eaten in a day</th>\n",
       "      <th>citrus fruits</th>\n",
       "      <th>number of citrus fruits eaten in a day</th>\n",
       "    </tr>\n",
       "  </thead>\n",
       "  <tbody>\n",
       "    <tr>\n",
       "      <th>0</th>\n",
       "      <td>voice100</td>\n",
       "      <td>24</td>\n",
       "      <td>m</td>\n",
       "      <td>healthy</td>\n",
       "      <td>NU</td>\n",
       "      <td>0</td>\n",
       "      <td>5</td>\n",
       "      <td>no</td>\n",
       "      <td>NU</td>\n",
       "      <td>casual drinker</td>\n",
       "      <td>...</td>\n",
       "      <td>NU</td>\n",
       "      <td>never</td>\n",
       "      <td>always</td>\n",
       "      <td>3</td>\n",
       "      <td>sometimes</td>\n",
       "      <td>NU</td>\n",
       "      <td>almost always</td>\n",
       "      <td>NU</td>\n",
       "      <td>never</td>\n",
       "      <td>NU</td>\n",
       "    </tr>\n",
       "    <tr>\n",
       "      <th>1</th>\n",
       "      <td>voice101</td>\n",
       "      <td>60</td>\n",
       "      <td>m</td>\n",
       "      <td>healthy</td>\n",
       "      <td>NU</td>\n",
       "      <td>80</td>\n",
       "      <td>10</td>\n",
       "      <td>no</td>\n",
       "      <td>NU</td>\n",
       "      <td>nondrinker</td>\n",
       "      <td>...</td>\n",
       "      <td>NU</td>\n",
       "      <td>sometimes</td>\n",
       "      <td>always</td>\n",
       "      <td>4</td>\n",
       "      <td>sometimes</td>\n",
       "      <td>NU</td>\n",
       "      <td>sometimes</td>\n",
       "      <td>NU</td>\n",
       "      <td>never</td>\n",
       "      <td>NU</td>\n",
       "    </tr>\n",
       "    <tr>\n",
       "      <th>2</th>\n",
       "      <td>voice192</td>\n",
       "      <td>22</td>\n",
       "      <td>m</td>\n",
       "      <td>hyperkinetic dysphonia</td>\n",
       "      <td>Cook</td>\n",
       "      <td>0</td>\n",
       "      <td>10</td>\n",
       "      <td>no</td>\n",
       "      <td>NU</td>\n",
       "      <td>nondrinker</td>\n",
       "      <td>...</td>\n",
       "      <td>NU</td>\n",
       "      <td>sometimes</td>\n",
       "      <td>always</td>\n",
       "      <td>NU</td>\n",
       "      <td>always</td>\n",
       "      <td>NU</td>\n",
       "      <td>sometimes</td>\n",
       "      <td>NU</td>\n",
       "      <td>almost always</td>\n",
       "      <td>NU</td>\n",
       "    </tr>\n",
       "    <tr>\n",
       "      <th>3</th>\n",
       "      <td>voice193</td>\n",
       "      <td>46</td>\n",
       "      <td>f</td>\n",
       "      <td>hyperkinetic dysphonia</td>\n",
       "      <td>Housewife</td>\n",
       "      <td>0</td>\n",
       "      <td>36</td>\n",
       "      <td>yes</td>\n",
       "      <td>15</td>\n",
       "      <td>casual drinker</td>\n",
       "      <td>...</td>\n",
       "      <td>NU</td>\n",
       "      <td>sometimes</td>\n",
       "      <td>always</td>\n",
       "      <td>2</td>\n",
       "      <td>sometimes</td>\n",
       "      <td>NU</td>\n",
       "      <td>sometimes</td>\n",
       "      <td>NU</td>\n",
       "      <td>sometimes</td>\n",
       "      <td>NU</td>\n",
       "    </tr>\n",
       "    <tr>\n",
       "      <th>4</th>\n",
       "      <td>voice008</td>\n",
       "      <td>51</td>\n",
       "      <td>f</td>\n",
       "      <td>reflux laryngitis</td>\n",
       "      <td>Researcher</td>\n",
       "      <td>19</td>\n",
       "      <td>15</td>\n",
       "      <td>no</td>\n",
       "      <td>NU</td>\n",
       "      <td>casual drinker</td>\n",
       "      <td>...</td>\n",
       "      <td>NU</td>\n",
       "      <td>almost always</td>\n",
       "      <td>always</td>\n",
       "      <td>2</td>\n",
       "      <td>almost always</td>\n",
       "      <td>20g</td>\n",
       "      <td>sometimes</td>\n",
       "      <td>100 gr</td>\n",
       "      <td>almost always</td>\n",
       "      <td>1</td>\n",
       "    </tr>\n",
       "  </tbody>\n",
       "</table>\n",
       "<p>5 rows × 24 columns</p>\n",
       "</div>"
      ],
      "text/plain": [
       "         id age gender               diagnosis occupation status  \\\n",
       "0  voice100  24      m                 healthy                NU   \n",
       "1  voice101  60      m                 healthy                NU   \n",
       "2  voice192  22      m  hyperkinetic dysphonia              Cook   \n",
       "3  voice193  46      f  hyperkinetic dysphonia         Housewife   \n",
       "4  voice008  51      f       reflux laryngitis        Researcher   \n",
       "\n",
       "  voice handicap index (vhi) score reflux symptom index (rsi) score smoker  \\\n",
       "0                                0                                5     no   \n",
       "1                               80                               10     no   \n",
       "2                                0                               10     no   \n",
       "3                                0                               36    yes   \n",
       "4                               19                               15     no   \n",
       "\n",
       "  number of cigarettes smoked per day alcohol consumption  ...  \\\n",
       "0                                  NU      casual drinker  ...   \n",
       "1                                  NU          nondrinker  ...   \n",
       "2                                  NU          nondrinker  ...   \n",
       "3                                  15      casual drinker  ...   \n",
       "4                                  NU      casual drinker  ...   \n",
       "\n",
       "  amount of glasses drinked in a day       tomatoes  coffee  \\\n",
       "0                                 NU          never  always   \n",
       "1                                 NU      sometimes  always   \n",
       "2                                 NU      sometimes  always   \n",
       "3                                 NU      sometimes  always   \n",
       "4                                 NU  almost always  always   \n",
       "\n",
       "  number of cups of coffee drinked in a day      chocolate  \\\n",
       "0                                         3      sometimes   \n",
       "1                                         4      sometimes   \n",
       "2                                        NU         always   \n",
       "3                                         2      sometimes   \n",
       "4                                         2  almost always   \n",
       "\n",
       "  gramme of chocolate eaten in  a day    soft cheese  \\\n",
       "0                                  NU  almost always   \n",
       "1                                  NU      sometimes   \n",
       "2                                  NU      sometimes   \n",
       "3                                  NU      sometimes   \n",
       "4                                 20g      sometimes   \n",
       "\n",
       "  gramme of soft cheese eaten in a day  citrus fruits  \\\n",
       "0                                   NU          never   \n",
       "1                                   NU          never   \n",
       "2                                   NU  almost always   \n",
       "3                                   NU      sometimes   \n",
       "4                               100 gr  almost always   \n",
       "\n",
       "  number of citrus fruits eaten in a day  \n",
       "0                                     NU  \n",
       "1                                     NU  \n",
       "2                                     NU  \n",
       "3                                     NU  \n",
       "4                                      1  \n",
       "\n",
       "[5 rows x 24 columns]"
      ]
     },
     "execution_count": 13,
     "metadata": {},
     "output_type": "execute_result"
    }
   ],
   "source": [
    "# Convert the column names to lower case\n",
    "lowercase_cols = [col_name.lower() for col_name in original_cols]\n",
    "\n",
    "# Create a copy of metadata_df\n",
    "renamed_df = no_duplicates_df.copy()\n",
    "\n",
    "# Update the column names\n",
    "renamed_df.columns = lowercase_cols\n",
    "\n",
    "# Display the DataFrame\n",
    "renamed_df.head()"
   ]
  },
  {
   "cell_type": "code",
   "execution_count": 14,
   "id": "0847adf6-8483-49db-857c-e5abc16963c3",
   "metadata": {
    "scrolled": true
   },
   "outputs": [
    {
     "data": {
      "text/plain": [
       "['id',\n",
       " 'age',\n",
       " 'gender',\n",
       " 'diagnosis',\n",
       " 'occupation status',\n",
       " 'voice handicap index (vhi) score',\n",
       " 'reflux symptom index (rsi) score',\n",
       " 'smoker',\n",
       " 'number of cigarettes smoked per day',\n",
       " 'alcohol consumption',\n",
       " 'number of glasses containing alcoholic beverage drinked in a day',\n",
       " \"amount of water's litres drink every day\",\n",
       " 'eating habits',\n",
       " 'carbonated beverages',\n",
       " 'amount of glasses drinked in a day',\n",
       " 'tomatoes',\n",
       " 'coffee',\n",
       " 'number of cups of coffee drinked in a day',\n",
       " 'chocolate',\n",
       " 'gramme of chocolate eaten in  a day',\n",
       " 'soft cheese',\n",
       " 'gramme of soft cheese eaten in a day',\n",
       " 'citrus fruits',\n",
       " 'number of citrus fruits eaten in a day']"
      ]
     },
     "execution_count": 14,
     "metadata": {},
     "output_type": "execute_result"
    }
   ],
   "source": [
    "# Print updated columns\n",
    "list(renamed_df.columns)"
   ]
  },
  {
   "cell_type": "code",
   "execution_count": 15,
   "id": "abacefa4-b20e-4331-9b76-6224f141eb7e",
   "metadata": {
    "scrolled": true
   },
   "outputs": [
    {
     "data": {
      "text/html": [
       "<div>\n",
       "<style scoped>\n",
       "    .dataframe tbody tr th:only-of-type {\n",
       "        vertical-align: middle;\n",
       "    }\n",
       "\n",
       "    .dataframe tbody tr th {\n",
       "        vertical-align: top;\n",
       "    }\n",
       "\n",
       "    .dataframe thead th {\n",
       "        text-align: right;\n",
       "    }\n",
       "</style>\n",
       "<table border=\"1\" class=\"dataframe\">\n",
       "  <thead>\n",
       "    <tr style=\"text-align: right;\">\n",
       "      <th></th>\n",
       "      <th>id</th>\n",
       "      <th>age</th>\n",
       "      <th>gender</th>\n",
       "      <th>diagnosis</th>\n",
       "      <th>occupation status</th>\n",
       "      <th>vhi score</th>\n",
       "      <th>rsi score</th>\n",
       "      <th>smoker</th>\n",
       "      <th>cigarettes per day</th>\n",
       "      <th>alcohol consumption</th>\n",
       "      <th>...</th>\n",
       "      <th>carbonated per day</th>\n",
       "      <th>tomatoes</th>\n",
       "      <th>coffee</th>\n",
       "      <th>coffee per day</th>\n",
       "      <th>chocolate</th>\n",
       "      <th>chocolate grams per day</th>\n",
       "      <th>soft cheese</th>\n",
       "      <th>soft cheese per day</th>\n",
       "      <th>citrus fruits</th>\n",
       "      <th>citrus fruits per day</th>\n",
       "    </tr>\n",
       "  </thead>\n",
       "  <tbody>\n",
       "    <tr>\n",
       "      <th>0</th>\n",
       "      <td>voice100</td>\n",
       "      <td>24</td>\n",
       "      <td>m</td>\n",
       "      <td>healthy</td>\n",
       "      <td>NU</td>\n",
       "      <td>0</td>\n",
       "      <td>5</td>\n",
       "      <td>no</td>\n",
       "      <td>NU</td>\n",
       "      <td>casual drinker</td>\n",
       "      <td>...</td>\n",
       "      <td>NU</td>\n",
       "      <td>never</td>\n",
       "      <td>always</td>\n",
       "      <td>3</td>\n",
       "      <td>sometimes</td>\n",
       "      <td>NU</td>\n",
       "      <td>almost always</td>\n",
       "      <td>NU</td>\n",
       "      <td>never</td>\n",
       "      <td>NU</td>\n",
       "    </tr>\n",
       "    <tr>\n",
       "      <th>1</th>\n",
       "      <td>voice101</td>\n",
       "      <td>60</td>\n",
       "      <td>m</td>\n",
       "      <td>healthy</td>\n",
       "      <td>NU</td>\n",
       "      <td>80</td>\n",
       "      <td>10</td>\n",
       "      <td>no</td>\n",
       "      <td>NU</td>\n",
       "      <td>nondrinker</td>\n",
       "      <td>...</td>\n",
       "      <td>NU</td>\n",
       "      <td>sometimes</td>\n",
       "      <td>always</td>\n",
       "      <td>4</td>\n",
       "      <td>sometimes</td>\n",
       "      <td>NU</td>\n",
       "      <td>sometimes</td>\n",
       "      <td>NU</td>\n",
       "      <td>never</td>\n",
       "      <td>NU</td>\n",
       "    </tr>\n",
       "    <tr>\n",
       "      <th>2</th>\n",
       "      <td>voice192</td>\n",
       "      <td>22</td>\n",
       "      <td>m</td>\n",
       "      <td>hyperkinetic dysphonia</td>\n",
       "      <td>Cook</td>\n",
       "      <td>0</td>\n",
       "      <td>10</td>\n",
       "      <td>no</td>\n",
       "      <td>NU</td>\n",
       "      <td>nondrinker</td>\n",
       "      <td>...</td>\n",
       "      <td>NU</td>\n",
       "      <td>sometimes</td>\n",
       "      <td>always</td>\n",
       "      <td>NU</td>\n",
       "      <td>always</td>\n",
       "      <td>NU</td>\n",
       "      <td>sometimes</td>\n",
       "      <td>NU</td>\n",
       "      <td>almost always</td>\n",
       "      <td>NU</td>\n",
       "    </tr>\n",
       "    <tr>\n",
       "      <th>3</th>\n",
       "      <td>voice193</td>\n",
       "      <td>46</td>\n",
       "      <td>f</td>\n",
       "      <td>hyperkinetic dysphonia</td>\n",
       "      <td>Housewife</td>\n",
       "      <td>0</td>\n",
       "      <td>36</td>\n",
       "      <td>yes</td>\n",
       "      <td>15</td>\n",
       "      <td>casual drinker</td>\n",
       "      <td>...</td>\n",
       "      <td>NU</td>\n",
       "      <td>sometimes</td>\n",
       "      <td>always</td>\n",
       "      <td>2</td>\n",
       "      <td>sometimes</td>\n",
       "      <td>NU</td>\n",
       "      <td>sometimes</td>\n",
       "      <td>NU</td>\n",
       "      <td>sometimes</td>\n",
       "      <td>NU</td>\n",
       "    </tr>\n",
       "    <tr>\n",
       "      <th>4</th>\n",
       "      <td>voice008</td>\n",
       "      <td>51</td>\n",
       "      <td>f</td>\n",
       "      <td>reflux laryngitis</td>\n",
       "      <td>Researcher</td>\n",
       "      <td>19</td>\n",
       "      <td>15</td>\n",
       "      <td>no</td>\n",
       "      <td>NU</td>\n",
       "      <td>casual drinker</td>\n",
       "      <td>...</td>\n",
       "      <td>NU</td>\n",
       "      <td>almost always</td>\n",
       "      <td>always</td>\n",
       "      <td>2</td>\n",
       "      <td>almost always</td>\n",
       "      <td>20g</td>\n",
       "      <td>sometimes</td>\n",
       "      <td>100 gr</td>\n",
       "      <td>almost always</td>\n",
       "      <td>1</td>\n",
       "    </tr>\n",
       "  </tbody>\n",
       "</table>\n",
       "<p>5 rows × 24 columns</p>\n",
       "</div>"
      ],
      "text/plain": [
       "         id age gender               diagnosis occupation status vhi score  \\\n",
       "0  voice100  24      m                 healthy                NU         0   \n",
       "1  voice101  60      m                 healthy                NU        80   \n",
       "2  voice192  22      m  hyperkinetic dysphonia              Cook         0   \n",
       "3  voice193  46      f  hyperkinetic dysphonia         Housewife         0   \n",
       "4  voice008  51      f       reflux laryngitis        Researcher        19   \n",
       "\n",
       "  rsi score smoker cigarettes per day alcohol consumption  ...  \\\n",
       "0         5     no                 NU      casual drinker  ...   \n",
       "1        10     no                 NU          nondrinker  ...   \n",
       "2        10     no                 NU          nondrinker  ...   \n",
       "3        36    yes                 15      casual drinker  ...   \n",
       "4        15     no                 NU      casual drinker  ...   \n",
       "\n",
       "  carbonated per day       tomatoes  coffee coffee per day      chocolate  \\\n",
       "0                 NU          never  always              3      sometimes   \n",
       "1                 NU      sometimes  always              4      sometimes   \n",
       "2                 NU      sometimes  always             NU         always   \n",
       "3                 NU      sometimes  always              2      sometimes   \n",
       "4                 NU  almost always  always              2  almost always   \n",
       "\n",
       "  chocolate grams per day    soft cheese soft cheese per day  citrus fruits  \\\n",
       "0                      NU  almost always                  NU          never   \n",
       "1                      NU      sometimes                  NU          never   \n",
       "2                      NU      sometimes                  NU  almost always   \n",
       "3                      NU      sometimes                  NU      sometimes   \n",
       "4                     20g      sometimes              100 gr  almost always   \n",
       "\n",
       "  citrus fruits per day  \n",
       "0                    NU  \n",
       "1                    NU  \n",
       "2                    NU  \n",
       "3                    NU  \n",
       "4                     1  \n",
       "\n",
       "[5 rows x 24 columns]"
      ]
     },
     "execution_count": 15,
     "metadata": {},
     "output_type": "execute_result"
    }
   ],
   "source": [
    "# Simplify the column names\n",
    "renamed_df = renamed_df.rename(columns={\n",
    "    'voice handicap index (vhi) score': 'vhi score',\n",
    "    'reflux symptom index (rsi) score': 'rsi score',\n",
    "    'number of cigarettes smoked per day': 'cigarettes per day',\n",
    "    'number of glasses containing alcoholic beverage drinked in a day': 'alcohol per day',\n",
    "    \"amount of water's litres drink every day\": 'water litres per day',\n",
    "    'amount of glasses drinked in a day': 'carbonated per day',\n",
    "    'number of cups of coffee drinked in a day': 'coffee per day',\n",
    "    'gramme of chocolate eaten in  a day': 'chocolate grams per day',\n",
    "    'gramme of soft cheese eaten in a day': 'soft cheese per day',\n",
    "    'number of citrus fruits eaten in a day': 'citrus fruits per day'\n",
    "})\n",
    "\n",
    "# Display the updated DataFrame\n",
    "renamed_df.head()"
   ]
  },
  {
   "cell_type": "code",
   "execution_count": 16,
   "id": "5c6f7ace-7162-483d-8206-d94e496d2cdb",
   "metadata": {
    "scrolled": true
   },
   "outputs": [
    {
     "data": {
      "text/html": [
       "<div>\n",
       "<style scoped>\n",
       "    .dataframe tbody tr th:only-of-type {\n",
       "        vertical-align: middle;\n",
       "    }\n",
       "\n",
       "    .dataframe tbody tr th {\n",
       "        vertical-align: top;\n",
       "    }\n",
       "\n",
       "    .dataframe thead th {\n",
       "        text-align: right;\n",
       "    }\n",
       "</style>\n",
       "<table border=\"1\" class=\"dataframe\">\n",
       "  <thead>\n",
       "    <tr style=\"text-align: right;\">\n",
       "      <th></th>\n",
       "      <th>id</th>\n",
       "      <th>age</th>\n",
       "      <th>gender</th>\n",
       "      <th>diagnosis</th>\n",
       "      <th>occupation_status</th>\n",
       "      <th>vhi_score</th>\n",
       "      <th>rsi_score</th>\n",
       "      <th>smoker</th>\n",
       "      <th>cigarettes_pd</th>\n",
       "      <th>alcohol_consumption</th>\n",
       "      <th>...</th>\n",
       "      <th>carbonated_pd</th>\n",
       "      <th>tomatoes</th>\n",
       "      <th>coffee</th>\n",
       "      <th>coffee_pd</th>\n",
       "      <th>chocolate</th>\n",
       "      <th>chocolate_grams_pd</th>\n",
       "      <th>soft_cheese</th>\n",
       "      <th>soft_cheese_pd</th>\n",
       "      <th>citrus_fruits</th>\n",
       "      <th>citrus_fruits_pd</th>\n",
       "    </tr>\n",
       "  </thead>\n",
       "  <tbody>\n",
       "    <tr>\n",
       "      <th>0</th>\n",
       "      <td>voice100</td>\n",
       "      <td>24</td>\n",
       "      <td>m</td>\n",
       "      <td>healthy</td>\n",
       "      <td>NU</td>\n",
       "      <td>0</td>\n",
       "      <td>5</td>\n",
       "      <td>no</td>\n",
       "      <td>NU</td>\n",
       "      <td>casual drinker</td>\n",
       "      <td>...</td>\n",
       "      <td>NU</td>\n",
       "      <td>never</td>\n",
       "      <td>always</td>\n",
       "      <td>3</td>\n",
       "      <td>sometimes</td>\n",
       "      <td>NU</td>\n",
       "      <td>almost always</td>\n",
       "      <td>NU</td>\n",
       "      <td>never</td>\n",
       "      <td>NU</td>\n",
       "    </tr>\n",
       "    <tr>\n",
       "      <th>1</th>\n",
       "      <td>voice101</td>\n",
       "      <td>60</td>\n",
       "      <td>m</td>\n",
       "      <td>healthy</td>\n",
       "      <td>NU</td>\n",
       "      <td>80</td>\n",
       "      <td>10</td>\n",
       "      <td>no</td>\n",
       "      <td>NU</td>\n",
       "      <td>nondrinker</td>\n",
       "      <td>...</td>\n",
       "      <td>NU</td>\n",
       "      <td>sometimes</td>\n",
       "      <td>always</td>\n",
       "      <td>4</td>\n",
       "      <td>sometimes</td>\n",
       "      <td>NU</td>\n",
       "      <td>sometimes</td>\n",
       "      <td>NU</td>\n",
       "      <td>never</td>\n",
       "      <td>NU</td>\n",
       "    </tr>\n",
       "    <tr>\n",
       "      <th>2</th>\n",
       "      <td>voice192</td>\n",
       "      <td>22</td>\n",
       "      <td>m</td>\n",
       "      <td>hyperkinetic dysphonia</td>\n",
       "      <td>Cook</td>\n",
       "      <td>0</td>\n",
       "      <td>10</td>\n",
       "      <td>no</td>\n",
       "      <td>NU</td>\n",
       "      <td>nondrinker</td>\n",
       "      <td>...</td>\n",
       "      <td>NU</td>\n",
       "      <td>sometimes</td>\n",
       "      <td>always</td>\n",
       "      <td>NU</td>\n",
       "      <td>always</td>\n",
       "      <td>NU</td>\n",
       "      <td>sometimes</td>\n",
       "      <td>NU</td>\n",
       "      <td>almost always</td>\n",
       "      <td>NU</td>\n",
       "    </tr>\n",
       "    <tr>\n",
       "      <th>3</th>\n",
       "      <td>voice193</td>\n",
       "      <td>46</td>\n",
       "      <td>f</td>\n",
       "      <td>hyperkinetic dysphonia</td>\n",
       "      <td>Housewife</td>\n",
       "      <td>0</td>\n",
       "      <td>36</td>\n",
       "      <td>yes</td>\n",
       "      <td>15</td>\n",
       "      <td>casual drinker</td>\n",
       "      <td>...</td>\n",
       "      <td>NU</td>\n",
       "      <td>sometimes</td>\n",
       "      <td>always</td>\n",
       "      <td>2</td>\n",
       "      <td>sometimes</td>\n",
       "      <td>NU</td>\n",
       "      <td>sometimes</td>\n",
       "      <td>NU</td>\n",
       "      <td>sometimes</td>\n",
       "      <td>NU</td>\n",
       "    </tr>\n",
       "    <tr>\n",
       "      <th>4</th>\n",
       "      <td>voice008</td>\n",
       "      <td>51</td>\n",
       "      <td>f</td>\n",
       "      <td>reflux laryngitis</td>\n",
       "      <td>Researcher</td>\n",
       "      <td>19</td>\n",
       "      <td>15</td>\n",
       "      <td>no</td>\n",
       "      <td>NU</td>\n",
       "      <td>casual drinker</td>\n",
       "      <td>...</td>\n",
       "      <td>NU</td>\n",
       "      <td>almost always</td>\n",
       "      <td>always</td>\n",
       "      <td>2</td>\n",
       "      <td>almost always</td>\n",
       "      <td>20g</td>\n",
       "      <td>sometimes</td>\n",
       "      <td>100 gr</td>\n",
       "      <td>almost always</td>\n",
       "      <td>1</td>\n",
       "    </tr>\n",
       "  </tbody>\n",
       "</table>\n",
       "<p>5 rows × 24 columns</p>\n",
       "</div>"
      ],
      "text/plain": [
       "         id age gender               diagnosis occupation_status vhi_score  \\\n",
       "0  voice100  24      m                 healthy                NU         0   \n",
       "1  voice101  60      m                 healthy                NU        80   \n",
       "2  voice192  22      m  hyperkinetic dysphonia              Cook         0   \n",
       "3  voice193  46      f  hyperkinetic dysphonia         Housewife         0   \n",
       "4  voice008  51      f       reflux laryngitis        Researcher        19   \n",
       "\n",
       "  rsi_score smoker cigarettes_pd alcohol_consumption  ... carbonated_pd  \\\n",
       "0         5     no            NU      casual drinker  ...            NU   \n",
       "1        10     no            NU          nondrinker  ...            NU   \n",
       "2        10     no            NU          nondrinker  ...            NU   \n",
       "3        36    yes            15      casual drinker  ...            NU   \n",
       "4        15     no            NU      casual drinker  ...            NU   \n",
       "\n",
       "        tomatoes  coffee coffee_pd      chocolate chocolate_grams_pd  \\\n",
       "0          never  always         3      sometimes                 NU   \n",
       "1      sometimes  always         4      sometimes                 NU   \n",
       "2      sometimes  always        NU         always                 NU   \n",
       "3      sometimes  always         2      sometimes                 NU   \n",
       "4  almost always  always         2  almost always                20g   \n",
       "\n",
       "     soft_cheese soft_cheese_pd  citrus_fruits citrus_fruits_pd  \n",
       "0  almost always             NU          never               NU  \n",
       "1      sometimes             NU          never               NU  \n",
       "2      sometimes             NU  almost always               NU  \n",
       "3      sometimes             NU      sometimes               NU  \n",
       "4      sometimes         100 gr  almost always                1  \n",
       "\n",
       "[5 rows x 24 columns]"
      ]
     },
     "execution_count": 16,
     "metadata": {},
     "output_type": "execute_result"
    }
   ],
   "source": [
    "# Convert 'per day' to pd\n",
    "renamed_cols = list(renamed_df.columns)\n",
    "\n",
    "updated_cols = []\n",
    "# Update each column\n",
    "for col in renamed_cols:\n",
    "    col = col.replace(\"per day\", \"pd\")\n",
    "    col = col.replace(\" \", \"_\")\n",
    "    updated_cols.append(col)\n",
    "\n",
    "# Set the updated columns\n",
    "renamed_df.columns = updated_cols\n",
    "\n",
    "# Display the updated DataFrame\n",
    "renamed_df.head()"
   ]
  },
  {
   "cell_type": "markdown",
   "id": "6d784c5e-ae16-454f-9b8d-415695331a08",
   "metadata": {},
   "source": [
    "### Convert `NU` values to `NaN`"
   ]
  },
  {
   "cell_type": "code",
   "execution_count": 17,
   "id": "ae1af8f9-e88f-4218-83c3-e5376caab812",
   "metadata": {
    "tags": []
   },
   "outputs": [
    {
     "name": "stdout",
     "output_type": "stream",
     "text": [
      "<class 'pandas.core.frame.DataFrame'>\n",
      "Index: 204 entries, 0 to 207\n",
      "Data columns (total 24 columns):\n",
      " #   Column                Non-Null Count  Dtype \n",
      "---  ------                --------------  ----- \n",
      " 0   id                    204 non-null    object\n",
      " 1   age                   204 non-null    object\n",
      " 2   gender                204 non-null    object\n",
      " 3   diagnosis             204 non-null    object\n",
      " 4   occupation_status     163 non-null    object\n",
      " 5   vhi_score             204 non-null    object\n",
      " 6   rsi_score             204 non-null    object\n",
      " 7   smoker                204 non-null    object\n",
      " 8   cigarettes_pd         41 non-null     object\n",
      " 9   alcohol_consumption   204 non-null    object\n",
      " 10  alcohol_pd            25 non-null     object\n",
      " 11  water_litres_pd       204 non-null    object\n",
      " 12  eating_habits         204 non-null    object\n",
      " 13  carbonated_beverages  204 non-null    object\n",
      " 14  carbonated_pd         21 non-null     object\n",
      " 15  tomatoes              204 non-null    object\n",
      " 16  coffee                204 non-null    object\n",
      " 17  coffee_pd             168 non-null    object\n",
      " 18  chocolate             204 non-null    object\n",
      " 19  chocolate_grams_pd    32 non-null     object\n",
      " 20  soft_cheese           204 non-null    object\n",
      " 21  soft_cheese_pd        31 non-null     object\n",
      " 22  citrus_fruits         204 non-null    object\n",
      " 23  citrus_fruits_pd      47 non-null     object\n",
      "dtypes: object(24)\n",
      "memory usage: 39.8+ KB\n"
     ]
    }
   ],
   "source": [
    "# Create a copy of renamed\n",
    "updated_df = renamed_df.copy()\n",
    "\n",
    "# Convert the 'NU' values to 'NaN'\n",
    "updated_df = updated_df.replace(\"NU\", np.nan)\n",
    "\n",
    "# Check the updated DataFrame info\n",
    "updated_df.info()"
   ]
  },
  {
   "cell_type": "code",
   "execution_count": 18,
   "id": "c664a81b-b72a-4526-9df5-c4083196e878",
   "metadata": {
    "scrolled": true
   },
   "outputs": [
    {
     "data": {
      "text/html": [
       "<div>\n",
       "<style scoped>\n",
       "    .dataframe tbody tr th:only-of-type {\n",
       "        vertical-align: middle;\n",
       "    }\n",
       "\n",
       "    .dataframe tbody tr th {\n",
       "        vertical-align: top;\n",
       "    }\n",
       "\n",
       "    .dataframe thead th {\n",
       "        text-align: right;\n",
       "    }\n",
       "</style>\n",
       "<table border=\"1\" class=\"dataframe\">\n",
       "  <thead>\n",
       "    <tr style=\"text-align: right;\">\n",
       "      <th></th>\n",
       "      <th>occupation_status</th>\n",
       "      <th>cigarettes_pd</th>\n",
       "      <th>alcohol_pd</th>\n",
       "      <th>carbonated_pd</th>\n",
       "      <th>coffee_pd</th>\n",
       "      <th>chocolate_grams_pd</th>\n",
       "      <th>soft_cheese_pd</th>\n",
       "      <th>citrus_fruits_pd</th>\n",
       "    </tr>\n",
       "  </thead>\n",
       "  <tbody>\n",
       "    <tr>\n",
       "      <th>0</th>\n",
       "      <td>NaN</td>\n",
       "      <td>NaN</td>\n",
       "      <td>NaN</td>\n",
       "      <td>NaN</td>\n",
       "      <td>3</td>\n",
       "      <td>NaN</td>\n",
       "      <td>NaN</td>\n",
       "      <td>NaN</td>\n",
       "    </tr>\n",
       "    <tr>\n",
       "      <th>1</th>\n",
       "      <td>NaN</td>\n",
       "      <td>NaN</td>\n",
       "      <td>NaN</td>\n",
       "      <td>NaN</td>\n",
       "      <td>4</td>\n",
       "      <td>NaN</td>\n",
       "      <td>NaN</td>\n",
       "      <td>NaN</td>\n",
       "    </tr>\n",
       "    <tr>\n",
       "      <th>2</th>\n",
       "      <td>Cook</td>\n",
       "      <td>NaN</td>\n",
       "      <td>NaN</td>\n",
       "      <td>NaN</td>\n",
       "      <td>NaN</td>\n",
       "      <td>NaN</td>\n",
       "      <td>NaN</td>\n",
       "      <td>NaN</td>\n",
       "    </tr>\n",
       "    <tr>\n",
       "      <th>3</th>\n",
       "      <td>Housewife</td>\n",
       "      <td>15</td>\n",
       "      <td>NaN</td>\n",
       "      <td>NaN</td>\n",
       "      <td>2</td>\n",
       "      <td>NaN</td>\n",
       "      <td>NaN</td>\n",
       "      <td>NaN</td>\n",
       "    </tr>\n",
       "    <tr>\n",
       "      <th>4</th>\n",
       "      <td>Researcher</td>\n",
       "      <td>NaN</td>\n",
       "      <td>NaN</td>\n",
       "      <td>NaN</td>\n",
       "      <td>2</td>\n",
       "      <td>20g</td>\n",
       "      <td>100 gr</td>\n",
       "      <td>1</td>\n",
       "    </tr>\n",
       "  </tbody>\n",
       "</table>\n",
       "</div>"
      ],
      "text/plain": [
       "  occupation_status cigarettes_pd alcohol_pd carbonated_pd coffee_pd  \\\n",
       "0               NaN           NaN        NaN           NaN         3   \n",
       "1               NaN           NaN        NaN           NaN         4   \n",
       "2              Cook           NaN        NaN           NaN       NaN   \n",
       "3         Housewife            15        NaN           NaN         2   \n",
       "4        Researcher           NaN        NaN           NaN         2   \n",
       "\n",
       "  chocolate_grams_pd soft_cheese_pd citrus_fruits_pd  \n",
       "0                NaN            NaN              NaN  \n",
       "1                NaN            NaN              NaN  \n",
       "2                NaN            NaN              NaN  \n",
       "3                NaN            NaN              NaN  \n",
       "4                20g         100 gr                1  "
      ]
     },
     "execution_count": 18,
     "metadata": {},
     "output_type": "execute_result"
    }
   ],
   "source": [
    "# Display the columns with null values\n",
    "cols_with_null = updated_df.columns[updated_df.isnull().any()]\n",
    "\n",
    "# Display as a DataFrame\n",
    "updated_nulls_df = updated_df[cols_with_null]\n",
    "updated_nulls_df.head()"
   ]
  },
  {
   "cell_type": "markdown",
   "id": "550d33f3-24fa-4dc7-9f0f-94bd27a12752",
   "metadata": {},
   "source": [
    "### Clean categorical columns\n",
    "- Except `diagnosis`, do this separately."
   ]
  },
  {
   "cell_type": "markdown",
   "id": "f4b11ffd-a1c7-4bd8-8da0-40912ca4d6e1",
   "metadata": {},
   "source": [
    "#### `gender` column"
   ]
  },
  {
   "cell_type": "code",
   "execution_count": 19,
   "id": "e6f50db5-8adf-411d-9688-d89a1b56d604",
   "metadata": {
    "scrolled": true
   },
   "outputs": [
    {
     "data": {
      "text/plain": [
       "gender\n",
       "f    134\n",
       "m     70\n",
       "Name: count, dtype: int64"
      ]
     },
     "execution_count": 19,
     "metadata": {},
     "output_type": "execute_result"
    }
   ],
   "source": [
    "# Check the gender column\n",
    "updated_df['gender'].value_counts(dropna=False)"
   ]
  },
  {
   "cell_type": "markdown",
   "id": "d5c16c5d-c36b-4b73-a4e4-fbbbd987b757",
   "metadata": {},
   "source": [
    "__NOTE__: `gender` column does not require cleaning.\n",
    "___"
   ]
  },
  {
   "cell_type": "markdown",
   "id": "1a531ba4-054a-4f68-b343-8fa022161684",
   "metadata": {},
   "source": [
    "#### `occupation_status` column"
   ]
  },
  {
   "cell_type": "code",
   "execution_count": 20,
   "id": "d7be2e72-4b4b-4278-a0ec-b19801e97a16",
   "metadata": {
    "scrolled": true
   },
   "outputs": [
    {
     "data": {
      "text/plain": [
       "occupation_status\n",
       "NaN                     41\n",
       "Researcher              41\n",
       "Employee                25\n",
       "Housewife               23\n",
       "Student                 16\n",
       "Technical operator      12\n",
       "Singer                  10\n",
       "Pensioner                6\n",
       "Doctor                   5\n",
       "Teacher                  4\n",
       "Merchant                 4\n",
       "Hairstylist              2\n",
       "Secretary                2\n",
       "Unemployed               1\n",
       "Male nurse               1\n",
       "Cook                     1\n",
       "Comptroller              1\n",
       "Call center operator     1\n",
       "Auto electrician         1\n",
       "Fireman                  1\n",
       "Beautician               1\n",
       "Driver                   1\n",
       "Blacksmith               1\n",
       "Italian police           1\n",
       "Librarian                1\n",
       "Cobbler                  1\n",
       "Name: count, dtype: int64"
      ]
     },
     "execution_count": 20,
     "metadata": {},
     "output_type": "execute_result"
    }
   ],
   "source": [
    "updated_df['occupation_status'].value_counts(dropna=False)"
   ]
  },
  {
   "cell_type": "code",
   "execution_count": 21,
   "id": "c40110be-e212-4621-8fc0-e658147077df",
   "metadata": {
    "scrolled": true
   },
   "outputs": [
    {
     "data": {
      "text/plain": [
       "occupation_status\n",
       "unknown                 41\n",
       "researcher              41\n",
       "employee                25\n",
       "housewife               23\n",
       "student                 16\n",
       "technical operator      12\n",
       "singer                  10\n",
       "pensioner                6\n",
       "doctor                   5\n",
       "teacher                  4\n",
       "merchant                 4\n",
       "hairstylist              2\n",
       "secretary                2\n",
       "unemployed               1\n",
       "male nurse               1\n",
       "cook                     1\n",
       "comptroller              1\n",
       "call center operator     1\n",
       "auto electrician         1\n",
       "fireman                  1\n",
       "beautician               1\n",
       "driver                   1\n",
       "blacksmith               1\n",
       "italian police           1\n",
       "librarian                1\n",
       "cobbler                  1\n",
       "Name: count, dtype: int64"
      ]
     },
     "execution_count": 21,
     "metadata": {},
     "output_type": "execute_result"
    }
   ],
   "source": [
    "# Replace null values with 'Unknown'\n",
    "updated_df['occupation_status'] = updated_df[\n",
    "    'occupation_status'].fillna('Unknown')\n",
    "\n",
    "# Convert all to lowercase\n",
    "updated_df['occupation_status'] = updated_df[\n",
    "    'occupation_status'].apply(str.lower)\n",
    "\n",
    "# Confirm changes\n",
    "updated_df['occupation_status'].value_counts(dropna=False)"
   ]
  },
  {
   "cell_type": "markdown",
   "id": "ba444efe-a9a9-4d93-9538-2cea27c73635",
   "metadata": {},
   "source": [
    "__NOTE__: Will need to bin these values to maximum of 10 unique if used as a feature.\n",
    "___"
   ]
  },
  {
   "cell_type": "markdown",
   "id": "498e723b-7b20-47ac-87e3-86784be2d14e",
   "metadata": {},
   "source": [
    "#### `smoker` column"
   ]
  },
  {
   "cell_type": "code",
   "execution_count": 22,
   "id": "4bc43bf6-5774-46dc-b262-332a2dfee5df",
   "metadata": {
    "scrolled": true
   },
   "outputs": [
    {
     "data": {
      "text/plain": [
       "smoker\n",
       "no               96\n",
       "No               54\n",
       "yes              43\n",
       "casual smoker    11\n",
       "Name: count, dtype: int64"
      ]
     },
     "execution_count": 22,
     "metadata": {},
     "output_type": "execute_result"
    }
   ],
   "source": [
    "# Check the smoker column\n",
    "updated_df['smoker'].value_counts(dropna=False)"
   ]
  },
  {
   "cell_type": "code",
   "execution_count": 23,
   "id": "68a66585-3817-4b99-b524-0752f1a727f9",
   "metadata": {
    "scrolled": true
   },
   "outputs": [
    {
     "data": {
      "text/plain": [
       "smoker\n",
       "no        150\n",
       "yes        43\n",
       "casual     11\n",
       "Name: count, dtype: int64"
      ]
     },
     "execution_count": 23,
     "metadata": {},
     "output_type": "execute_result"
    }
   ],
   "source": [
    "# Convert the 'No' to 'no'\n",
    "updated_df['smoker'] = updated_df[\n",
    "    'smoker'].str.replace('No', 'no')\n",
    "\n",
    "# Convert 'casual smoker' to 'casual'\n",
    "updated_df['smoker'] = updated_df[\n",
    "    'smoker'].str.replace('casual smoker', 'casual')\n",
    "\n",
    "# Display the updated values\n",
    "updated_df['smoker'].value_counts(dropna=False)"
   ]
  },
  {
   "cell_type": "markdown",
   "id": "082c5947-daa7-4b72-97c6-39e5da3df396",
   "metadata": {},
   "source": [
    "Plan for encoding the `smoker` column\n",
    "- `0` for `no`\n",
    "- `1` for `casual`\n",
    "- `2` for `yes`\n",
    "___"
   ]
  },
  {
   "cell_type": "markdown",
   "id": "1239982f-8be5-47e6-a873-040f7a57be97",
   "metadata": {},
   "source": [
    "#### `alcohol_consumption` column"
   ]
  },
  {
   "cell_type": "code",
   "execution_count": 24,
   "id": "f4f5e9e7-3c5f-4c7b-92eb-cd2420f66aef",
   "metadata": {
    "scrolled": true
   },
   "outputs": [
    {
     "data": {
      "text/plain": [
       "alcohol_consumption\n",
       "casual drinker      99\n",
       "nondrinker          82\n",
       "habitual drinker    23\n",
       "Name: count, dtype: int64"
      ]
     },
     "execution_count": 24,
     "metadata": {},
     "output_type": "execute_result"
    }
   ],
   "source": [
    "# Check the alcohol_consumption column\n",
    "updated_df['alcohol_consumption'].value_counts(dropna=False)"
   ]
  },
  {
   "cell_type": "markdown",
   "id": "d308b5e2-58ab-485c-a3cd-23983d1b85e0",
   "metadata": {},
   "source": [
    "__NOTE__: `alcohol_consumption` column - cleaning required."
   ]
  },
  {
   "cell_type": "code",
   "execution_count": 25,
   "id": "c3fd93a0-28c7-4288-a364-2713b7f38c44",
   "metadata": {
    "scrolled": true
   },
   "outputs": [
    {
     "data": {
      "text/plain": [
       "alcohol_consumption\n",
       "casual        99\n",
       "nondrinker    82\n",
       "habitual      23\n",
       "Name: count, dtype: int64"
      ]
     },
     "execution_count": 25,
     "metadata": {},
     "output_type": "execute_result"
    }
   ],
   "source": [
    "# Simplify the values for alcohol_consumption\n",
    "updated_df['alcohol_consumption'] = updated_df[\n",
    "    'alcohol_consumption'].str.replace(\" drinker\", \"\")\n",
    "\n",
    "# Check the updated values\n",
    "updated_df['alcohol_consumption'].value_counts(dropna=False)"
   ]
  },
  {
   "cell_type": "markdown",
   "id": "d79149db-6ea0-4609-a234-dc028c9bec32",
   "metadata": {},
   "source": [
    "Plan for encoding `alcohol_consumption` column\n",
    "- `0` for `nondrinker`\n",
    "- `1` for `casual`\n",
    "- `2` for `habitual`\n",
    "___"
   ]
  },
  {
   "cell_type": "markdown",
   "id": "d62c36ef-b00b-4624-a06a-b05b39f2d17c",
   "metadata": {},
   "source": [
    "#### `eating_habits` column"
   ]
  },
  {
   "cell_type": "code",
   "execution_count": 26,
   "id": "9e5e7c57-8666-4452-87c7-71b0f98627fc",
   "metadata": {
    "scrolled": true
   },
   "outputs": [
    {
     "data": {
      "text/plain": [
       "0       \n",
       "1       \n",
       "2       \n",
       "3       \n",
       "4       \n",
       "      ..\n",
       "203     \n",
       "204     \n",
       "205     \n",
       "206     \n",
       "207     \n",
       "Name: eating_habits, Length: 204, dtype: object"
      ]
     },
     "execution_count": 26,
     "metadata": {},
     "output_type": "execute_result"
    }
   ],
   "source": [
    "# Check the eating_habits column\n",
    "updated_df['eating_habits']"
   ]
  },
  {
   "cell_type": "code",
   "execution_count": 27,
   "id": "1e9e1eda-211e-42fb-b1b6-dde5341a1e93",
   "metadata": {
    "scrolled": true
   },
   "outputs": [],
   "source": [
    "# Header in the text file, drop column\n",
    "updated_df = updated_df.drop(columns=['eating_habits'])"
   ]
  },
  {
   "cell_type": "code",
   "execution_count": 28,
   "id": "a2ee3485-cea4-4813-abd2-605e6e0f55ac",
   "metadata": {
    "scrolled": true
   },
   "outputs": [
    {
     "name": "stdout",
     "output_type": "stream",
     "text": [
      "['almost always', 'never', 'sometimes', 'almost never', 'always']\n"
     ]
    }
   ],
   "source": [
    "# Check the eating habits columns\n",
    "eating_habits = [\n",
    "    'carbonated_beverages',\n",
    "    'tomatoes',\n",
    "    'coffee',\n",
    "    'chocolate',\n",
    "    'soft_cheese',\n",
    "    'citrus_fruits'\n",
    "]\n",
    "\n",
    "# Check unique values\n",
    "unique_list = []\n",
    "for col in eating_habits:\n",
    "    unique_values = updated_df[col].unique()\n",
    "    for val in unique_values:\n",
    "        if val not in unique_list:\n",
    "            unique_list.append(val)\n",
    "print(unique_list)"
   ]
  },
  {
   "cell_type": "markdown",
   "id": "6a8a150a-11af-4148-bba2-0c3529500589",
   "metadata": {},
   "source": [
    "Encode the eating habits columns:\n",
    "- `0` for `never`\n",
    "- `1` for `almost_never`\n",
    "- `2` for `sometimes`\n",
    "- `3` for `almost_always`\n",
    "- `4` for `always`\n",
    "___"
   ]
  },
  {
   "cell_type": "code",
   "execution_count": 29,
   "id": "0a041476-2764-4691-a11c-0b54e0ef3e72",
   "metadata": {
    "scrolled": true
   },
   "outputs": [],
   "source": [
    "# Create a `clean_cat_df`\n",
    "clean_cat_df = updated_df.copy()"
   ]
  },
  {
   "cell_type": "markdown",
   "id": "cb93d5b7-ebfd-4c10-b47a-69085036d51c",
   "metadata": {},
   "source": [
    "### Clean numerical columns"
   ]
  },
  {
   "cell_type": "code",
   "execution_count": 30,
   "id": "aa237d66-f868-4cc8-972d-ebaae524cc19",
   "metadata": {
    "scrolled": true
   },
   "outputs": [
    {
     "name": "stdout",
     "output_type": "stream",
     "text": [
      "<class 'pandas.core.frame.DataFrame'>\n",
      "Index: 204 entries, 0 to 207\n",
      "Data columns (total 23 columns):\n",
      " #   Column                Non-Null Count  Dtype \n",
      "---  ------                --------------  ----- \n",
      " 0   id                    204 non-null    object\n",
      " 1   age                   204 non-null    int64 \n",
      " 2   gender                204 non-null    object\n",
      " 3   diagnosis             204 non-null    object\n",
      " 4   occupation_status     204 non-null    object\n",
      " 5   vhi_score             204 non-null    int64 \n",
      " 6   rsi_score             204 non-null    int64 \n",
      " 7   smoker                204 non-null    object\n",
      " 8   cigarettes_pd         41 non-null     object\n",
      " 9   alcohol_consumption   204 non-null    object\n",
      " 10  alcohol_pd            25 non-null     object\n",
      " 11  water_litres_pd       204 non-null    object\n",
      " 12  carbonated_beverages  204 non-null    object\n",
      " 13  carbonated_pd         21 non-null     object\n",
      " 14  tomatoes              204 non-null    object\n",
      " 15  coffee                204 non-null    object\n",
      " 16  coffee_pd             168 non-null    object\n",
      " 17  chocolate             204 non-null    object\n",
      " 18  chocolate_grams_pd    32 non-null     object\n",
      " 19  soft_cheese           204 non-null    object\n",
      " 20  soft_cheese_pd        31 non-null     object\n",
      " 21  citrus_fruits         204 non-null    object\n",
      " 22  citrus_fruits_pd      47 non-null     object\n",
      "dtypes: int64(3), object(20)\n",
      "memory usage: 38.2+ KB\n"
     ]
    }
   ],
   "source": [
    "# Isolate columns to convert to int type\n",
    "convert_cols = ['age', 'vhi_score', 'rsi_score']\n",
    "\n",
    "# Convert columns to int\n",
    "clean_cat_df[convert_cols] = clean_cat_df[convert_cols].astype(int)\n",
    "\n",
    "# Confirm changes\n",
    "clean_cat_df.info()"
   ]
  },
  {
   "cell_type": "markdown",
   "id": "43bc5599-a91a-4d2f-b0c0-db8f34c45cd3",
   "metadata": {},
   "source": [
    "#### `cigarettes_pd` column"
   ]
  },
  {
   "cell_type": "code",
   "execution_count": 31,
   "id": "77980ca2-d3d0-4211-8e24-0737ea53ac9b",
   "metadata": {
    "scrolled": true
   },
   "outputs": [
    {
     "data": {
      "text/html": [
       "<div>\n",
       "<style scoped>\n",
       "    .dataframe tbody tr th:only-of-type {\n",
       "        vertical-align: middle;\n",
       "    }\n",
       "\n",
       "    .dataframe tbody tr th {\n",
       "        vertical-align: top;\n",
       "    }\n",
       "\n",
       "    .dataframe thead th {\n",
       "        text-align: right;\n",
       "    }\n",
       "</style>\n",
       "<table border=\"1\" class=\"dataframe\">\n",
       "  <thead>\n",
       "    <tr style=\"text-align: right;\">\n",
       "      <th></th>\n",
       "      <th>smoker</th>\n",
       "      <th>cigarettes_pd</th>\n",
       "    </tr>\n",
       "  </thead>\n",
       "  <tbody>\n",
       "    <tr>\n",
       "      <th>0</th>\n",
       "      <td>no</td>\n",
       "      <td>NaN</td>\n",
       "    </tr>\n",
       "    <tr>\n",
       "      <th>1</th>\n",
       "      <td>no</td>\n",
       "      <td>NaN</td>\n",
       "    </tr>\n",
       "    <tr>\n",
       "      <th>2</th>\n",
       "      <td>no</td>\n",
       "      <td>NaN</td>\n",
       "    </tr>\n",
       "    <tr>\n",
       "      <th>3</th>\n",
       "      <td>yes</td>\n",
       "      <td>15</td>\n",
       "    </tr>\n",
       "    <tr>\n",
       "      <th>4</th>\n",
       "      <td>no</td>\n",
       "      <td>NaN</td>\n",
       "    </tr>\n",
       "  </tbody>\n",
       "</table>\n",
       "</div>"
      ],
      "text/plain": [
       "  smoker cigarettes_pd\n",
       "0     no           NaN\n",
       "1     no           NaN\n",
       "2     no           NaN\n",
       "3    yes            15\n",
       "4     no           NaN"
      ]
     },
     "execution_count": 31,
     "metadata": {},
     "output_type": "execute_result"
    }
   ],
   "source": [
    "# Check the smoker and cigarettes_pd columns\n",
    "smoker_columns = ['smoker', 'cigarettes_pd']\n",
    "clean_cat_df[smoker_columns].head()"
   ]
  },
  {
   "cell_type": "code",
   "execution_count": 32,
   "id": "a08f30de-4917-45a2-a6a2-645ef54bad42",
   "metadata": {
    "scrolled": true
   },
   "outputs": [
    {
     "data": {
      "text/html": [
       "<div>\n",
       "<style scoped>\n",
       "    .dataframe tbody tr th:only-of-type {\n",
       "        vertical-align: middle;\n",
       "    }\n",
       "\n",
       "    .dataframe tbody tr th {\n",
       "        vertical-align: top;\n",
       "    }\n",
       "\n",
       "    .dataframe thead th {\n",
       "        text-align: right;\n",
       "    }\n",
       "</style>\n",
       "<table border=\"1\" class=\"dataframe\">\n",
       "  <thead>\n",
       "    <tr style=\"text-align: right;\">\n",
       "      <th></th>\n",
       "      <th>smoker</th>\n",
       "      <th>cigarettes_pd</th>\n",
       "    </tr>\n",
       "  </thead>\n",
       "  <tbody>\n",
       "    <tr>\n",
       "      <th>40</th>\n",
       "      <td>yes</td>\n",
       "      <td>NaN</td>\n",
       "    </tr>\n",
       "    <tr>\n",
       "      <th>83</th>\n",
       "      <td>yes</td>\n",
       "      <td>NaN</td>\n",
       "    </tr>\n",
       "    <tr>\n",
       "      <th>138</th>\n",
       "      <td>yes</td>\n",
       "      <td>NaN</td>\n",
       "    </tr>\n",
       "    <tr>\n",
       "      <th>173</th>\n",
       "      <td>yes</td>\n",
       "      <td>NaN</td>\n",
       "    </tr>\n",
       "  </tbody>\n",
       "</table>\n",
       "</div>"
      ],
      "text/plain": [
       "    smoker cigarettes_pd\n",
       "40     yes           NaN\n",
       "83     yes           NaN\n",
       "138    yes           NaN\n",
       "173    yes           NaN"
      ]
     },
     "execution_count": 32,
     "metadata": {},
     "output_type": "execute_result"
    }
   ],
   "source": [
    "# Confirm the smokers have a valid value in the cigarettes_pd\n",
    "smoker_condition = clean_cat_df['smoker'] == 'yes'\n",
    "null_condition = clean_cat_df['cigarettes_pd'].isnull()\n",
    "smoker_null = (smoker_condition) & (null_condition)\n",
    "\n",
    "clean_cat_df.loc[smoker_null, smoker_columns]"
   ]
  },
  {
   "cell_type": "markdown",
   "id": "51cdefbd-e3a1-4cc8-998d-4dc58efa56ec",
   "metadata": {},
   "source": [
    "__NOTE__: `yes` smokers should have a value for `cigarettes_pd`. Define a method for imputation."
   ]
  },
  {
   "cell_type": "code",
   "execution_count": 33,
   "id": "d2db552c-64d1-42cc-82fa-4e563346465d",
   "metadata": {
    "scrolled": true
   },
   "outputs": [
    {
     "name": "stdout",
     "output_type": "stream",
     "text": [
      "Skewness: 1.030643653897744\n"
     ]
    },
    {
     "data": {
      "image/png": "[encoded data removed]",
      "text/plain": [
       "<Figure size 640x480 with 1 Axes>"
      ]
     },
     "metadata": {},
     "output_type": "display_data"
    }
   ],
   "source": [
    "# Set the row conditions\n",
    "notnull_condition = ~clean_cat_df['cigarettes_pd'].isnull()\n",
    "smoker_notnull = (smoker_condition) & (notnull_condition)\n",
    "\n",
    "# Create a copy of the series for plotting\n",
    "num_cigarettes_df = clean_cat_df[smoker_notnull]['cigarettes_pd'].copy()\n",
    "\n",
    "# Convert values for plotting\n",
    "check_data = num_cigarettes_df.fillna(0).astype(int)\n",
    "\n",
    "# Display a histogram of the cigarettes_pd column\n",
    "check_data.hist()\n",
    "plt.title('Smoker (yes) - Cigarettes per Day')\n",
    "\n",
    "# Check skewness\n",
    "print(f'Skewness: {skew(check_data)}')"
   ]
  },
  {
   "cell_type": "markdown",
   "id": "342537cd-4eb3-4078-95e8-9c8a88ea7435",
   "metadata": {},
   "source": [
    "__NOTE__: Skew value close to `1` means skewed to the right (shown in the histogram), use `median`."
   ]
  },
  {
   "cell_type": "code",
   "execution_count": 34,
   "id": "20ecdcac-1188-486f-bad9-55bd8c6b8753",
   "metadata": {
    "scrolled": true
   },
   "outputs": [
    {
     "name": "stdout",
     "output_type": "stream",
     "text": [
      "Median cigarettes per day for smokers: 15.0\n"
     ]
    }
   ],
   "source": [
    "# Calculate the median value (since skewed)\n",
    "smoker_median = clean_cat_df.loc[\n",
    "    smoker_notnull, 'cigarettes_pd'].astype(int).median()\n",
    "print(f'Median cigarettes per day for smokers: {smoker_median}')\n",
    "\n",
    "# Impute the missing values\n",
    "clean_cat_df.loc[smoker_null, 'cigarettes_pd'] = smoker_median"
   ]
  },
  {
   "cell_type": "code",
   "execution_count": 35,
   "id": "f0598460-5c4b-48ec-986f-d88a598e527d",
   "metadata": {
    "scrolled": true
   },
   "outputs": [
    {
     "data": {
      "text/html": [
       "<div>\n",
       "<style scoped>\n",
       "    .dataframe tbody tr th:only-of-type {\n",
       "        vertical-align: middle;\n",
       "    }\n",
       "\n",
       "    .dataframe tbody tr th {\n",
       "        vertical-align: top;\n",
       "    }\n",
       "\n",
       "    .dataframe thead th {\n",
       "        text-align: right;\n",
       "    }\n",
       "</style>\n",
       "<table border=\"1\" class=\"dataframe\">\n",
       "  <thead>\n",
       "    <tr style=\"text-align: right;\">\n",
       "      <th></th>\n",
       "      <th>id</th>\n",
       "      <th>age</th>\n",
       "      <th>gender</th>\n",
       "      <th>diagnosis</th>\n",
       "      <th>occupation_status</th>\n",
       "      <th>vhi_score</th>\n",
       "      <th>rsi_score</th>\n",
       "      <th>smoker</th>\n",
       "      <th>cigarettes_pd</th>\n",
       "      <th>alcohol_consumption</th>\n",
       "      <th>...</th>\n",
       "      <th>carbonated_pd</th>\n",
       "      <th>tomatoes</th>\n",
       "      <th>coffee</th>\n",
       "      <th>coffee_pd</th>\n",
       "      <th>chocolate</th>\n",
       "      <th>chocolate_grams_pd</th>\n",
       "      <th>soft_cheese</th>\n",
       "      <th>soft_cheese_pd</th>\n",
       "      <th>citrus_fruits</th>\n",
       "      <th>citrus_fruits_pd</th>\n",
       "    </tr>\n",
       "  </thead>\n",
       "  <tbody>\n",
       "    <tr>\n",
       "      <th>33</th>\n",
       "      <td>voice069</td>\n",
       "      <td>63</td>\n",
       "      <td>m</td>\n",
       "      <td>reflux laryngitis</td>\n",
       "      <td>employee</td>\n",
       "      <td>11</td>\n",
       "      <td>10</td>\n",
       "      <td>casual</td>\n",
       "      <td>NaN</td>\n",
       "      <td>nondrinker</td>\n",
       "      <td>...</td>\n",
       "      <td>NaN</td>\n",
       "      <td>sometimes</td>\n",
       "      <td>always</td>\n",
       "      <td>NaN</td>\n",
       "      <td>sometimes</td>\n",
       "      <td>NaN</td>\n",
       "      <td>always</td>\n",
       "      <td>NaN</td>\n",
       "      <td>sometimes</td>\n",
       "      <td>NaN</td>\n",
       "    </tr>\n",
       "    <tr>\n",
       "      <th>35</th>\n",
       "      <td>voice161</td>\n",
       "      <td>65</td>\n",
       "      <td>m</td>\n",
       "      <td>hypokinetic dysphonia (glottic insufficiency)</td>\n",
       "      <td>technical operator</td>\n",
       "      <td>45</td>\n",
       "      <td>0</td>\n",
       "      <td>casual</td>\n",
       "      <td>NaN</td>\n",
       "      <td>casual</td>\n",
       "      <td>...</td>\n",
       "      <td>NaN</td>\n",
       "      <td>sometimes</td>\n",
       "      <td>always</td>\n",
       "      <td>2</td>\n",
       "      <td>almost never</td>\n",
       "      <td>NaN</td>\n",
       "      <td>sometimes</td>\n",
       "      <td>NaN</td>\n",
       "      <td>almost never</td>\n",
       "      <td>NaN</td>\n",
       "    </tr>\n",
       "    <tr>\n",
       "      <th>45</th>\n",
       "      <td>voice155</td>\n",
       "      <td>33</td>\n",
       "      <td>f</td>\n",
       "      <td>hyperkinetic dysphonia</td>\n",
       "      <td>housewife</td>\n",
       "      <td>34</td>\n",
       "      <td>0</td>\n",
       "      <td>casual</td>\n",
       "      <td>NaN</td>\n",
       "      <td>nondrinker</td>\n",
       "      <td>...</td>\n",
       "      <td>NaN</td>\n",
       "      <td>sometimes</td>\n",
       "      <td>always</td>\n",
       "      <td>3</td>\n",
       "      <td>sometimes</td>\n",
       "      <td>NaN</td>\n",
       "      <td>sometimes</td>\n",
       "      <td>NaN</td>\n",
       "      <td>sometimes</td>\n",
       "      <td>NaN</td>\n",
       "    </tr>\n",
       "    <tr>\n",
       "      <th>84</th>\n",
       "      <td>voice106</td>\n",
       "      <td>21</td>\n",
       "      <td>m</td>\n",
       "      <td>hypokinetic dysphonia</td>\n",
       "      <td>unknown</td>\n",
       "      <td>35</td>\n",
       "      <td>13</td>\n",
       "      <td>casual</td>\n",
       "      <td>NaN</td>\n",
       "      <td>nondrinker</td>\n",
       "      <td>...</td>\n",
       "      <td>NaN</td>\n",
       "      <td>almost always</td>\n",
       "      <td>almost always</td>\n",
       "      <td>NaN</td>\n",
       "      <td>almost always</td>\n",
       "      <td>NaN</td>\n",
       "      <td>almost never</td>\n",
       "      <td>NaN</td>\n",
       "      <td>sometimes</td>\n",
       "      <td>NaN</td>\n",
       "    </tr>\n",
       "    <tr>\n",
       "      <th>100</th>\n",
       "      <td>voice004</td>\n",
       "      <td>28</td>\n",
       "      <td>f</td>\n",
       "      <td>hypokinetic dysphonia</td>\n",
       "      <td>researcher</td>\n",
       "      <td>20</td>\n",
       "      <td>9</td>\n",
       "      <td>casual</td>\n",
       "      <td>NaN</td>\n",
       "      <td>casual</td>\n",
       "      <td>...</td>\n",
       "      <td>NaN</td>\n",
       "      <td>sometimes</td>\n",
       "      <td>always</td>\n",
       "      <td>3</td>\n",
       "      <td>sometimes</td>\n",
       "      <td>NaN</td>\n",
       "      <td>almost always</td>\n",
       "      <td>NaN</td>\n",
       "      <td>sometimes</td>\n",
       "      <td>NaN</td>\n",
       "    </tr>\n",
       "    <tr>\n",
       "      <th>118</th>\n",
       "      <td>voice061</td>\n",
       "      <td>33</td>\n",
       "      <td>f</td>\n",
       "      <td>healthy</td>\n",
       "      <td>researcher</td>\n",
       "      <td>19</td>\n",
       "      <td>12</td>\n",
       "      <td>casual</td>\n",
       "      <td>NaN</td>\n",
       "      <td>habitual</td>\n",
       "      <td>...</td>\n",
       "      <td>NaN</td>\n",
       "      <td>almost always</td>\n",
       "      <td>almost always</td>\n",
       "      <td>2</td>\n",
       "      <td>sometimes</td>\n",
       "      <td>NaN</td>\n",
       "      <td>sometimes</td>\n",
       "      <td>NaN</td>\n",
       "      <td>almost never</td>\n",
       "      <td>NaN</td>\n",
       "    </tr>\n",
       "    <tr>\n",
       "      <th>127</th>\n",
       "      <td>voice163</td>\n",
       "      <td>44</td>\n",
       "      <td>f</td>\n",
       "      <td>hyperkinetic dysphonia</td>\n",
       "      <td>housewife</td>\n",
       "      <td>30</td>\n",
       "      <td>11</td>\n",
       "      <td>casual</td>\n",
       "      <td>NaN</td>\n",
       "      <td>nondrinker</td>\n",
       "      <td>...</td>\n",
       "      <td>NaN</td>\n",
       "      <td>sometimes</td>\n",
       "      <td>always</td>\n",
       "      <td>3</td>\n",
       "      <td>sometimes</td>\n",
       "      <td>NaN</td>\n",
       "      <td>almost never</td>\n",
       "      <td>NaN</td>\n",
       "      <td>sometimes</td>\n",
       "      <td>NaN</td>\n",
       "    </tr>\n",
       "    <tr>\n",
       "      <th>132</th>\n",
       "      <td>voice049</td>\n",
       "      <td>44</td>\n",
       "      <td>f</td>\n",
       "      <td>healthy</td>\n",
       "      <td>employee</td>\n",
       "      <td>4</td>\n",
       "      <td>20</td>\n",
       "      <td>casual</td>\n",
       "      <td>NaN</td>\n",
       "      <td>casual</td>\n",
       "      <td>...</td>\n",
       "      <td>NaN</td>\n",
       "      <td>sometimes</td>\n",
       "      <td>always</td>\n",
       "      <td>3</td>\n",
       "      <td>almost never</td>\n",
       "      <td>NaN</td>\n",
       "      <td>almost never</td>\n",
       "      <td>NaN</td>\n",
       "      <td>almost always</td>\n",
       "      <td>2</td>\n",
       "    </tr>\n",
       "    <tr>\n",
       "      <th>163</th>\n",
       "      <td>voice178</td>\n",
       "      <td>20</td>\n",
       "      <td>f</td>\n",
       "      <td>healthy</td>\n",
       "      <td>student</td>\n",
       "      <td>0</td>\n",
       "      <td>16</td>\n",
       "      <td>casual</td>\n",
       "      <td>NaN</td>\n",
       "      <td>nondrinker</td>\n",
       "      <td>...</td>\n",
       "      <td>NaN</td>\n",
       "      <td>almost never</td>\n",
       "      <td>sometimes</td>\n",
       "      <td>NaN</td>\n",
       "      <td>sometimes</td>\n",
       "      <td>NaN</td>\n",
       "      <td>sometimes</td>\n",
       "      <td>NaN</td>\n",
       "      <td>sometimes</td>\n",
       "      <td>NaN</td>\n",
       "    </tr>\n",
       "  </tbody>\n",
       "</table>\n",
       "<p>9 rows × 23 columns</p>\n",
       "</div>"
      ],
      "text/plain": [
       "           id  age gender                                      diagnosis  \\\n",
       "33   voice069   63      m                              reflux laryngitis   \n",
       "35   voice161   65      m  hypokinetic dysphonia (glottic insufficiency)   \n",
       "45   voice155   33      f                         hyperkinetic dysphonia   \n",
       "84   voice106   21      m                          hypokinetic dysphonia   \n",
       "100  voice004   28      f                          hypokinetic dysphonia   \n",
       "118  voice061   33      f                                        healthy   \n",
       "127  voice163   44      f                         hyperkinetic dysphonia   \n",
       "132  voice049   44      f                                        healthy   \n",
       "163  voice178   20      f                                        healthy   \n",
       "\n",
       "      occupation_status  vhi_score  rsi_score  smoker cigarettes_pd  \\\n",
       "33             employee         11         10  casual           NaN   \n",
       "35   technical operator         45          0  casual           NaN   \n",
       "45            housewife         34          0  casual           NaN   \n",
       "84              unknown         35         13  casual           NaN   \n",
       "100          researcher         20          9  casual           NaN   \n",
       "118          researcher         19         12  casual           NaN   \n",
       "127           housewife         30         11  casual           NaN   \n",
       "132            employee          4         20  casual           NaN   \n",
       "163             student          0         16  casual           NaN   \n",
       "\n",
       "    alcohol_consumption  ... carbonated_pd       tomatoes         coffee  \\\n",
       "33           nondrinker  ...           NaN      sometimes         always   \n",
       "35               casual  ...           NaN      sometimes         always   \n",
       "45           nondrinker  ...           NaN      sometimes         always   \n",
       "84           nondrinker  ...           NaN  almost always  almost always   \n",
       "100              casual  ...           NaN      sometimes         always   \n",
       "118            habitual  ...           NaN  almost always  almost always   \n",
       "127          nondrinker  ...           NaN      sometimes         always   \n",
       "132              casual  ...           NaN      sometimes         always   \n",
       "163          nondrinker  ...           NaN   almost never      sometimes   \n",
       "\n",
       "    coffee_pd      chocolate chocolate_grams_pd    soft_cheese soft_cheese_pd  \\\n",
       "33        NaN      sometimes                NaN         always            NaN   \n",
       "35          2   almost never                NaN      sometimes            NaN   \n",
       "45          3      sometimes                NaN      sometimes            NaN   \n",
       "84        NaN  almost always                NaN   almost never            NaN   \n",
       "100         3      sometimes                NaN  almost always            NaN   \n",
       "118         2      sometimes                NaN      sometimes            NaN   \n",
       "127         3      sometimes                NaN   almost never            NaN   \n",
       "132         3   almost never                NaN   almost never            NaN   \n",
       "163       NaN      sometimes                NaN      sometimes            NaN   \n",
       "\n",
       "     citrus_fruits citrus_fruits_pd  \n",
       "33       sometimes              NaN  \n",
       "35    almost never              NaN  \n",
       "45       sometimes              NaN  \n",
       "84       sometimes              NaN  \n",
       "100      sometimes              NaN  \n",
       "118   almost never              NaN  \n",
       "127      sometimes              NaN  \n",
       "132  almost always                2  \n",
       "163      sometimes              NaN  \n",
       "\n",
       "[9 rows x 23 columns]"
      ]
     },
     "execution_count": 35,
     "metadata": {},
     "output_type": "execute_result"
    }
   ],
   "source": [
    "# Confirm the casual smokers have a valid value in the cigarettes_pd\n",
    "casual_condition = clean_cat_df['smoker'] == 'casual'\n",
    "null_condition = clean_cat_df['cigarettes_pd'].isnull()\n",
    "casual_null = (casual_condition) & (null_condition)\n",
    "\n",
    "clean_cat_df.loc[casual_null]"
   ]
  },
  {
   "cell_type": "code",
   "execution_count": 36,
   "id": "954ead12-27bc-4671-bd09-fae1452a72e3",
   "metadata": {
    "scrolled": true
   },
   "outputs": [
    {
     "data": {
      "text/plain": [
       "cigarettes_pd\n",
       "NaN    9\n",
       "2      2\n",
       "Name: count, dtype: int64"
      ]
     },
     "execution_count": 36,
     "metadata": {},
     "output_type": "execute_result"
    }
   ],
   "source": [
    "# Check the casual smokers who have have a valid cigarettes_pd value\n",
    "clean_cat_df.loc[clean_cat_df['smoker'] == 'casual', 'cigarettes_pd']\\\n",
    "    .value_counts(dropna=False)"
   ]
  },
  {
   "cell_type": "markdown",
   "id": "6e279dcf-e226-4dbe-996c-4054a0ef83f6",
   "metadata": {},
   "source": [
    "__NOTE__:\n",
    "- There are `9` `casual` smokers with an invalid `cigarettes_pd` value.\n",
    "- There are only `2` `casual` smokers with a valid value of `2`."
   ]
  },
  {
   "cell_type": "code",
   "execution_count": 37,
   "id": "12c35a7d-5cc7-458e-9626-4732028e15c7",
   "metadata": {
    "scrolled": true
   },
   "outputs": [],
   "source": [
    "# Use this value to impute missing values\n",
    "casual_value = clean_cat_df\\\n",
    "    .loc[clean_cat_df['smoker'] == 'casual', 'cigarettes_pd']\\\n",
    "    .value_counts().mean()\n",
    "\n",
    "# Impute the missing values\n",
    "clean_cat_df.loc[casual_null, 'cigarettes_pd'] = casual_value"
   ]
  },
  {
   "cell_type": "code",
   "execution_count": 38,
   "id": "1f95c5f0-0741-4e8e-bf5d-9adcb8d1e359",
   "metadata": {
    "scrolled": true
   },
   "outputs": [
    {
     "name": "stdout",
     "output_type": "stream",
     "text": [
      "<class 'pandas.core.frame.DataFrame'>\n",
      "Index: 204 entries, 0 to 207\n",
      "Data columns (total 23 columns):\n",
      " #   Column                Non-Null Count  Dtype \n",
      "---  ------                --------------  ----- \n",
      " 0   id                    204 non-null    object\n",
      " 1   age                   204 non-null    int64 \n",
      " 2   gender                204 non-null    object\n",
      " 3   diagnosis             204 non-null    object\n",
      " 4   occupation_status     204 non-null    object\n",
      " 5   vhi_score             204 non-null    int64 \n",
      " 6   rsi_score             204 non-null    int64 \n",
      " 7   smoker                204 non-null    object\n",
      " 8   cigarettes_pd         204 non-null    int64 \n",
      " 9   alcohol_consumption   204 non-null    object\n",
      " 10  alcohol_pd            25 non-null     object\n",
      " 11  water_litres_pd       204 non-null    object\n",
      " 12  carbonated_beverages  204 non-null    object\n",
      " 13  carbonated_pd         21 non-null     object\n",
      " 14  tomatoes              204 non-null    object\n",
      " 15  coffee                204 non-null    object\n",
      " 16  coffee_pd             168 non-null    object\n",
      " 17  chocolate             204 non-null    object\n",
      " 18  chocolate_grams_pd    32 non-null     object\n",
      " 19  soft_cheese           204 non-null    object\n",
      " 20  soft_cheese_pd        31 non-null     object\n",
      " 21  citrus_fruits         204 non-null    object\n",
      " 22  citrus_fruits_pd      47 non-null     object\n",
      "dtypes: int64(4), object(19)\n",
      "memory usage: 38.2+ KB\n"
     ]
    }
   ],
   "source": [
    "# Convert all other NaN values to `0`\n",
    "clean_cat_df['cigarettes_pd'] = clean_cat_df['cigarettes_pd'].fillna(0)\n",
    "\n",
    "# Convert the column type to an integer\n",
    "clean_cat_df['cigarettes_pd'] = clean_cat_df['cigarettes_pd'].astype(int)\n",
    "\n",
    "# Confirm changes\n",
    "clean_cat_df.info()"
   ]
  },
  {
   "cell_type": "markdown",
   "id": "d7bd9aaf-bd30-424c-8343-bdfe53418a27",
   "metadata": {},
   "source": [
    "#### `alcohol_pd` column"
   ]
  },
  {
   "cell_type": "code",
   "execution_count": 39,
   "id": "b97a940f-d73a-457a-badd-4ea4f350cb26",
   "metadata": {
    "scrolled": true
   },
   "outputs": [
    {
     "data": {
      "text/html": [
       "<div>\n",
       "<style scoped>\n",
       "    .dataframe tbody tr th:only-of-type {\n",
       "        vertical-align: middle;\n",
       "    }\n",
       "\n",
       "    .dataframe tbody tr th {\n",
       "        vertical-align: top;\n",
       "    }\n",
       "\n",
       "    .dataframe thead th {\n",
       "        text-align: right;\n",
       "    }\n",
       "</style>\n",
       "<table border=\"1\" class=\"dataframe\">\n",
       "  <thead>\n",
       "    <tr style=\"text-align: right;\">\n",
       "      <th></th>\n",
       "      <th>alcohol_consumption</th>\n",
       "      <th>alcohol_pd</th>\n",
       "    </tr>\n",
       "  </thead>\n",
       "  <tbody>\n",
       "    <tr>\n",
       "      <th>203</th>\n",
       "      <td>casual</td>\n",
       "      <td>NaN</td>\n",
       "    </tr>\n",
       "    <tr>\n",
       "      <th>204</th>\n",
       "      <td>casual</td>\n",
       "      <td>NaN</td>\n",
       "    </tr>\n",
       "    <tr>\n",
       "      <th>205</th>\n",
       "      <td>casual</td>\n",
       "      <td>NaN</td>\n",
       "    </tr>\n",
       "    <tr>\n",
       "      <th>206</th>\n",
       "      <td>habitual</td>\n",
       "      <td>1</td>\n",
       "    </tr>\n",
       "    <tr>\n",
       "      <th>207</th>\n",
       "      <td>casual</td>\n",
       "      <td>NaN</td>\n",
       "    </tr>\n",
       "  </tbody>\n",
       "</table>\n",
       "</div>"
      ],
      "text/plain": [
       "    alcohol_consumption alcohol_pd\n",
       "203              casual        NaN\n",
       "204              casual        NaN\n",
       "205              casual        NaN\n",
       "206            habitual          1\n",
       "207              casual        NaN"
      ]
     },
     "execution_count": 39,
     "metadata": {},
     "output_type": "execute_result"
    }
   ],
   "source": [
    "# Check the alcohol_consumption and alcohol_pd columns\n",
    "alcohol_columns = ['alcohol_consumption', 'alcohol_pd']\n",
    "clean_cat_df[alcohol_columns].tail()"
   ]
  },
  {
   "cell_type": "code",
   "execution_count": 40,
   "id": "14892a72-0ca6-42bf-9641-ee2276dcf180",
   "metadata": {
    "scrolled": true
   },
   "outputs": [],
   "source": [
    "# Update the nondrinker value to `0`\n",
    "clean_cat_df.loc[\n",
    "    clean_cat_df['alcohol_consumption'] == 'nondrinker', 'alcohol_pd'] = 0"
   ]
  },
  {
   "cell_type": "code",
   "execution_count": 41,
   "id": "f4624403-5c4b-45f2-9d7d-2f1b7fe62445",
   "metadata": {
    "scrolled": true
   },
   "outputs": [
    {
     "data": {
      "text/plain": [
       "alcohol_pd\n",
       "NaN           97\n",
       "0             82\n",
       "1             10\n",
       "2              6\n",
       "2 per week     3\n",
       "1 per week     1\n",
       "3 per week     1\n",
       "1/2            1\n",
       "0.1            1\n",
       "0.3            1\n",
       "0,5            1\n",
       "Name: count, dtype: int64"
      ]
     },
     "execution_count": 41,
     "metadata": {},
     "output_type": "execute_result"
    }
   ],
   "source": [
    "# Check the count for all unique values\n",
    "clean_cat_df['alcohol_pd'].value_counts(dropna=False)"
   ]
  },
  {
   "cell_type": "markdown",
   "id": "21ed40fa-b00d-45a3-931f-0b3785bc0d70",
   "metadata": {},
   "source": [
    "__NOTE__: Write a function to clean this column."
   ]
  },
  {
   "cell_type": "code",
   "execution_count": 42,
   "id": "89278a41-f8ba-42aa-ab63-a62e5f0e0b6d",
   "metadata": {
    "scrolled": true
   },
   "outputs": [
    {
     "data": {
      "text/plain": [
       "alcohol_pd\n",
       "NaN     97\n",
       "0.00    82\n",
       "1.00    10\n",
       "2.00     6\n",
       "0.29     3\n",
       "0.14     1\n",
       "0.43     1\n",
       "1.50     1\n",
       "0.10     1\n",
       "0.30     1\n",
       "0.50     1\n",
       "Name: count, dtype: int64"
      ]
     },
     "execution_count": 42,
     "metadata": {},
     "output_type": "execute_result"
    }
   ],
   "source": [
    "# Apply the clean_pd function to the column\n",
    "clean_cat_df['alcohol_pd'] = clean_cat_df['alcohol_pd'].apply(clean_pd)\n",
    "\n",
    "# Check the value counts\n",
    "clean_cat_df['alcohol_pd'].value_counts(dropna=False)"
   ]
  },
  {
   "cell_type": "code",
   "execution_count": 43,
   "id": "e4392a14-a5d4-48d3-a9cc-77e5dd35e909",
   "metadata": {
    "scrolled": true
   },
   "outputs": [
    {
     "data": {
      "text/plain": [
       "alcohol_consumption  alcohol_pd\n",
       "casual               NaN           89\n",
       "habitual             NaN            8\n",
       "Name: count, dtype: int64"
      ]
     },
     "execution_count": 43,
     "metadata": {},
     "output_type": "execute_result"
    }
   ],
   "source": [
    "# Check rows still with NaN\n",
    "clean_cat_df\\\n",
    "    .loc[clean_cat_df['alcohol_pd'].isnull(), alcohol_columns]\\\n",
    "    .value_counts(dropna=False)"
   ]
  },
  {
   "cell_type": "markdown",
   "id": "726d955c-3e76-49de-80d6-e4b36f1e5046",
   "metadata": {},
   "source": [
    "__NOTE__: Similar process to the `smoker_pd` column, write a function for imputation."
   ]
  },
  {
   "cell_type": "code",
   "execution_count": 44,
   "id": "22fe9f7d-9211-4ba4-b325-9f9e144673cd",
   "metadata": {
    "scrolled": true
   },
   "outputs": [
    {
     "name": "stdout",
     "output_type": "stream",
     "text": [
      "['casual' 'nondrinker' 'habitual']\n"
     ]
    },
    {
     "data": {
      "image/png": "[encoded data removed]",
      "text/plain": [
       "<Figure size 640x480 with 1 Axes>"
      ]
     },
     "metadata": {},
     "output_type": "display_data"
    },
    {
     "name": "stdout",
     "output_type": "stream",
     "text": [
      "Skewness: 1.48, use MEDIAN.\n",
      "Median value for \"casual\": 0.36\n"
     ]
    },
    {
     "data": {
      "image/png": "[encoded data removed]",
      "text/plain": [
       "<Figure size 640x480 with 1 Axes>"
      ]
     },
     "metadata": {},
     "output_type": "display_data"
    },
    {
     "name": "stdout",
     "output_type": "stream",
     "text": [
      "Skewness: 0.11, use MEAN.\n",
      "Mean value for \"habitual\": 1.32\n"
     ]
    }
   ],
   "source": [
    "# Use the imputation() function\n",
    "imputation(clean_cat_df, 'alcohol_consumption', 'alcohol_pd')"
   ]
  },
  {
   "cell_type": "code",
   "execution_count": 45,
   "id": "226aa7a6-15c4-4d5f-990b-b9f7d56852e5",
   "metadata": {
    "scrolled": true
   },
   "outputs": [
    {
     "name": "stdout",
     "output_type": "stream",
     "text": [
      "Total converted: 204\n",
      "alcohol_pd\n",
      "0.36    89\n",
      "0.00    82\n",
      "1.00    10\n",
      "1.32     8\n",
      "2.00     6\n",
      "0.29     3\n",
      "0.14     1\n",
      "0.43     1\n",
      "1.50     1\n",
      "0.10     1\n",
      "0.30     1\n",
      "0.50     1\n",
      "Name: count, dtype: int64\n"
     ]
    }
   ],
   "source": [
    "# Check the distribution and confirm the count\n",
    "counts = clean_cat_df['alcohol_pd'].value_counts(dropna=False)\n",
    "print(f'Total converted: {counts.sum()}\\n{counts}')"
   ]
  },
  {
   "cell_type": "code",
   "execution_count": 46,
   "id": "bfce2aeb-00c0-45ad-bdca-9c273af628e3",
   "metadata": {
    "scrolled": true
   },
   "outputs": [
    {
     "name": "stdout",
     "output_type": "stream",
     "text": [
      "<class 'pandas.core.frame.DataFrame'>\n",
      "Index: 204 entries, 0 to 207\n",
      "Data columns (total 23 columns):\n",
      " #   Column                Non-Null Count  Dtype  \n",
      "---  ------                --------------  -----  \n",
      " 0   id                    204 non-null    object \n",
      " 1   age                   204 non-null    int64  \n",
      " 2   gender                204 non-null    object \n",
      " 3   diagnosis             204 non-null    object \n",
      " 4   occupation_status     204 non-null    object \n",
      " 5   vhi_score             204 non-null    int64  \n",
      " 6   rsi_score             204 non-null    int64  \n",
      " 7   smoker                204 non-null    object \n",
      " 8   cigarettes_pd         204 non-null    int64  \n",
      " 9   alcohol_consumption   204 non-null    object \n",
      " 10  alcohol_pd            204 non-null    float64\n",
      " 11  water_litres_pd       204 non-null    object \n",
      " 12  carbonated_beverages  204 non-null    object \n",
      " 13  carbonated_pd         21 non-null     object \n",
      " 14  tomatoes              204 non-null    object \n",
      " 15  coffee                204 non-null    object \n",
      " 16  coffee_pd             168 non-null    object \n",
      " 17  chocolate             204 non-null    object \n",
      " 18  chocolate_grams_pd    32 non-null     object \n",
      " 19  soft_cheese           204 non-null    object \n",
      " 20  soft_cheese_pd        31 non-null     object \n",
      " 21  citrus_fruits         204 non-null    object \n",
      " 22  citrus_fruits_pd      47 non-null     object \n",
      "dtypes: float64(1), int64(4), object(18)\n",
      "memory usage: 38.2+ KB\n"
     ]
    }
   ],
   "source": [
    "# Convert the column to a float with 2 decimal points\n",
    "clean_cat_df['alcohol_pd'] = clean_cat_df['alcohol_pd'].astype(float).round(2)\n",
    "\n",
    "# Confirm changes\n",
    "clean_cat_df.info()"
   ]
  },
  {
   "cell_type": "markdown",
   "id": "da9bfc79-95e3-43d1-8984-b0a84614e42d",
   "metadata": {},
   "source": [
    "#### `water_litres_pd` column"
   ]
  },
  {
   "cell_type": "code",
   "execution_count": 47,
   "id": "569e344f-129f-46ae-88c1-4187dd25e5ac",
   "metadata": {
    "scrolled": true
   },
   "outputs": [
    {
     "data": {
      "text/plain": [
       "water_litres_pd\n",
       "1       76\n",
       "2       59\n",
       "1,5     56\n",
       "0,5      6\n",
       "2,5      4\n",
       "0,75     2\n",
       "0,25     1\n",
       "Name: count, dtype: int64"
      ]
     },
     "execution_count": 47,
     "metadata": {},
     "output_type": "execute_result"
    }
   ],
   "source": [
    "# Check the water_litres_pd column\n",
    "clean_cat_df['water_litres_pd'].value_counts(dropna=False)"
   ]
  },
  {
   "cell_type": "markdown",
   "id": "a947aa1f-710e-49db-b34a-ba8a785c6222",
   "metadata": {},
   "source": [
    "__NOTE__: No null values, need to clean the commas."
   ]
  },
  {
   "cell_type": "code",
   "execution_count": 48,
   "id": "bd26915d-e7c7-48b0-a236-28330c7b612c",
   "metadata": {
    "scrolled": true
   },
   "outputs": [
    {
     "data": {
      "text/plain": [
       "water_litres_pd\n",
       "1.00    76\n",
       "2.00    59\n",
       "1.50    56\n",
       "0.50     6\n",
       "2.50     4\n",
       "0.75     2\n",
       "0.25     1\n",
       "Name: count, dtype: int64"
      ]
     },
     "execution_count": 48,
     "metadata": {},
     "output_type": "execute_result"
    }
   ],
   "source": [
    "# Apply the clean_pd function to the column\n",
    "clean_cat_df['water_litres_pd'] = clean_cat_df[\n",
    "    'water_litres_pd'].apply(clean_pd)\n",
    "\n",
    "# Check the value counts\n",
    "clean_cat_df['water_litres_pd'].value_counts(dropna=False)"
   ]
  },
  {
   "cell_type": "code",
   "execution_count": 49,
   "id": "9bfe78f2-486a-4cd2-9e33-1be561487f89",
   "metadata": {
    "scrolled": true
   },
   "outputs": [
    {
     "name": "stdout",
     "output_type": "stream",
     "text": [
      "<class 'pandas.core.frame.DataFrame'>\n",
      "Index: 204 entries, 0 to 207\n",
      "Data columns (total 23 columns):\n",
      " #   Column                Non-Null Count  Dtype  \n",
      "---  ------                --------------  -----  \n",
      " 0   id                    204 non-null    object \n",
      " 1   age                   204 non-null    int64  \n",
      " 2   gender                204 non-null    object \n",
      " 3   diagnosis             204 non-null    object \n",
      " 4   occupation_status     204 non-null    object \n",
      " 5   vhi_score             204 non-null    int64  \n",
      " 6   rsi_score             204 non-null    int64  \n",
      " 7   smoker                204 non-null    object \n",
      " 8   cigarettes_pd         204 non-null    int64  \n",
      " 9   alcohol_consumption   204 non-null    object \n",
      " 10  alcohol_pd            204 non-null    float64\n",
      " 11  water_litres_pd       204 non-null    float64\n",
      " 12  carbonated_beverages  204 non-null    object \n",
      " 13  carbonated_pd         21 non-null     object \n",
      " 14  tomatoes              204 non-null    object \n",
      " 15  coffee                204 non-null    object \n",
      " 16  coffee_pd             168 non-null    object \n",
      " 17  chocolate             204 non-null    object \n",
      " 18  chocolate_grams_pd    32 non-null     object \n",
      " 19  soft_cheese           204 non-null    object \n",
      " 20  soft_cheese_pd        31 non-null     object \n",
      " 21  citrus_fruits         204 non-null    object \n",
      " 22  citrus_fruits_pd      47 non-null     object \n",
      "dtypes: float64(2), int64(4), object(17)\n",
      "memory usage: 38.2+ KB\n"
     ]
    }
   ],
   "source": [
    "# Convert the column to a float with 2 decimal points\n",
    "clean_cat_df['water_litres_pd'] = clean_cat_df[\n",
    "    'water_litres_pd'].astype(float).round(2)\n",
    "\n",
    "# Confirm changes\n",
    "clean_cat_df.info()"
   ]
  },
  {
   "cell_type": "markdown",
   "id": "ff63c5e9-ee7e-4c76-b6b8-c8a7f81edaa4",
   "metadata": {},
   "source": [
    "#### `carbonated_pd` column"
   ]
  },
  {
   "cell_type": "code",
   "execution_count": 50,
   "id": "c1771b34-4022-4630-b97c-c170496fc66c",
   "metadata": {
    "scrolled": true
   },
   "outputs": [
    {
     "data": {
      "text/plain": [
       "carbonated_pd\n",
       "NaN               183\n",
       "1                   8\n",
       "3                   2\n",
       "1 for week          2\n",
       "2 for week          2\n",
       "0.1                 2\n",
       "2-3 for mounth      1\n",
       "0.5                 1\n",
       "2 for mounth        1\n",
       "4                   1\n",
       "0,5                 1\n",
       "Name: count, dtype: int64"
      ]
     },
     "execution_count": 50,
     "metadata": {},
     "output_type": "execute_result"
    }
   ],
   "source": [
    "# Check the carbonated_pd column\n",
    "clean_cat_df['carbonated_pd'].value_counts(dropna=False)"
   ]
  },
  {
   "cell_type": "markdown",
   "id": "35d6d4dc-7524-4509-a00d-5a386c29562b",
   "metadata": {},
   "source": [
    "__NOTE__: Need to update the `clean_pd()` function"
   ]
  },
  {
   "cell_type": "code",
   "execution_count": 51,
   "id": "2ed23cb6-64f7-4dff-b65b-aafe58733870",
   "metadata": {
    "scrolled": true
   },
   "outputs": [
    {
     "data": {
      "text/plain": [
       "carbonated_pd\n",
       "NaN     183\n",
       "1.00      8\n",
       "3.00      2\n",
       "0.14      2\n",
       "0.50      2\n",
       "0.29      2\n",
       "0.10      2\n",
       "0.08      1\n",
       "0.07      1\n",
       "4.00      1\n",
       "Name: count, dtype: int64"
      ]
     },
     "execution_count": 51,
     "metadata": {},
     "output_type": "execute_result"
    }
   ],
   "source": [
    "# Apply the clean_pd function to the column\n",
    "clean_cat_df['carbonated_pd'] = clean_cat_df['carbonated_pd'].apply(clean_pd)\n",
    "\n",
    "# Check the value counts\n",
    "clean_cat_df['carbonated_pd'].value_counts(dropna=False)"
   ]
  },
  {
   "cell_type": "code",
   "execution_count": 52,
   "id": "c5ad8072-e446-4d2d-b8f5-5f2db82ec486",
   "metadata": {
    "scrolled": true
   },
   "outputs": [
    {
     "data": {
      "text/plain": [
       "carbonated_beverages  carbonated_pd\n",
       "almost never          NaN              71\n",
       "sometimes             NaN              56\n",
       "never                 NaN              42\n",
       "almost always         NaN              10\n",
       "always                NaN               4\n",
       "Name: count, dtype: int64"
      ]
     },
     "execution_count": 52,
     "metadata": {},
     "output_type": "execute_result"
    }
   ],
   "source": [
    "# Check rows still with NaN\n",
    "carbonated_columns = ['carbonated_beverages', 'carbonated_pd']\n",
    "clean_cat_df\\\n",
    "    .loc[clean_cat_df['carbonated_pd'].isnull(), carbonated_columns]\\\n",
    "    .value_counts(dropna=False)"
   ]
  },
  {
   "cell_type": "code",
   "execution_count": 53,
   "id": "c3f0c86e-3929-4d41-9abf-a959a3b63001",
   "metadata": {
    "scrolled": true
   },
   "outputs": [
    {
     "name": "stdout",
     "output_type": "stream",
     "text": [
      "['almost always' 'never' 'sometimes' 'almost never' 'always']\n"
     ]
    },
    {
     "data": {
      "image/png": "[encoded data removed]",
      "text/plain": [
       "<Figure size 640x480 with 1 Axes>"
      ]
     },
     "metadata": {},
     "output_type": "display_data"
    },
    {
     "name": "stdout",
     "output_type": "stream",
     "text": [
      "Skewness: -0.65, use MEDIAN.\n",
      "Median value for \"almost always\": 3.0\n"
     ]
    },
    {
     "data": {
      "image/png": "[encoded data removed]",
      "text/plain": [
       "<Figure size 640x480 with 1 Axes>"
      ]
     },
     "metadata": {},
     "output_type": "display_data"
    },
    {
     "name": "stdout",
     "output_type": "stream",
     "text": [
      "Skewness: -0.09, use MEAN.\n",
      "Mean value for \"sometimes\": 0.61\n"
     ]
    },
    {
     "data": {
      "image/png": "[encoded data removed]",
      "text/plain": [
       "<Figure size 640x480 with 1 Axes>"
      ]
     },
     "metadata": {},
     "output_type": "display_data"
    },
    {
     "name": "stdout",
     "output_type": "stream",
     "text": [
      "Skewness: 1.15, use MEDIAN.\n",
      "Median value for \"almost never\": 0.09\n"
     ]
    }
   ],
   "source": [
    "# Use the imputation() function\n",
    "imputation(clean_cat_df, 'carbonated_beverages', 'carbonated_pd')"
   ]
  },
  {
   "cell_type": "code",
   "execution_count": 54,
   "id": "54e01d57-e375-48f7-afc9-23b2dfe31065",
   "metadata": {
    "scrolled": true
   },
   "outputs": [
    {
     "name": "stdout",
     "output_type": "stream",
     "text": [
      "Total converted: 204\n",
      "carbonated_pd\n",
      "0.09    71\n",
      "0.61    56\n",
      "0.00    42\n",
      "3.00    12\n",
      "1.00     8\n",
      "NaN      4\n",
      "0.14     2\n",
      "0.50     2\n",
      "0.29     2\n",
      "0.10     2\n",
      "0.08     1\n",
      "0.07     1\n",
      "4.00     1\n",
      "Name: count, dtype: int64\n"
     ]
    }
   ],
   "source": [
    "# Check the distribution and confirm the count\n",
    "counts = clean_cat_df['carbonated_pd'].value_counts(dropna=False)\n",
    "print(f'Total converted: {counts.sum()}\\n{counts}')"
   ]
  },
  {
   "cell_type": "code",
   "execution_count": 55,
   "id": "67bac98f-554a-4399-b429-ea89b8d33514",
   "metadata": {
    "scrolled": true
   },
   "outputs": [
    {
     "data": {
      "text/plain": [
       "carbonated_beverages  carbonated_pd\n",
       "always                NaN              4\n",
       "Name: count, dtype: int64"
      ]
     },
     "execution_count": 55,
     "metadata": {},
     "output_type": "execute_result"
    }
   ],
   "source": [
    "# Check the rows still with null values\n",
    "clean_cat_df\\\n",
    "    .loc[clean_cat_df['carbonated_pd'].isnull(), carbonated_columns]\\\n",
    "    .value_counts(dropna=False)"
   ]
  },
  {
   "cell_type": "markdown",
   "id": "769fd92e-5d56-434b-9b35-43e0e19d1553",
   "metadata": {},
   "source": [
    "__NOTE__: Null values still exist for `always` column since no valid value exists for its type."
   ]
  },
  {
   "cell_type": "code",
   "execution_count": 56,
   "id": "88cfb1bb-9abc-42e1-8560-09fd52805010",
   "metadata": {
    "scrolled": true
   },
   "outputs": [
    {
     "name": "stdout",
     "output_type": "stream",
     "text": [
      "Means: carbonated_beverages\n",
      "almost always    2.928571\n",
      "almost never     0.101867\n",
      "always                NaN\n",
      "never            0.000000\n",
      "sometimes        0.610435\n",
      "Name: carbonated_pd, dtype: float64\n",
      "\n",
      "Medians: carbonated_beverages\n",
      "almost always    3.00\n",
      "almost never     0.09\n",
      "always            NaN\n",
      "never            0.00\n",
      "sometimes        0.61\n",
      "Name: carbonated_pd, dtype: float64\n"
     ]
    }
   ],
   "source": [
    "# Check the distribution of per day values per unique value\n",
    "carbonated_df = clean_cat_df[['carbonated_beverages', 'carbonated_pd']].copy()\n",
    "\n",
    "# Group by the carbonated_beverages\n",
    "grouped = carbonated_df.groupby('carbonated_beverages')['carbonated_pd']\n",
    "\n",
    "# Check mean and median\n",
    "print(f'Means: {grouped.mean()}\\n')\n",
    "print(f'Medians: {grouped.median()}')"
   ]
  },
  {
   "cell_type": "code",
   "execution_count": 57,
   "id": "936f638f-1ad5-458d-afac-d81bc396a949",
   "metadata": {
    "scrolled": true
   },
   "outputs": [
    {
     "name": "stdout",
     "output_type": "stream",
     "text": [
      "       carbonated_pd\n",
      "count      14.000000\n",
      "mean        2.928571\n",
      "std         0.615728\n",
      "min         1.000000\n",
      "25%         3.000000\n",
      "50%         3.000000\n",
      "75%         3.000000\n",
      "max         4.000000\n"
     ]
    },
    {
     "data": {
      "text/plain": [
       "4.0"
      ]
     },
     "execution_count": 57,
     "metadata": {},
     "output_type": "execute_result"
    }
   ],
   "source": [
    "# Calculate the summary statistics for 'almost always'\n",
    "almost_always = carbonated_df.loc[\n",
    "    carbonated_df['carbonated_beverages'] == 'almost always']\n",
    "summary_stats = almost_always.describe()\n",
    "print(summary_stats)\n",
    "\n",
    "max_value = almost_always['carbonated_pd'].max()\n",
    "max_value"
   ]
  },
  {
   "cell_type": "code",
   "execution_count": 58,
   "id": "443bed3a-07c5-49b6-ba1e-e65077e9c1e6",
   "metadata": {
    "scrolled": true
   },
   "outputs": [
    {
     "data": {
      "text/plain": [
       "carbonated_pd\n",
       "0.09    71\n",
       "0.61    56\n",
       "0.00    42\n",
       "3.00    12\n",
       "1.00     8\n",
       "4.00     5\n",
       "0.14     2\n",
       "0.50     2\n",
       "0.29     2\n",
       "0.10     2\n",
       "0.08     1\n",
       "0.07     1\n",
       "Name: count, dtype: int64"
      ]
     },
     "execution_count": 58,
     "metadata": {},
     "output_type": "execute_result"
    }
   ],
   "source": [
    "# Use the max value from 'almost always' as 'always' value\n",
    "clean_cat_df.loc[\n",
    "    clean_cat_df['carbonated_beverages'] == 'always',\n",
    "    'carbonated_pd'\n",
    "] = max_value\n",
    "\n",
    "# Confirm changes\n",
    "clean_cat_df['carbonated_pd'].value_counts(dropna=False)"
   ]
  },
  {
   "cell_type": "code",
   "execution_count": 59,
   "id": "dd7afe7d-d8b7-4276-a95b-525b944bf0c7",
   "metadata": {
    "scrolled": true
   },
   "outputs": [
    {
     "name": "stdout",
     "output_type": "stream",
     "text": [
      "<class 'pandas.core.frame.DataFrame'>\n",
      "Index: 204 entries, 0 to 207\n",
      "Data columns (total 23 columns):\n",
      " #   Column                Non-Null Count  Dtype  \n",
      "---  ------                --------------  -----  \n",
      " 0   id                    204 non-null    object \n",
      " 1   age                   204 non-null    int64  \n",
      " 2   gender                204 non-null    object \n",
      " 3   diagnosis             204 non-null    object \n",
      " 4   occupation_status     204 non-null    object \n",
      " 5   vhi_score             204 non-null    int64  \n",
      " 6   rsi_score             204 non-null    int64  \n",
      " 7   smoker                204 non-null    object \n",
      " 8   cigarettes_pd         204 non-null    int64  \n",
      " 9   alcohol_consumption   204 non-null    object \n",
      " 10  alcohol_pd            204 non-null    float64\n",
      " 11  water_litres_pd       204 non-null    float64\n",
      " 12  carbonated_beverages  204 non-null    object \n",
      " 13  carbonated_pd         204 non-null    float64\n",
      " 14  tomatoes              204 non-null    object \n",
      " 15  coffee                204 non-null    object \n",
      " 16  coffee_pd             168 non-null    object \n",
      " 17  chocolate             204 non-null    object \n",
      " 18  chocolate_grams_pd    32 non-null     object \n",
      " 19  soft_cheese           204 non-null    object \n",
      " 20  soft_cheese_pd        31 non-null     object \n",
      " 21  citrus_fruits         204 non-null    object \n",
      " 22  citrus_fruits_pd      47 non-null     object \n",
      "dtypes: float64(3), int64(4), object(16)\n",
      "memory usage: 38.2+ KB\n"
     ]
    }
   ],
   "source": [
    "# Convert the column to a float with 2 decimal points\n",
    "clean_cat_df['carbonated_pd'] = clean_cat_df[\n",
    "    'carbonated_pd'].astype(float).round(2)\n",
    "\n",
    "# Confirm changes\n",
    "clean_cat_df.info()"
   ]
  },
  {
   "cell_type": "markdown",
   "id": "27785d04-e3fc-4f68-9fa2-c1824a3368ea",
   "metadata": {},
   "source": [
    "#### `coffee_pd` column"
   ]
  },
  {
   "cell_type": "code",
   "execution_count": 60,
   "id": "f8812e87-5ad1-4152-8ec1-34122f081ea3",
   "metadata": {
    "scrolled": true
   },
   "outputs": [
    {
     "data": {
      "text/plain": [
       "coffee_pd\n",
       "3      59\n",
       "2      44\n",
       "NaN    36\n",
       "4      30\n",
       "1      20\n",
       "6       7\n",
       "5       6\n",
       "0       1\n",
       "8       1\n",
       "Name: count, dtype: int64"
      ]
     },
     "execution_count": 60,
     "metadata": {},
     "output_type": "execute_result"
    }
   ],
   "source": [
    "# Check the coffee_pd column\n",
    "clean_cat_df['coffee_pd'].value_counts(dropna=False)"
   ]
  },
  {
   "cell_type": "code",
   "execution_count": 61,
   "id": "d24222a9-f8ef-4670-9d8b-b60ad138bc8c",
   "metadata": {
    "scrolled": true
   },
   "outputs": [
    {
     "data": {
      "text/plain": [
       "coffee         coffee_pd\n",
       "never          NaN          12\n",
       "almost never   NaN           7\n",
       "sometimes      NaN           7\n",
       "almost always  NaN           5\n",
       "always         NaN           5\n",
       "Name: count, dtype: int64"
      ]
     },
     "execution_count": 61,
     "metadata": {},
     "output_type": "execute_result"
    }
   ],
   "source": [
    "# Check the NaN values\n",
    "coffee_columns = ['coffee', 'coffee_pd']\n",
    "clean_cat_df\\\n",
    "    .loc[clean_cat_df['coffee_pd'].isnull(), coffee_columns]\\\n",
    "    .value_counts(dropna=False)"
   ]
  },
  {
   "cell_type": "code",
   "execution_count": 62,
   "id": "a34a8063-d352-4cb3-8fcd-cd78c84b82dd",
   "metadata": {
    "scrolled": true
   },
   "outputs": [
    {
     "name": "stdout",
     "output_type": "stream",
     "text": [
      "['always' 'almost always' 'sometimes' 'never' 'almost never']\n"
     ]
    },
    {
     "data": {
      "image/png": "[encoded data removed]",
      "text/plain": [
       "<Figure size 640x480 with 1 Axes>"
      ]
     },
     "metadata": {},
     "output_type": "display_data"
    },
    {
     "name": "stdout",
     "output_type": "stream",
     "text": [
      "Skewness: 0.86, use MEDIAN.\n",
      "Median value for \"always\": 3.0\n"
     ]
    },
    {
     "data": {
      "image/png": "[encoded data removed]",
      "text/plain": [
       "<Figure size 640x480 with 1 Axes>"
      ]
     },
     "metadata": {},
     "output_type": "display_data"
    },
    {
     "name": "stdout",
     "output_type": "stream",
     "text": [
      "Skewness: 0.0, use MEAN.\n",
      "Mean value for \"almost always\": 3.0\n"
     ]
    },
    {
     "data": {
      "image/png": "[encoded data removed]",
      "text/plain": [
       "<Figure size 640x480 with 1 Axes>"
      ]
     },
     "metadata": {},
     "output_type": "display_data"
    },
    {
     "name": "stdout",
     "output_type": "stream",
     "text": [
      "Skewness: 0.14, use MEAN.\n",
      "Mean value for \"sometimes\": 1.92\n"
     ]
    },
    {
     "data": {
      "image/png": "[encoded data removed]",
      "text/plain": [
       "<Figure size 640x480 with 1 Axes>"
      ]
     },
     "metadata": {},
     "output_type": "display_data"
    },
    {
     "name": "stdout",
     "output_type": "stream",
     "text": [
      "Skewness: 0.99, use MEDIAN.\n",
      "Median value for \"almost never\": 1.0\n"
     ]
    }
   ],
   "source": [
    "# Use the imputation() function\n",
    "imputation(clean_cat_df, 'coffee', 'coffee_pd')"
   ]
  },
  {
   "cell_type": "code",
   "execution_count": 63,
   "id": "a3ab3a60-70c8-461a-9efa-38a47ae14ae7",
   "metadata": {
    "scrolled": true
   },
   "outputs": [
    {
     "name": "stdout",
     "output_type": "stream",
     "text": [
      "Total converted: 204\n",
      "coffee_pd\n",
      "3       59\n",
      "2       44\n",
      "4       30\n",
      "1       20\n",
      "0       12\n",
      "3.0     10\n",
      "1.92     7\n",
      "1.0      7\n",
      "6        7\n",
      "5        6\n",
      "0        1\n",
      "8        1\n",
      "Name: count, dtype: int64\n"
     ]
    }
   ],
   "source": [
    "# Check the distribution and confirm the count\n",
    "counts = clean_cat_df['coffee_pd'].value_counts(dropna=False)\n",
    "print(f'Total converted: {counts.sum()}\\n{counts}')"
   ]
  },
  {
   "cell_type": "code",
   "execution_count": 64,
   "id": "a566f965-d3f4-41cc-823d-21ed48561449",
   "metadata": {
    "scrolled": true
   },
   "outputs": [
    {
     "name": "stdout",
     "output_type": "stream",
     "text": [
      "<class 'pandas.core.frame.DataFrame'>\n",
      "Index: 204 entries, 0 to 207\n",
      "Data columns (total 23 columns):\n",
      " #   Column                Non-Null Count  Dtype  \n",
      "---  ------                --------------  -----  \n",
      " 0   id                    204 non-null    object \n",
      " 1   age                   204 non-null    int64  \n",
      " 2   gender                204 non-null    object \n",
      " 3   diagnosis             204 non-null    object \n",
      " 4   occupation_status     204 non-null    object \n",
      " 5   vhi_score             204 non-null    int64  \n",
      " 6   rsi_score             204 non-null    int64  \n",
      " 7   smoker                204 non-null    object \n",
      " 8   cigarettes_pd         204 non-null    int64  \n",
      " 9   alcohol_consumption   204 non-null    object \n",
      " 10  alcohol_pd            204 non-null    float64\n",
      " 11  water_litres_pd       204 non-null    float64\n",
      " 12  carbonated_beverages  204 non-null    object \n",
      " 13  carbonated_pd         204 non-null    float64\n",
      " 14  tomatoes              204 non-null    object \n",
      " 15  coffee                204 non-null    object \n",
      " 16  coffee_pd             204 non-null    int64  \n",
      " 17  chocolate             204 non-null    object \n",
      " 18  chocolate_grams_pd    32 non-null     object \n",
      " 19  soft_cheese           204 non-null    object \n",
      " 20  soft_cheese_pd        31 non-null     object \n",
      " 21  citrus_fruits         204 non-null    object \n",
      " 22  citrus_fruits_pd      47 non-null     object \n",
      "dtypes: float64(3), int64(5), object(15)\n",
      "memory usage: 38.2+ KB\n"
     ]
    }
   ],
   "source": [
    "# Convert the column to a float\n",
    "clean_cat_df['coffee_pd'] = clean_cat_df['coffee_pd'].astype(float)\n",
    "\n",
    "# Since values are close to integers, cast to integers\n",
    "clean_cat_df['coffee_pd'] = clean_cat_df['coffee_pd'].round(0).astype(int)\n",
    "\n",
    "# Confirm changes\n",
    "clean_cat_df.info()"
   ]
  },
  {
   "cell_type": "markdown",
   "id": "d3d53f50-a1a9-4eb6-8127-422ead3e6fef",
   "metadata": {},
   "source": [
    "#### `chocolate_grams_pd` column"
   ]
  },
  {
   "cell_type": "code",
   "execution_count": 65,
   "id": "fc720d91-8723-4691-90aa-b373c402694e",
   "metadata": {
    "scrolled": true
   },
   "outputs": [
    {
     "data": {
      "text/plain": [
       "chocolate_grams_pd\n",
       "NaN        172\n",
       "30 gr        5\n",
       "20 gr        5\n",
       "100 gr       5\n",
       "50 gr        4\n",
       "10 gr        3\n",
       "20g          1\n",
       "15 g         1\n",
       "300 gr       1\n",
       "25 gr        1\n",
       "1-2 gr       1\n",
       "15 gr        1\n",
       "3 gr         1\n",
       "25-50 g      1\n",
       "2 gr         1\n",
       "10g          1\n",
       "Name: count, dtype: int64"
      ]
     },
     "execution_count": 65,
     "metadata": {},
     "output_type": "execute_result"
    }
   ],
   "source": [
    "# Check the chocolate_grams_pd column\n",
    "clean_cat_df['chocolate_grams_pd'].value_counts(dropna=False)"
   ]
  },
  {
   "cell_type": "markdown",
   "id": "711f0cc3-752a-460a-bc2e-d8e4bf2a238f",
   "metadata": {},
   "source": [
    "__NOTE__: Adjust the `clean_pd()` function to account for `gr` and `g`."
   ]
  },
  {
   "cell_type": "code",
   "execution_count": 66,
   "id": "979b8f27-98a9-4e57-a2e9-7e4dca9521d3",
   "metadata": {
    "scrolled": true
   },
   "outputs": [
    {
     "data": {
      "text/plain": [
       "chocolate_grams_pd\n",
       "NaN     172\n",
       "20        6\n",
       "30        5\n",
       "100       5\n",
       "10        4\n",
       "50        4\n",
       "15        2\n",
       "300       1\n",
       "25        1\n",
       "1.5       1\n",
       "3         1\n",
       "37.5      1\n",
       "2         1\n",
       "Name: count, dtype: int64"
      ]
     },
     "execution_count": 66,
     "metadata": {},
     "output_type": "execute_result"
    }
   ],
   "source": [
    "# Apply the clean_pd function to the column\n",
    "clean_cat_df['chocolate_grams_pd'] = clean_cat_df[\n",
    "    'chocolate_grams_pd'].apply(clean_pd)\n",
    "\n",
    "# Check the value counts\n",
    "clean_cat_df['chocolate_grams_pd'].value_counts(dropna=False)"
   ]
  },
  {
   "cell_type": "code",
   "execution_count": 67,
   "id": "90729db2-3c6c-46aa-91ff-ea981329a251",
   "metadata": {
    "scrolled": true
   },
   "outputs": [
    {
     "data": {
      "text/plain": [
       "chocolate      chocolate_grams_pd\n",
       "sometimes      NaN                   103\n",
       "almost never   NaN                    42\n",
       "almost always  NaN                    13\n",
       "always         NaN                    11\n",
       "never          NaN                     3\n",
       "Name: count, dtype: int64"
      ]
     },
     "execution_count": 67,
     "metadata": {},
     "output_type": "execute_result"
    }
   ],
   "source": [
    "# Check the NaN values\n",
    "choc_columns = ['chocolate', 'chocolate_grams_pd']\n",
    "clean_cat_df\\\n",
    "    .loc[clean_cat_df['chocolate_grams_pd'].isnull(), choc_columns]\\\n",
    "    .value_counts(dropna=False)"
   ]
  },
  {
   "cell_type": "code",
   "execution_count": 68,
   "id": "35024c47-c2b1-4917-9f7a-6328a417dcc5",
   "metadata": {
    "scrolled": true
   },
   "outputs": [
    {
     "name": "stdout",
     "output_type": "stream",
     "text": [
      "['sometimes' 'always' 'almost always' 'never' 'almost never']\n"
     ]
    },
    {
     "data": {
      "image/png": "[encoded data removed]",
      "text/plain": [
       "<Figure size 640x480 with 1 Axes>"
      ]
     },
     "metadata": {},
     "output_type": "display_data"
    },
    {
     "name": "stdout",
     "output_type": "stream",
     "text": [
      "Skewness: 2.73, use MEDIAN.\n",
      "Median value for \"sometimes\": 30.0\n"
     ]
    },
    {
     "data": {
      "image/png": "[encoded data removed]",
      "text/plain": [
       "<Figure size 640x480 with 1 Axes>"
      ]
     },
     "metadata": {},
     "output_type": "display_data"
    },
    {
     "name": "stdout",
     "output_type": "stream",
     "text": [
      "Skewness: 0.0, use MEAN.\n",
      "Mean value for \"always\": 13.5\n"
     ]
    },
    {
     "data": {
      "image/png": "[encoded data removed]",
      "text/plain": [
       "<Figure size 640x480 with 1 Axes>"
      ]
     },
     "metadata": {},
     "output_type": "display_data"
    },
    {
     "name": "stdout",
     "output_type": "stream",
     "text": [
      "Skewness: 1.05, use MEDIAN.\n",
      "Median value for \"almost always\": 28.75\n"
     ]
    },
    {
     "data": {
      "image/png": "[encoded data removed]",
      "text/plain": [
       "<Figure size 640x480 with 1 Axes>"
      ]
     },
     "metadata": {},
     "output_type": "display_data"
    },
    {
     "name": "stdout",
     "output_type": "stream",
     "text": [
      "Skewness: 0.0, use MEAN.\n",
      "Mean value for \"almost never\": 5.75\n"
     ]
    }
   ],
   "source": [
    "# Use the imputation() function\n",
    "imputation(clean_cat_df, 'chocolate', 'chocolate_grams_pd')"
   ]
  },
  {
   "cell_type": "code",
   "execution_count": 69,
   "id": "2810fc8a-9607-4ae0-8b3d-253e78d22c32",
   "metadata": {
    "scrolled": true
   },
   "outputs": [
    {
     "name": "stdout",
     "output_type": "stream",
     "text": [
      "Total converted: 204\n",
      "chocolate_grams_pd\n",
      "30.0     103\n",
      "5.75      42\n",
      "28.75     13\n",
      "13.5      11\n",
      "20         6\n",
      "30         5\n",
      "100        5\n",
      "10         4\n",
      "50         4\n",
      "0          3\n",
      "15         2\n",
      "300        1\n",
      "25         1\n",
      "1.5        1\n",
      "3          1\n",
      "37.5       1\n",
      "2          1\n",
      "Name: count, dtype: int64\n"
     ]
    }
   ],
   "source": [
    "# Check the distribution and confirm the count\n",
    "counts = clean_cat_df['chocolate_grams_pd'].value_counts(dropna=False)\n",
    "print(f'Total converted: {counts.sum()}\\n{counts}')"
   ]
  },
  {
   "cell_type": "code",
   "execution_count": 70,
   "id": "7fae9de6-a4c4-4786-abac-08ba65fd4d11",
   "metadata": {
    "scrolled": true
   },
   "outputs": [
    {
     "name": "stdout",
     "output_type": "stream",
     "text": [
      "<class 'pandas.core.frame.DataFrame'>\n",
      "Index: 204 entries, 0 to 207\n",
      "Data columns (total 23 columns):\n",
      " #   Column                Non-Null Count  Dtype  \n",
      "---  ------                --------------  -----  \n",
      " 0   id                    204 non-null    object \n",
      " 1   age                   204 non-null    int64  \n",
      " 2   gender                204 non-null    object \n",
      " 3   diagnosis             204 non-null    object \n",
      " 4   occupation_status     204 non-null    object \n",
      " 5   vhi_score             204 non-null    int64  \n",
      " 6   rsi_score             204 non-null    int64  \n",
      " 7   smoker                204 non-null    object \n",
      " 8   cigarettes_pd         204 non-null    int64  \n",
      " 9   alcohol_consumption   204 non-null    object \n",
      " 10  alcohol_pd            204 non-null    float64\n",
      " 11  water_litres_pd       204 non-null    float64\n",
      " 12  carbonated_beverages  204 non-null    object \n",
      " 13  carbonated_pd         204 non-null    float64\n",
      " 14  tomatoes              204 non-null    object \n",
      " 15  coffee                204 non-null    object \n",
      " 16  coffee_pd             204 non-null    int64  \n",
      " 17  chocolate             204 non-null    object \n",
      " 18  chocolate_grams_pd    204 non-null    int64  \n",
      " 19  soft_cheese           204 non-null    object \n",
      " 20  soft_cheese_pd        31 non-null     object \n",
      " 21  citrus_fruits         204 non-null    object \n",
      " 22  citrus_fruits_pd      47 non-null     object \n",
      "dtypes: float64(3), int64(6), object(14)\n",
      "memory usage: 38.2+ KB\n"
     ]
    }
   ],
   "source": [
    "# Convert the column to a float\n",
    "clean_cat_df['chocolate_grams_pd'] = clean_cat_df[\n",
    "    'chocolate_grams_pd'].astype(float)\n",
    "\n",
    "# Since values are close to integers, cast to integers\n",
    "clean_cat_df['chocolate_grams_pd'] = clean_cat_df[\n",
    "    'chocolate_grams_pd'].round(0).astype(int)\n",
    "\n",
    "# Confirm changes\n",
    "clean_cat_df.info()"
   ]
  },
  {
   "cell_type": "markdown",
   "id": "c87640fb-2880-4b71-abda-516f2a582fcc",
   "metadata": {},
   "source": [
    "#### `soft_cheese_pd` column"
   ]
  },
  {
   "cell_type": "code",
   "execution_count": 71,
   "id": "8b336002-8eb7-4a59-aec1-d509a220289c",
   "metadata": {
    "tags": []
   },
   "outputs": [
    {
     "data": {
      "text/plain": [
       "soft_cheese_pd\n",
       "NaN              173\n",
       "100 gr             9\n",
       "50 gr              5\n",
       "200 gr             5\n",
       "20 gr              2\n",
       "150 gr/ month      2\n",
       "100/150 gr         1\n",
       "400 gr             1\n",
       "30 gr              1\n",
       "100  gr            1\n",
       "150/200 gr         1\n",
       "150 gr             1\n",
       "100 g              1\n",
       "300 gr.            1\n",
       "Name: count, dtype: int64"
      ]
     },
     "execution_count": 71,
     "metadata": {},
     "output_type": "execute_result"
    }
   ],
   "source": [
    "# Check the soft_cheese_pd column\n",
    "clean_cat_df['soft_cheese_pd'].value_counts(dropna=False)"
   ]
  },
  {
   "cell_type": "markdown",
   "id": "1e0ea16c-2841-42af-b509-12add816660e",
   "metadata": {},
   "source": [
    "__NOTE__: Need to adjust `clean_pd()` function again, need to be careful with added complexity."
   ]
  },
  {
   "cell_type": "code",
   "execution_count": 72,
   "id": "16997f5f-3e13-4352-9e14-ab17534bb1ba",
   "metadata": {
    "scrolled": true
   },
   "outputs": [
    {
     "data": {
      "text/plain": [
       "soft_cheese_pd\n",
       "NaN    173\n",
       "100     11\n",
       "50       5\n",
       "200      5\n",
       "20       2\n",
       "5.0      2\n",
       "125      1\n",
       "400      1\n",
       "30       1\n",
       "175      1\n",
       "150      1\n",
       "300      1\n",
       "Name: count, dtype: int64"
      ]
     },
     "execution_count": 72,
     "metadata": {},
     "output_type": "execute_result"
    }
   ],
   "source": [
    "# Apply the clean_pd function to the column\n",
    "clean_cat_df['soft_cheese_pd'] = clean_cat_df['soft_cheese_pd'].apply(clean_pd)\n",
    "\n",
    "# Check the value counts\n",
    "clean_cat_df['soft_cheese_pd'].value_counts(dropna=False)"
   ]
  },
  {
   "cell_type": "code",
   "execution_count": 73,
   "id": "ba31087f-527d-40e5-a21f-0f35fe9d4901",
   "metadata": {
    "scrolled": true
   },
   "outputs": [
    {
     "data": {
      "text/plain": [
       "soft_cheese    soft_cheese_pd\n",
       "sometimes      NaN               120\n",
       "almost never   NaN                28\n",
       "almost always  NaN                14\n",
       "always         NaN                 7\n",
       "never          NaN                 4\n",
       "Name: count, dtype: int64"
      ]
     },
     "execution_count": 73,
     "metadata": {},
     "output_type": "execute_result"
    }
   ],
   "source": [
    "# Check the NaN values\n",
    "cheese_columns = ['soft_cheese', 'soft_cheese_pd']\n",
    "clean_cat_df\\\n",
    "    .loc[clean_cat_df['soft_cheese_pd'].isnull(), cheese_columns]\\\n",
    "    .value_counts(dropna=False)"
   ]
  },
  {
   "cell_type": "code",
   "execution_count": 74,
   "id": "9f0460c8-5309-4e4c-9f4a-4840834ce8a2",
   "metadata": {
    "scrolled": true
   },
   "outputs": [
    {
     "name": "stdout",
     "output_type": "stream",
     "text": [
      "['almost always' 'sometimes' 'almost never' 'always' 'never']\n"
     ]
    },
    {
     "data": {
      "image/png": "[encoded data removed]",
      "text/plain": [
       "<Figure size 640x480 with 1 Axes>"
      ]
     },
     "metadata": {},
     "output_type": "display_data"
    },
    {
     "name": "stdout",
     "output_type": "stream",
     "text": [
      "Skewness: 1.55, use MEDIAN.\n",
      "Median value for \"almost always\": 100.0\n"
     ]
    },
    {
     "data": {
      "image/png": "[encoded data removed]",
      "text/plain": [
       "<Figure size 640x480 with 1 Axes>"
      ]
     },
     "metadata": {},
     "output_type": "display_data"
    },
    {
     "name": "stdout",
     "output_type": "stream",
     "text": [
      "Skewness: 0.75, use MEDIAN.\n",
      "Median value for \"sometimes\": 100.0\n"
     ]
    },
    {
     "data": {
      "image/png": "[encoded data removed]",
      "text/plain": [
       "<Figure size 640x480 with 1 Axes>"
      ]
     },
     "metadata": {},
     "output_type": "display_data"
    },
    {
     "name": "stdout",
     "output_type": "stream",
     "text": [
      "Skewness: nan, use MEAN.\n",
      "Mean value for \"almost never\": 100.0\n"
     ]
    },
    {
     "data": {
      "image/png": "[encoded data removed]",
      "text/plain": [
       "<Figure size 640x480 with 1 Axes>"
      ]
     },
     "metadata": {},
     "output_type": "display_data"
    },
    {
     "name": "stdout",
     "output_type": "stream",
     "text": [
      "Skewness: 0.0, use MEAN.\n",
      "Mean value for \"always\": 150.0\n"
     ]
    }
   ],
   "source": [
    "# Use the imputation() function\n",
    "imputation(clean_cat_df, 'soft_cheese', 'soft_cheese_pd')"
   ]
  },
  {
   "cell_type": "code",
   "execution_count": 75,
   "id": "9c4fc6b0-3e58-46cb-8273-584c4c9685ff",
   "metadata": {
    "scrolled": true
   },
   "outputs": [
    {
     "name": "stdout",
     "output_type": "stream",
     "text": [
      "Total converted: 204\n",
      "soft_cheese_pd\n",
      "100.0    162\n",
      "100       11\n",
      "150.0      7\n",
      "50         5\n",
      "200        5\n",
      "0          4\n",
      "20         2\n",
      "5.0        2\n",
      "125        1\n",
      "400        1\n",
      "30         1\n",
      "175        1\n",
      "150        1\n",
      "300        1\n",
      "Name: count, dtype: int64\n"
     ]
    }
   ],
   "source": [
    "# Check the distribution and confirm the count\n",
    "counts = clean_cat_df['soft_cheese_pd'].value_counts(dropna=False)\n",
    "print(f'Total converted: {counts.sum()}\\n{counts}')"
   ]
  },
  {
   "cell_type": "code",
   "execution_count": 76,
   "id": "77340918-c0de-4da7-95e7-4dd0749062b5",
   "metadata": {
    "scrolled": true
   },
   "outputs": [
    {
     "name": "stdout",
     "output_type": "stream",
     "text": [
      "<class 'pandas.core.frame.DataFrame'>\n",
      "Index: 204 entries, 0 to 207\n",
      "Data columns (total 23 columns):\n",
      " #   Column                Non-Null Count  Dtype  \n",
      "---  ------                --------------  -----  \n",
      " 0   id                    204 non-null    object \n",
      " 1   age                   204 non-null    int64  \n",
      " 2   gender                204 non-null    object \n",
      " 3   diagnosis             204 non-null    object \n",
      " 4   occupation_status     204 non-null    object \n",
      " 5   vhi_score             204 non-null    int64  \n",
      " 6   rsi_score             204 non-null    int64  \n",
      " 7   smoker                204 non-null    object \n",
      " 8   cigarettes_pd         204 non-null    int64  \n",
      " 9   alcohol_consumption   204 non-null    object \n",
      " 10  alcohol_pd            204 non-null    float64\n",
      " 11  water_litres_pd       204 non-null    float64\n",
      " 12  carbonated_beverages  204 non-null    object \n",
      " 13  carbonated_pd         204 non-null    float64\n",
      " 14  tomatoes              204 non-null    object \n",
      " 15  coffee                204 non-null    object \n",
      " 16  coffee_pd             204 non-null    int64  \n",
      " 17  chocolate             204 non-null    object \n",
      " 18  chocolate_grams_pd    204 non-null    int64  \n",
      " 19  soft_cheese           204 non-null    object \n",
      " 20  soft_cheese_pd        204 non-null    int64  \n",
      " 21  citrus_fruits         204 non-null    object \n",
      " 22  citrus_fruits_pd      47 non-null     object \n",
      "dtypes: float64(3), int64(7), object(13)\n",
      "memory usage: 38.2+ KB\n"
     ]
    }
   ],
   "source": [
    "# Convert the column to a float\n",
    "clean_cat_df['soft_cheese_pd'] = clean_cat_df[\n",
    "    'soft_cheese_pd'].astype(float)\n",
    "\n",
    "# Since values are close to integers, cast to integers\n",
    "clean_cat_df['soft_cheese_pd'] = clean_cat_df[\n",
    "    'soft_cheese_pd'].round(0).astype(int)\n",
    "\n",
    "# Confirm changes\n",
    "clean_cat_df.info()"
   ]
  },
  {
   "cell_type": "markdown",
   "id": "c820382d-06b0-46a1-8f71-f3f813f645c3",
   "metadata": {},
   "source": [
    "#### `citrus_fruits_pd` column"
   ]
  },
  {
   "cell_type": "code",
   "execution_count": 77,
   "id": "abca11fc-64c1-4ea6-a188-f2359bd8c798",
   "metadata": {
    "scrolled": true
   },
   "outputs": [
    {
     "data": {
      "text/plain": [
       "citrus_fruits_pd\n",
       "NaN             157\n",
       "1                20\n",
       "2                11\n",
       "1-2               3\n",
       "3                 3\n",
       "1/2               2\n",
       "1/2 for week      1\n",
       "90                1\n",
       "2 for week        1\n",
       "200 gramme        1\n",
       "150 gramme        1\n",
       "100 gramme        1\n",
       "3 for week        1\n",
       "1 for week        1\n",
       "Name: count, dtype: int64"
      ]
     },
     "execution_count": 77,
     "metadata": {},
     "output_type": "execute_result"
    }
   ],
   "source": [
    "# Check the citrus_fruits_pd column\n",
    "clean_cat_df['citrus_fruits_pd'].value_counts(dropna=False)"
   ]
  },
  {
   "cell_type": "markdown",
   "id": "de3dbf7b-1436-4d8d-b9df-22f9a1df5843",
   "metadata": {},
   "source": [
    "__NOTE__: Write a function to convert the gram-value to number of fruits."
   ]
  },
  {
   "cell_type": "code",
   "execution_count": 78,
   "id": "0ba5466a-f371-4d12-b785-5c8075b54eea",
   "metadata": {
    "scrolled": true
   },
   "outputs": [
    {
     "data": {
      "text/plain": [
       "citrus_fruits_pd\n",
       "NaN             157\n",
       "1.0              21\n",
       "2.0              11\n",
       "1-2               3\n",
       "3.0               3\n",
       "1/2               2\n",
       "1/2 for week      1\n",
       "0.6               1\n",
       "2 for week        1\n",
       "1.33              1\n",
       "0.67              1\n",
       "3 for week        1\n",
       "1 for week        1\n",
       "Name: count, dtype: int64"
      ]
     },
     "execution_count": 78,
     "metadata": {},
     "output_type": "execute_result"
    }
   ],
   "source": [
    "# Apply the fruit_gram function to the column\n",
    "clean_cat_df['citrus_fruits_pd'] = clean_cat_df[\n",
    "    'citrus_fruits_pd'].apply(fruit_gram)\n",
    "\n",
    "# Check the value counts\n",
    "clean_cat_df['citrus_fruits_pd'].value_counts(dropna=False)"
   ]
  },
  {
   "cell_type": "code",
   "execution_count": 79,
   "id": "05ebfd5c-e95d-4a93-bfee-1a29674801e6",
   "metadata": {
    "scrolled": true
   },
   "outputs": [
    {
     "data": {
      "text/plain": [
       "citrus_fruits_pd\n",
       "NaN     157\n",
       "1.00     21\n",
       "2.00     11\n",
       "1.50      5\n",
       "3.00      3\n",
       "0.14      2\n",
       "0.60      1\n",
       "0.29      1\n",
       "1.33      1\n",
       "0.67      1\n",
       "0.43      1\n",
       "Name: count, dtype: int64"
      ]
     },
     "execution_count": 79,
     "metadata": {},
     "output_type": "execute_result"
    }
   ],
   "source": [
    "# Apply the clean_pd function to the column\n",
    "clean_cat_df['citrus_fruits_pd'] = clean_cat_df[\n",
    "    'citrus_fruits_pd'].apply(clean_pd)\n",
    "\n",
    "# Check the value counts\n",
    "clean_cat_df['citrus_fruits_pd'].value_counts(dropna=False)"
   ]
  },
  {
   "cell_type": "code",
   "execution_count": 80,
   "id": "744eba56-21ce-4341-ad4f-8cdcbbe1f331",
   "metadata": {
    "scrolled": true
   },
   "outputs": [
    {
     "data": {
      "text/plain": [
       "citrus_fruits  citrus_fruits_pd\n",
       "sometimes      NaN                 92\n",
       "almost never   NaN                 33\n",
       "almost always  NaN                 16\n",
       "never          NaN                 12\n",
       "always         NaN                  4\n",
       "Name: count, dtype: int64"
      ]
     },
     "execution_count": 80,
     "metadata": {},
     "output_type": "execute_result"
    }
   ],
   "source": [
    "# Check the NaN values\n",
    "citrus_columns = ['citrus_fruits', 'citrus_fruits_pd']\n",
    "clean_cat_df\\\n",
    "    .loc[clean_cat_df['citrus_fruits_pd'].isnull(), citrus_columns]\\\n",
    "    .value_counts(dropna=False)"
   ]
  },
  {
   "cell_type": "code",
   "execution_count": 81,
   "id": "a673764d-e69a-406c-87af-f4aa0c3d1d6a",
   "metadata": {
    "scrolled": true
   },
   "outputs": [
    {
     "name": "stdout",
     "output_type": "stream",
     "text": [
      "['never' 'almost always' 'sometimes' 'always' 'almost never']\n"
     ]
    },
    {
     "data": {
      "image/png": "[encoded data removed]",
      "text/plain": [
       "<Figure size 640x480 with 1 Axes>"
      ]
     },
     "metadata": {},
     "output_type": "display_data"
    },
    {
     "name": "stdout",
     "output_type": "stream",
     "text": [
      "Skewness: 1.0, use MEDIAN.\n",
      "Median value for \"almost always\": 1.17\n"
     ]
    },
    {
     "data": {
      "image/png": "[encoded data removed]",
      "text/plain": [
       "<Figure size 640x480 with 1 Axes>"
      ]
     },
     "metadata": {},
     "output_type": "display_data"
    },
    {
     "name": "stdout",
     "output_type": "stream",
     "text": [
      "Skewness: 1.06, use MEDIAN.\n",
      "Median value for \"sometimes\": 1.0\n"
     ]
    },
    {
     "data": {
      "image/png": "[encoded data removed]",
      "text/plain": [
       "<Figure size 640x480 with 1 Axes>"
      ]
     },
     "metadata": {},
     "output_type": "display_data"
    },
    {
     "name": "stdout",
     "output_type": "stream",
     "text": [
      "Skewness: 0.75, use MEDIAN.\n",
      "Median value for \"always\": 1.5\n"
     ]
    },
    {
     "data": {
      "image/png": "[encoded data removed]",
      "text/plain": [
       "<Figure size 640x480 with 1 Axes>"
      ]
     },
     "metadata": {},
     "output_type": "display_data"
    },
    {
     "name": "stdout",
     "output_type": "stream",
     "text": [
      "Skewness: 0.0, use MEAN.\n",
      "Mean value for \"almost never\": 0.22\n"
     ]
    }
   ],
   "source": [
    "# Use the imputation() function\n",
    "imputation(clean_cat_df, 'citrus_fruits', 'citrus_fruits_pd')"
   ]
  },
  {
   "cell_type": "code",
   "execution_count": 82,
   "id": "4399ea88-4ae4-4ecd-b844-0760b5d87c99",
   "metadata": {
    "scrolled": true
   },
   "outputs": [
    {
     "name": "stdout",
     "output_type": "stream",
     "text": [
      "Total converted: 204\n",
      "citrus_fruits_pd\n",
      "1.00    113\n",
      "0.22     33\n",
      "1.17     16\n",
      "0.00     12\n",
      "2.00     11\n",
      "1.50      9\n",
      "3.00      3\n",
      "0.14      2\n",
      "0.60      1\n",
      "0.29      1\n",
      "1.33      1\n",
      "0.67      1\n",
      "0.43      1\n",
      "Name: count, dtype: int64\n"
     ]
    }
   ],
   "source": [
    "# Check the distribution and confirm the count\n",
    "counts = clean_cat_df['citrus_fruits_pd'].value_counts(dropna=False)\n",
    "print(f'Total converted: {counts.sum()}\\n{counts}')"
   ]
  },
  {
   "cell_type": "code",
   "execution_count": 83,
   "id": "9094a937-519b-4092-86ce-317e58687283",
   "metadata": {
    "scrolled": true
   },
   "outputs": [
    {
     "data": {
      "text/plain": [
       "citrus_fruits  citrus_fruits_pd\n",
       "almost always  1.00                 12\n",
       "               1.17                 16\n",
       "               1.33                  1\n",
       "               1.50                  3\n",
       "               2.00                  7\n",
       "               3.00                  1\n",
       "almost never   0.14                  1\n",
       "               0.22                 33\n",
       "               0.29                  1\n",
       "always         1.00                  1\n",
       "               1.50                  6\n",
       "               2.00                  1\n",
       "               3.00                  1\n",
       "never          0.00                 12\n",
       "sometimes      0.14                  1\n",
       "               0.43                  1\n",
       "               0.60                  1\n",
       "               0.67                  1\n",
       "               1.00                100\n",
       "               2.00                  3\n",
       "               3.00                  1\n",
       "Name: count, dtype: int64"
      ]
     },
     "execution_count": 83,
     "metadata": {},
     "output_type": "execute_result"
    }
   ],
   "source": [
    "# Determine whether to cast to int or retain float\n",
    "citrus_columns = ['citrus_fruits', 'citrus_fruits_pd']\n",
    "clean_cat_df[citrus_columns].value_counts(dropna=False).sort_index()"
   ]
  },
  {
   "cell_type": "code",
   "execution_count": 84,
   "id": "1bfc755d-20df-4575-9f62-465d5081ecbb",
   "metadata": {
    "scrolled": true
   },
   "outputs": [
    {
     "name": "stdout",
     "output_type": "stream",
     "text": [
      "<class 'pandas.core.frame.DataFrame'>\n",
      "Index: 204 entries, 0 to 207\n",
      "Data columns (total 23 columns):\n",
      " #   Column                Non-Null Count  Dtype  \n",
      "---  ------                --------------  -----  \n",
      " 0   id                    204 non-null    object \n",
      " 1   age                   204 non-null    int64  \n",
      " 2   gender                204 non-null    object \n",
      " 3   diagnosis             204 non-null    object \n",
      " 4   occupation_status     204 non-null    object \n",
      " 5   vhi_score             204 non-null    int64  \n",
      " 6   rsi_score             204 non-null    int64  \n",
      " 7   smoker                204 non-null    object \n",
      " 8   cigarettes_pd         204 non-null    int64  \n",
      " 9   alcohol_consumption   204 non-null    object \n",
      " 10  alcohol_pd            204 non-null    float64\n",
      " 11  water_litres_pd       204 non-null    float64\n",
      " 12  carbonated_beverages  204 non-null    object \n",
      " 13  carbonated_pd         204 non-null    float64\n",
      " 14  tomatoes              204 non-null    object \n",
      " 15  coffee                204 non-null    object \n",
      " 16  coffee_pd             204 non-null    int64  \n",
      " 17  chocolate             204 non-null    object \n",
      " 18  chocolate_grams_pd    204 non-null    int64  \n",
      " 19  soft_cheese           204 non-null    object \n",
      " 20  soft_cheese_pd        204 non-null    int64  \n",
      " 21  citrus_fruits         204 non-null    object \n",
      " 22  citrus_fruits_pd      204 non-null    float64\n",
      "dtypes: float64(4), int64(7), object(12)\n",
      "memory usage: 38.2+ KB\n"
     ]
    }
   ],
   "source": [
    "# Convert the column to a float with 2 decimal points\n",
    "clean_cat_df['citrus_fruits_pd'] = clean_cat_df[\n",
    "    'citrus_fruits_pd'].astype(float).round(2)\n",
    "\n",
    "# Confirm changes\n",
    "clean_cat_df.info()"
   ]
  },
  {
   "cell_type": "code",
   "execution_count": 85,
   "id": "b8388b67-004a-4966-8ea3-d950e7f42b31",
   "metadata": {
    "scrolled": true
   },
   "outputs": [],
   "source": [
    "# Create a `clean_num_df`\n",
    "clean_num_df = clean_cat_df.copy()"
   ]
  },
  {
   "cell_type": "markdown",
   "id": "dcdaf509-4944-4f5d-8c9b-0c0064a1332c",
   "metadata": {},
   "source": [
    "### Clean target variable: `diagnosis`"
   ]
  },
  {
   "cell_type": "code",
   "execution_count": 86,
   "id": "1aa401fb-41a8-4e0b-9640-6c7ae58d5e47",
   "metadata": {
    "scrolled": true
   },
   "outputs": [
    {
     "data": {
      "text/plain": [
       "diagnosis\n",
       "healthy                                                57\n",
       "hyperkinetic dysphonia                                 41\n",
       "reflux laryngitis                                      38\n",
       "hypokinetic dysphonia                                  20\n",
       "hyperkinetic dysphonia (Prolapse)                       9\n",
       "hypokinetic dysphonia (glottic insufficiency)           6\n",
       "hyperkinetic dysphonia (Polyps)                         5\n",
       "hypokinetic dysphonia (Vocal fold paralysis)            4\n",
       "hyperkinetic dysphonia (Reinke's edema)                 3\n",
       "hyperkinetic dysphonia (nodule)                         3\n",
       "hyperkinetic dysphonia (Nodule)                         2\n",
       "hypokinetic dysphonia (Extraglottic air leak)           1\n",
       "hypokinetic dysphonia (Glottic insufficiency)           1\n",
       "hypokinetic dysphonia (Dysphonia by chordal groove)     1\n",
       "hyperkinetic dysphonia (polyps)                         1\n",
       "hyperkinetic dysphonia (Adduction deficit)              1\n",
       "hypokinetic dysphonia (Adduction deficit)               1\n",
       "hypokinetic dysphonia (Laryngitis)                      1\n",
       "hyperkinetic dysphonia  (Rigid vocal fold)              1\n",
       "hyperkinetic dysphonia (Cordite)                        1\n",
       "hyperkinetic dysphonia (Vocal fold paralysis)           1\n",
       "hyperkinetic dysphonia (Vocal fold nodules)             1\n",
       "hypokinetic dysphonia (Bilateral vocal fold)            1\n",
       "hypokinetic dysphonia (Presbiphonia)                    1\n",
       "hypokinetic dysphonia (Conversion dysphonia)            1\n",
       "hyperkinetic dysphonia (Vocal fold prolapse)            1\n",
       "hypokinetic dysphonia (Spasmodic dysphonia)             1\n",
       "Name: count, dtype: int64"
      ]
     },
     "execution_count": 86,
     "metadata": {},
     "output_type": "execute_result"
    }
   ],
   "source": [
    "# Check the diagnosis column\n",
    "clean_num_df['diagnosis'].value_counts(dropna=False)"
   ]
  },
  {
   "cell_type": "code",
   "execution_count": 87,
   "id": "34e96956-fb07-4876-b94e-f33dad5f7c54",
   "metadata": {
    "scrolled": true
   },
   "outputs": [
    {
     "data": {
      "text/html": [
       "<div>\n",
       "<style scoped>\n",
       "    .dataframe tbody tr th:only-of-type {\n",
       "        vertical-align: middle;\n",
       "    }\n",
       "\n",
       "    .dataframe tbody tr th {\n",
       "        vertical-align: top;\n",
       "    }\n",
       "\n",
       "    .dataframe thead th {\n",
       "        text-align: right;\n",
       "    }\n",
       "</style>\n",
       "<table border=\"1\" class=\"dataframe\">\n",
       "  <thead>\n",
       "    <tr style=\"text-align: right;\">\n",
       "      <th></th>\n",
       "      <th>diagnosis</th>\n",
       "      <th>base</th>\n",
       "      <th>subtype</th>\n",
       "    </tr>\n",
       "  </thead>\n",
       "  <tbody>\n",
       "    <tr>\n",
       "      <th>0</th>\n",
       "      <td>healthy</td>\n",
       "      <td>NaN</td>\n",
       "      <td>NaN</td>\n",
       "    </tr>\n",
       "    <tr>\n",
       "      <th>1</th>\n",
       "      <td>healthy</td>\n",
       "      <td>NaN</td>\n",
       "      <td>NaN</td>\n",
       "    </tr>\n",
       "    <tr>\n",
       "      <th>2</th>\n",
       "      <td>hyperkinetic dysphonia</td>\n",
       "      <td>NaN</td>\n",
       "      <td>NaN</td>\n",
       "    </tr>\n",
       "    <tr>\n",
       "      <th>3</th>\n",
       "      <td>hyperkinetic dysphonia</td>\n",
       "      <td>NaN</td>\n",
       "      <td>NaN</td>\n",
       "    </tr>\n",
       "    <tr>\n",
       "      <th>4</th>\n",
       "      <td>reflux laryngitis</td>\n",
       "      <td>NaN</td>\n",
       "      <td>NaN</td>\n",
       "    </tr>\n",
       "    <tr>\n",
       "      <th>5</th>\n",
       "      <td>hyperkinetic dysphonia (nodule)</td>\n",
       "      <td>hyperkinetic dysphonia</td>\n",
       "      <td>nodule</td>\n",
       "    </tr>\n",
       "    <tr>\n",
       "      <th>6</th>\n",
       "      <td>hyperkinetic dysphonia</td>\n",
       "      <td>NaN</td>\n",
       "      <td>NaN</td>\n",
       "    </tr>\n",
       "    <tr>\n",
       "      <th>7</th>\n",
       "      <td>hypokinetic dysphonia (Presbiphonia)</td>\n",
       "      <td>hypokinetic dysphonia</td>\n",
       "      <td>presbiphonia</td>\n",
       "    </tr>\n",
       "    <tr>\n",
       "      <th>8</th>\n",
       "      <td>reflux laryngitis</td>\n",
       "      <td>NaN</td>\n",
       "      <td>NaN</td>\n",
       "    </tr>\n",
       "    <tr>\n",
       "      <th>9</th>\n",
       "      <td>healthy</td>\n",
       "      <td>NaN</td>\n",
       "      <td>NaN</td>\n",
       "    </tr>\n",
       "  </tbody>\n",
       "</table>\n",
       "</div>"
      ],
      "text/plain": [
       "                              diagnosis                     base       subtype\n",
       "0                               healthy                      NaN           NaN\n",
       "1                               healthy                      NaN           NaN\n",
       "2                hyperkinetic dysphonia                      NaN           NaN\n",
       "3                hyperkinetic dysphonia                      NaN           NaN\n",
       "4                     reflux laryngitis                      NaN           NaN\n",
       "5       hyperkinetic dysphonia (nodule)  hyperkinetic dysphonia         nodule\n",
       "6                hyperkinetic dysphonia                      NaN           NaN\n",
       "7  hypokinetic dysphonia (Presbiphonia)   hypokinetic dysphonia   presbiphonia\n",
       "8                     reflux laryngitis                      NaN           NaN\n",
       "9                               healthy                      NaN           NaN"
      ]
     },
     "execution_count": 87,
     "metadata": {},
     "output_type": "execute_result"
    }
   ],
   "source": [
    "# Pattern to get text in brackets\n",
    "subtype_pattern = '\\((.*?)\\)'\n",
    "\n",
    "# Pattern to get the rest of the text\n",
    "base_pattern = '^(.*?)\\('\n",
    "\n",
    "# Get subtypes in lowercase\n",
    "clean_num_df['subtype'] = clean_num_df['diagnosis']\\\n",
    "    .apply(str.lower)\\\n",
    "    .str.extract(subtype_pattern)\n",
    "\n",
    "# Get the base in lowercase\n",
    "clean_num_df['base'] = clean_num_df['diagnosis']\\\n",
    "    .apply(str.lower)\\\n",
    "    .str.extract(base_pattern)\n",
    "\n",
    "# Display the updated columns\n",
    "clean_num_df[['diagnosis', 'base', 'subtype']].head(10)"
   ]
  },
  {
   "cell_type": "code",
   "execution_count": 88,
   "id": "cab5daf1-2f9d-4ff6-8919-6424167e5068",
   "metadata": {
    "scrolled": true
   },
   "outputs": [
    {
     "data": {
      "text/html": [
       "<div>\n",
       "<style scoped>\n",
       "    .dataframe tbody tr th:only-of-type {\n",
       "        vertical-align: middle;\n",
       "    }\n",
       "\n",
       "    .dataframe tbody tr th {\n",
       "        vertical-align: top;\n",
       "    }\n",
       "\n",
       "    .dataframe thead th {\n",
       "        text-align: right;\n",
       "    }\n",
       "</style>\n",
       "<table border=\"1\" class=\"dataframe\">\n",
       "  <thead>\n",
       "    <tr style=\"text-align: right;\">\n",
       "      <th></th>\n",
       "      <th>diagnosis</th>\n",
       "      <th>base</th>\n",
       "      <th>subtype</th>\n",
       "    </tr>\n",
       "  </thead>\n",
       "  <tbody>\n",
       "    <tr>\n",
       "      <th>0</th>\n",
       "      <td>healthy</td>\n",
       "      <td>healthy</td>\n",
       "      <td>no subtype</td>\n",
       "    </tr>\n",
       "    <tr>\n",
       "      <th>1</th>\n",
       "      <td>healthy</td>\n",
       "      <td>healthy</td>\n",
       "      <td>no subtype</td>\n",
       "    </tr>\n",
       "    <tr>\n",
       "      <th>2</th>\n",
       "      <td>hyperkinetic dysphonia</td>\n",
       "      <td>hyperkinetic dysphonia</td>\n",
       "      <td>no subtype</td>\n",
       "    </tr>\n",
       "    <tr>\n",
       "      <th>3</th>\n",
       "      <td>hyperkinetic dysphonia</td>\n",
       "      <td>hyperkinetic dysphonia</td>\n",
       "      <td>no subtype</td>\n",
       "    </tr>\n",
       "    <tr>\n",
       "      <th>4</th>\n",
       "      <td>reflux laryngitis</td>\n",
       "      <td>reflux laryngitis</td>\n",
       "      <td>no subtype</td>\n",
       "    </tr>\n",
       "    <tr>\n",
       "      <th>5</th>\n",
       "      <td>hyperkinetic dysphonia (nodule)</td>\n",
       "      <td>hyperkinetic dysphonia</td>\n",
       "      <td>nodule</td>\n",
       "    </tr>\n",
       "    <tr>\n",
       "      <th>6</th>\n",
       "      <td>hyperkinetic dysphonia</td>\n",
       "      <td>hyperkinetic dysphonia</td>\n",
       "      <td>no subtype</td>\n",
       "    </tr>\n",
       "    <tr>\n",
       "      <th>7</th>\n",
       "      <td>hypokinetic dysphonia (Presbiphonia)</td>\n",
       "      <td>hypokinetic dysphonia</td>\n",
       "      <td>presbiphonia</td>\n",
       "    </tr>\n",
       "    <tr>\n",
       "      <th>8</th>\n",
       "      <td>reflux laryngitis</td>\n",
       "      <td>reflux laryngitis</td>\n",
       "      <td>no subtype</td>\n",
       "    </tr>\n",
       "    <tr>\n",
       "      <th>9</th>\n",
       "      <td>healthy</td>\n",
       "      <td>healthy</td>\n",
       "      <td>no subtype</td>\n",
       "    </tr>\n",
       "  </tbody>\n",
       "</table>\n",
       "</div>"
      ],
      "text/plain": [
       "                              diagnosis                     base       subtype\n",
       "0                               healthy                  healthy    no subtype\n",
       "1                               healthy                  healthy    no subtype\n",
       "2                hyperkinetic dysphonia   hyperkinetic dysphonia    no subtype\n",
       "3                hyperkinetic dysphonia   hyperkinetic dysphonia    no subtype\n",
       "4                     reflux laryngitis        reflux laryngitis    no subtype\n",
       "5       hyperkinetic dysphonia (nodule)  hyperkinetic dysphonia         nodule\n",
       "6                hyperkinetic dysphonia   hyperkinetic dysphonia    no subtype\n",
       "7  hypokinetic dysphonia (Presbiphonia)   hypokinetic dysphonia   presbiphonia\n",
       "8                     reflux laryngitis        reflux laryngitis    no subtype\n",
       "9                               healthy                  healthy    no subtype"
      ]
     },
     "execution_count": 88,
     "metadata": {},
     "output_type": "execute_result"
    }
   ],
   "source": [
    "# Fill the base null values with the diagnosis value and lowercase\n",
    "clean_num_df['base'] = clean_num_df['base'].fillna(clean_num_df['diagnosis'])\n",
    "\n",
    "# Fill the subtype null values with 'no subtype'\n",
    "clean_num_df['subtype'] = clean_num_df['subtype'].fillna('no subtype')\n",
    "\n",
    "# Display the updated columns\n",
    "clean_num_df[['diagnosis', 'base', 'subtype']].head(10)"
   ]
  },
  {
   "cell_type": "code",
   "execution_count": 89,
   "id": "4e8d1ec0-c5e1-40ce-8ef5-9fecf0280281",
   "metadata": {
    "scrolled": true
   },
   "outputs": [
    {
     "data": {
      "text/plain": [
       "base\n",
       "healthy                     57\n",
       "hyperkinetic dysphonia      41\n",
       "reflux laryngitis           38\n",
       "hyperkinetic dysphonia      28\n",
       "hypokinetic dysphonia       20\n",
       "hypokinetic dysphonia       19\n",
       "hyperkinetic dysphonia       1\n",
       "Name: count, dtype: int64"
      ]
     },
     "execution_count": 89,
     "metadata": {},
     "output_type": "execute_result"
    }
   ],
   "source": [
    "# Check the base column\n",
    "clean_num_df['base'].value_counts(dropna=False)"
   ]
  },
  {
   "cell_type": "code",
   "execution_count": 90,
   "id": "6a60e076-aaab-4f66-8f26-355ee8a6e143",
   "metadata": {
    "scrolled": true
   },
   "outputs": [
    {
     "data": {
      "text/plain": [
       "base\n",
       "hyperkinetic dysphonia    70\n",
       "healthy                   57\n",
       "hypokinetic dysphonia     39\n",
       "reflux laryngitis         38\n",
       "Name: count, dtype: int64"
      ]
     },
     "execution_count": 90,
     "metadata": {},
     "output_type": "execute_result"
    }
   ],
   "source": [
    "# Strip the whitespaces from the column\n",
    "clean_num_df['base'] = clean_num_df['base'].str.strip()\n",
    "\n",
    "# Check the base column\n",
    "clean_num_df['base'].value_counts(dropna=False)"
   ]
  },
  {
   "cell_type": "code",
   "execution_count": 91,
   "id": "96ed57da-87bf-4026-9685-0738d475f6b5",
   "metadata": {
    "scrolled": true
   },
   "outputs": [
    {
     "data": {
      "text/plain": [
       "subtype\n",
       "no subtype                     156\n",
       "prolapse                         9\n",
       "glottic insufficiency            7\n",
       "polyps                           6\n",
       "nodule                           5\n",
       "vocal fold paralysis             5\n",
       "reinke's edema                   3\n",
       "adduction deficit                2\n",
       "extraglottic air leak            1\n",
       "vocal fold prolapse              1\n",
       "conversion dysphonia             1\n",
       "presbiphonia                     1\n",
       "bilateral vocal fold             1\n",
       "vocal fold nodules               1\n",
       "cordite                          1\n",
       "rigid vocal fold                 1\n",
       "laryngitis                       1\n",
       "dysphonia by chordal groove      1\n",
       "spasmodic dysphonia              1\n",
       "Name: count, dtype: int64"
      ]
     },
     "execution_count": 91,
     "metadata": {},
     "output_type": "execute_result"
    }
   ],
   "source": [
    "# Check the subtype column\n",
    "clean_num_df['subtype'].value_counts(dropna=False)"
   ]
  },
  {
   "cell_type": "code",
   "execution_count": 92,
   "id": "568e70bf-01fc-4bb2-9c36-fd43dfcaedf1",
   "metadata": {
    "scrolled": true
   },
   "outputs": [
    {
     "data": {
      "text/html": [
       "<div>\n",
       "<style scoped>\n",
       "    .dataframe tbody tr th:only-of-type {\n",
       "        vertical-align: middle;\n",
       "    }\n",
       "\n",
       "    .dataframe tbody tr th {\n",
       "        vertical-align: top;\n",
       "    }\n",
       "\n",
       "    .dataframe thead th {\n",
       "        text-align: right;\n",
       "    }\n",
       "</style>\n",
       "<table border=\"1\" class=\"dataframe\">\n",
       "  <thead>\n",
       "    <tr style=\"text-align: right;\">\n",
       "      <th></th>\n",
       "      <th>id</th>\n",
       "      <th>age</th>\n",
       "      <th>gender</th>\n",
       "      <th>occupation_status</th>\n",
       "      <th>vhi_score</th>\n",
       "      <th>rsi_score</th>\n",
       "      <th>smoker</th>\n",
       "      <th>cigarettes_pd</th>\n",
       "      <th>alcohol_consumption</th>\n",
       "      <th>alcohol_pd</th>\n",
       "      <th>...</th>\n",
       "      <th>coffee</th>\n",
       "      <th>coffee_pd</th>\n",
       "      <th>chocolate</th>\n",
       "      <th>chocolate_grams_pd</th>\n",
       "      <th>soft_cheese</th>\n",
       "      <th>soft_cheese_pd</th>\n",
       "      <th>citrus_fruits</th>\n",
       "      <th>citrus_fruits_pd</th>\n",
       "      <th>subtype</th>\n",
       "      <th>diagnosis</th>\n",
       "    </tr>\n",
       "  </thead>\n",
       "  <tbody>\n",
       "    <tr>\n",
       "      <th>0</th>\n",
       "      <td>voice100</td>\n",
       "      <td>24</td>\n",
       "      <td>m</td>\n",
       "      <td>unknown</td>\n",
       "      <td>0</td>\n",
       "      <td>5</td>\n",
       "      <td>no</td>\n",
       "      <td>0</td>\n",
       "      <td>casual</td>\n",
       "      <td>0.36</td>\n",
       "      <td>...</td>\n",
       "      <td>always</td>\n",
       "      <td>3</td>\n",
       "      <td>sometimes</td>\n",
       "      <td>30</td>\n",
       "      <td>almost always</td>\n",
       "      <td>100</td>\n",
       "      <td>never</td>\n",
       "      <td>0.00</td>\n",
       "      <td>no subtype</td>\n",
       "      <td>healthy</td>\n",
       "    </tr>\n",
       "    <tr>\n",
       "      <th>1</th>\n",
       "      <td>voice101</td>\n",
       "      <td>60</td>\n",
       "      <td>m</td>\n",
       "      <td>unknown</td>\n",
       "      <td>80</td>\n",
       "      <td>10</td>\n",
       "      <td>no</td>\n",
       "      <td>0</td>\n",
       "      <td>nondrinker</td>\n",
       "      <td>0.00</td>\n",
       "      <td>...</td>\n",
       "      <td>always</td>\n",
       "      <td>4</td>\n",
       "      <td>sometimes</td>\n",
       "      <td>30</td>\n",
       "      <td>sometimes</td>\n",
       "      <td>100</td>\n",
       "      <td>never</td>\n",
       "      <td>0.00</td>\n",
       "      <td>no subtype</td>\n",
       "      <td>healthy</td>\n",
       "    </tr>\n",
       "    <tr>\n",
       "      <th>2</th>\n",
       "      <td>voice192</td>\n",
       "      <td>22</td>\n",
       "      <td>m</td>\n",
       "      <td>cook</td>\n",
       "      <td>0</td>\n",
       "      <td>10</td>\n",
       "      <td>no</td>\n",
       "      <td>0</td>\n",
       "      <td>nondrinker</td>\n",
       "      <td>0.00</td>\n",
       "      <td>...</td>\n",
       "      <td>always</td>\n",
       "      <td>3</td>\n",
       "      <td>always</td>\n",
       "      <td>14</td>\n",
       "      <td>sometimes</td>\n",
       "      <td>100</td>\n",
       "      <td>almost always</td>\n",
       "      <td>1.17</td>\n",
       "      <td>no subtype</td>\n",
       "      <td>hyperkinetic dysphonia</td>\n",
       "    </tr>\n",
       "    <tr>\n",
       "      <th>3</th>\n",
       "      <td>voice193</td>\n",
       "      <td>46</td>\n",
       "      <td>f</td>\n",
       "      <td>housewife</td>\n",
       "      <td>0</td>\n",
       "      <td>36</td>\n",
       "      <td>yes</td>\n",
       "      <td>15</td>\n",
       "      <td>casual</td>\n",
       "      <td>0.36</td>\n",
       "      <td>...</td>\n",
       "      <td>always</td>\n",
       "      <td>2</td>\n",
       "      <td>sometimes</td>\n",
       "      <td>30</td>\n",
       "      <td>sometimes</td>\n",
       "      <td>100</td>\n",
       "      <td>sometimes</td>\n",
       "      <td>1.00</td>\n",
       "      <td>no subtype</td>\n",
       "      <td>hyperkinetic dysphonia</td>\n",
       "    </tr>\n",
       "    <tr>\n",
       "      <th>4</th>\n",
       "      <td>voice008</td>\n",
       "      <td>51</td>\n",
       "      <td>f</td>\n",
       "      <td>researcher</td>\n",
       "      <td>19</td>\n",
       "      <td>15</td>\n",
       "      <td>no</td>\n",
       "      <td>0</td>\n",
       "      <td>casual</td>\n",
       "      <td>0.36</td>\n",
       "      <td>...</td>\n",
       "      <td>always</td>\n",
       "      <td>2</td>\n",
       "      <td>almost always</td>\n",
       "      <td>20</td>\n",
       "      <td>sometimes</td>\n",
       "      <td>100</td>\n",
       "      <td>almost always</td>\n",
       "      <td>1.00</td>\n",
       "      <td>no subtype</td>\n",
       "      <td>reflux laryngitis</td>\n",
       "    </tr>\n",
       "  </tbody>\n",
       "</table>\n",
       "<p>5 rows × 24 columns</p>\n",
       "</div>"
      ],
      "text/plain": [
       "         id  age gender occupation_status  vhi_score  rsi_score smoker  \\\n",
       "0  voice100   24      m           unknown          0          5     no   \n",
       "1  voice101   60      m           unknown         80         10     no   \n",
       "2  voice192   22      m              cook          0         10     no   \n",
       "3  voice193   46      f         housewife          0         36    yes   \n",
       "4  voice008   51      f        researcher         19         15     no   \n",
       "\n",
       "   cigarettes_pd alcohol_consumption  alcohol_pd  ...  coffee coffee_pd  \\\n",
       "0              0              casual        0.36  ...  always         3   \n",
       "1              0          nondrinker        0.00  ...  always         4   \n",
       "2              0          nondrinker        0.00  ...  always         3   \n",
       "3             15              casual        0.36  ...  always         2   \n",
       "4              0              casual        0.36  ...  always         2   \n",
       "\n",
       "       chocolate chocolate_grams_pd    soft_cheese  soft_cheese_pd  \\\n",
       "0      sometimes                 30  almost always             100   \n",
       "1      sometimes                 30      sometimes             100   \n",
       "2         always                 14      sometimes             100   \n",
       "3      sometimes                 30      sometimes             100   \n",
       "4  almost always                 20      sometimes             100   \n",
       "\n",
       "   citrus_fruits  citrus_fruits_pd     subtype               diagnosis  \n",
       "0          never              0.00  no subtype                 healthy  \n",
       "1          never              0.00  no subtype                 healthy  \n",
       "2  almost always              1.17  no subtype  hyperkinetic dysphonia  \n",
       "3      sometimes              1.00  no subtype  hyperkinetic dysphonia  \n",
       "4  almost always              1.00  no subtype       reflux laryngitis  \n",
       "\n",
       "[5 rows x 24 columns]"
      ]
     },
     "execution_count": 92,
     "metadata": {},
     "output_type": "execute_result"
    }
   ],
   "source": [
    "# Drop the diagnosis column\n",
    "clean_num_df = clean_num_df.drop(columns=['diagnosis'])\n",
    "\n",
    "# Replace the 'base' column with 'diagnosis'\n",
    "clean_num_df = clean_num_df.rename(columns={\n",
    "    'base': 'diagnosis'\n",
    "})\n",
    "\n",
    "# Display the dataframe\n",
    "clean_num_df.head()"
   ]
  },
  {
   "cell_type": "markdown",
   "id": "88625f5a-491a-428b-8ce8-8380f1d4b6e6",
   "metadata": {},
   "source": [
    "## Feature Engineering"
   ]
  },
  {
   "cell_type": "code",
   "execution_count": 93,
   "id": "8f8cba1a-e764-49d5-873b-e8eee8931e11",
   "metadata": {
    "scrolled": true
   },
   "outputs": [
    {
     "data": {
      "text/html": [
       "<div>\n",
       "<style scoped>\n",
       "    .dataframe tbody tr th:only-of-type {\n",
       "        vertical-align: middle;\n",
       "    }\n",
       "\n",
       "    .dataframe tbody tr th {\n",
       "        vertical-align: top;\n",
       "    }\n",
       "\n",
       "    .dataframe thead th {\n",
       "        text-align: right;\n",
       "    }\n",
       "</style>\n",
       "<table border=\"1\" class=\"dataframe\">\n",
       "  <thead>\n",
       "    <tr style=\"text-align: right;\">\n",
       "      <th></th>\n",
       "      <th>id</th>\n",
       "      <th>age</th>\n",
       "      <th>gender</th>\n",
       "      <th>occupation_status</th>\n",
       "      <th>vhi_score</th>\n",
       "      <th>rsi_score</th>\n",
       "      <th>smoker</th>\n",
       "      <th>cigarettes_pd</th>\n",
       "      <th>alcohol_consumption</th>\n",
       "      <th>alcohol_pd</th>\n",
       "      <th>...</th>\n",
       "      <th>coffee_pd</th>\n",
       "      <th>chocolate</th>\n",
       "      <th>chocolate_grams_pd</th>\n",
       "      <th>soft_cheese</th>\n",
       "      <th>soft_cheese_pd</th>\n",
       "      <th>citrus_fruits</th>\n",
       "      <th>citrus_fruits_pd</th>\n",
       "      <th>subtype</th>\n",
       "      <th>diagnosis</th>\n",
       "      <th>reflux_indicated</th>\n",
       "    </tr>\n",
       "  </thead>\n",
       "  <tbody>\n",
       "    <tr>\n",
       "      <th>0</th>\n",
       "      <td>voice100</td>\n",
       "      <td>24</td>\n",
       "      <td>m</td>\n",
       "      <td>unknown</td>\n",
       "      <td>0</td>\n",
       "      <td>5</td>\n",
       "      <td>no</td>\n",
       "      <td>0</td>\n",
       "      <td>casual</td>\n",
       "      <td>0.36</td>\n",
       "      <td>...</td>\n",
       "      <td>3</td>\n",
       "      <td>sometimes</td>\n",
       "      <td>30</td>\n",
       "      <td>almost always</td>\n",
       "      <td>100</td>\n",
       "      <td>never</td>\n",
       "      <td>0.00</td>\n",
       "      <td>no subtype</td>\n",
       "      <td>healthy</td>\n",
       "      <td>0</td>\n",
       "    </tr>\n",
       "    <tr>\n",
       "      <th>1</th>\n",
       "      <td>voice101</td>\n",
       "      <td>60</td>\n",
       "      <td>m</td>\n",
       "      <td>unknown</td>\n",
       "      <td>80</td>\n",
       "      <td>10</td>\n",
       "      <td>no</td>\n",
       "      <td>0</td>\n",
       "      <td>nondrinker</td>\n",
       "      <td>0.00</td>\n",
       "      <td>...</td>\n",
       "      <td>4</td>\n",
       "      <td>sometimes</td>\n",
       "      <td>30</td>\n",
       "      <td>sometimes</td>\n",
       "      <td>100</td>\n",
       "      <td>never</td>\n",
       "      <td>0.00</td>\n",
       "      <td>no subtype</td>\n",
       "      <td>healthy</td>\n",
       "      <td>0</td>\n",
       "    </tr>\n",
       "    <tr>\n",
       "      <th>2</th>\n",
       "      <td>voice192</td>\n",
       "      <td>22</td>\n",
       "      <td>m</td>\n",
       "      <td>cook</td>\n",
       "      <td>0</td>\n",
       "      <td>10</td>\n",
       "      <td>no</td>\n",
       "      <td>0</td>\n",
       "      <td>nondrinker</td>\n",
       "      <td>0.00</td>\n",
       "      <td>...</td>\n",
       "      <td>3</td>\n",
       "      <td>always</td>\n",
       "      <td>14</td>\n",
       "      <td>sometimes</td>\n",
       "      <td>100</td>\n",
       "      <td>almost always</td>\n",
       "      <td>1.17</td>\n",
       "      <td>no subtype</td>\n",
       "      <td>hyperkinetic dysphonia</td>\n",
       "      <td>0</td>\n",
       "    </tr>\n",
       "    <tr>\n",
       "      <th>3</th>\n",
       "      <td>voice193</td>\n",
       "      <td>46</td>\n",
       "      <td>f</td>\n",
       "      <td>housewife</td>\n",
       "      <td>0</td>\n",
       "      <td>36</td>\n",
       "      <td>yes</td>\n",
       "      <td>15</td>\n",
       "      <td>casual</td>\n",
       "      <td>0.36</td>\n",
       "      <td>...</td>\n",
       "      <td>2</td>\n",
       "      <td>sometimes</td>\n",
       "      <td>30</td>\n",
       "      <td>sometimes</td>\n",
       "      <td>100</td>\n",
       "      <td>sometimes</td>\n",
       "      <td>1.00</td>\n",
       "      <td>no subtype</td>\n",
       "      <td>hyperkinetic dysphonia</td>\n",
       "      <td>1</td>\n",
       "    </tr>\n",
       "    <tr>\n",
       "      <th>4</th>\n",
       "      <td>voice008</td>\n",
       "      <td>51</td>\n",
       "      <td>f</td>\n",
       "      <td>researcher</td>\n",
       "      <td>19</td>\n",
       "      <td>15</td>\n",
       "      <td>no</td>\n",
       "      <td>0</td>\n",
       "      <td>casual</td>\n",
       "      <td>0.36</td>\n",
       "      <td>...</td>\n",
       "      <td>2</td>\n",
       "      <td>almost always</td>\n",
       "      <td>20</td>\n",
       "      <td>sometimes</td>\n",
       "      <td>100</td>\n",
       "      <td>almost always</td>\n",
       "      <td>1.00</td>\n",
       "      <td>no subtype</td>\n",
       "      <td>reflux laryngitis</td>\n",
       "      <td>1</td>\n",
       "    </tr>\n",
       "  </tbody>\n",
       "</table>\n",
       "<p>5 rows × 25 columns</p>\n",
       "</div>"
      ],
      "text/plain": [
       "         id  age gender occupation_status  vhi_score  rsi_score smoker  \\\n",
       "0  voice100   24      m           unknown          0          5     no   \n",
       "1  voice101   60      m           unknown         80         10     no   \n",
       "2  voice192   22      m              cook          0         10     no   \n",
       "3  voice193   46      f         housewife          0         36    yes   \n",
       "4  voice008   51      f        researcher         19         15     no   \n",
       "\n",
       "   cigarettes_pd alcohol_consumption  alcohol_pd  ...  coffee_pd  \\\n",
       "0              0              casual        0.36  ...          3   \n",
       "1              0          nondrinker        0.00  ...          4   \n",
       "2              0          nondrinker        0.00  ...          3   \n",
       "3             15              casual        0.36  ...          2   \n",
       "4              0              casual        0.36  ...          2   \n",
       "\n",
       "       chocolate  chocolate_grams_pd    soft_cheese soft_cheese_pd  \\\n",
       "0      sometimes                  30  almost always            100   \n",
       "1      sometimes                  30      sometimes            100   \n",
       "2         always                  14      sometimes            100   \n",
       "3      sometimes                  30      sometimes            100   \n",
       "4  almost always                  20      sometimes            100   \n",
       "\n",
       "   citrus_fruits citrus_fruits_pd     subtype               diagnosis  \\\n",
       "0          never             0.00  no subtype                 healthy   \n",
       "1          never             0.00  no subtype                 healthy   \n",
       "2  almost always             1.17  no subtype  hyperkinetic dysphonia   \n",
       "3      sometimes             1.00  no subtype  hyperkinetic dysphonia   \n",
       "4  almost always             1.00  no subtype       reflux laryngitis   \n",
       "\n",
       "   reflux_indicated  \n",
       "0                 0  \n",
       "1                 0  \n",
       "2                 0  \n",
       "3                 1  \n",
       "4                 1  \n",
       "\n",
       "[5 rows x 25 columns]"
      ]
     },
     "execution_count": 93,
     "metadata": {},
     "output_type": "execute_result"
    }
   ],
   "source": [
    "# Add reflux_indicated column based on rsi_score >= 13\n",
    "clean_num_df['reflux_indicated'] = (clean_num_df['rsi_score'] >= 13).astype(int)\n",
    "\n",
    "# Display the dataframe\n",
    "clean_num_df.head()"
   ]
  },
  {
   "cell_type": "code",
   "execution_count": 94,
   "id": "5ba3b99a-1519-42b2-9a95-86a38728347e",
   "metadata": {
    "scrolled": true
   },
   "outputs": [
    {
     "data": {
      "text/html": [
       "<div>\n",
       "<style scoped>\n",
       "    .dataframe tbody tr th:only-of-type {\n",
       "        vertical-align: middle;\n",
       "    }\n",
       "\n",
       "    .dataframe tbody tr th {\n",
       "        vertical-align: top;\n",
       "    }\n",
       "\n",
       "    .dataframe thead th {\n",
       "        text-align: right;\n",
       "    }\n",
       "</style>\n",
       "<table border=\"1\" class=\"dataframe\">\n",
       "  <thead>\n",
       "    <tr style=\"text-align: right;\">\n",
       "      <th></th>\n",
       "      <th>id</th>\n",
       "      <th>age</th>\n",
       "      <th>gender</th>\n",
       "      <th>occupation_status</th>\n",
       "      <th>vhi_score</th>\n",
       "      <th>rsi_score</th>\n",
       "      <th>smoker</th>\n",
       "      <th>cigarettes_pd</th>\n",
       "      <th>alcohol_consumption</th>\n",
       "      <th>alcohol_pd</th>\n",
       "      <th>...</th>\n",
       "      <th>chocolate</th>\n",
       "      <th>chocolate_grams_pd</th>\n",
       "      <th>soft_cheese</th>\n",
       "      <th>soft_cheese_pd</th>\n",
       "      <th>citrus_fruits</th>\n",
       "      <th>citrus_fruits_pd</th>\n",
       "      <th>subtype</th>\n",
       "      <th>diagnosis</th>\n",
       "      <th>reflux_indicated</th>\n",
       "      <th>vhi_zscore</th>\n",
       "    </tr>\n",
       "  </thead>\n",
       "  <tbody>\n",
       "    <tr>\n",
       "      <th>0</th>\n",
       "      <td>voice100</td>\n",
       "      <td>24</td>\n",
       "      <td>m</td>\n",
       "      <td>unknown</td>\n",
       "      <td>0</td>\n",
       "      <td>5</td>\n",
       "      <td>no</td>\n",
       "      <td>0</td>\n",
       "      <td>casual</td>\n",
       "      <td>0.36</td>\n",
       "      <td>...</td>\n",
       "      <td>sometimes</td>\n",
       "      <td>30</td>\n",
       "      <td>almost always</td>\n",
       "      <td>100</td>\n",
       "      <td>never</td>\n",
       "      <td>0.00</td>\n",
       "      <td>no subtype</td>\n",
       "      <td>healthy</td>\n",
       "      <td>0</td>\n",
       "      <td>-0.58</td>\n",
       "    </tr>\n",
       "    <tr>\n",
       "      <th>1</th>\n",
       "      <td>voice101</td>\n",
       "      <td>60</td>\n",
       "      <td>m</td>\n",
       "      <td>unknown</td>\n",
       "      <td>80</td>\n",
       "      <td>10</td>\n",
       "      <td>no</td>\n",
       "      <td>0</td>\n",
       "      <td>nondrinker</td>\n",
       "      <td>0.00</td>\n",
       "      <td>...</td>\n",
       "      <td>sometimes</td>\n",
       "      <td>30</td>\n",
       "      <td>sometimes</td>\n",
       "      <td>100</td>\n",
       "      <td>never</td>\n",
       "      <td>0.00</td>\n",
       "      <td>no subtype</td>\n",
       "      <td>healthy</td>\n",
       "      <td>0</td>\n",
       "      <td>4.76</td>\n",
       "    </tr>\n",
       "    <tr>\n",
       "      <th>2</th>\n",
       "      <td>voice192</td>\n",
       "      <td>22</td>\n",
       "      <td>m</td>\n",
       "      <td>cook</td>\n",
       "      <td>0</td>\n",
       "      <td>10</td>\n",
       "      <td>no</td>\n",
       "      <td>0</td>\n",
       "      <td>nondrinker</td>\n",
       "      <td>0.00</td>\n",
       "      <td>...</td>\n",
       "      <td>always</td>\n",
       "      <td>14</td>\n",
       "      <td>sometimes</td>\n",
       "      <td>100</td>\n",
       "      <td>almost always</td>\n",
       "      <td>1.17</td>\n",
       "      <td>no subtype</td>\n",
       "      <td>hyperkinetic dysphonia</td>\n",
       "      <td>0</td>\n",
       "      <td>-0.58</td>\n",
       "    </tr>\n",
       "    <tr>\n",
       "      <th>3</th>\n",
       "      <td>voice193</td>\n",
       "      <td>46</td>\n",
       "      <td>f</td>\n",
       "      <td>housewife</td>\n",
       "      <td>0</td>\n",
       "      <td>36</td>\n",
       "      <td>yes</td>\n",
       "      <td>15</td>\n",
       "      <td>casual</td>\n",
       "      <td>0.36</td>\n",
       "      <td>...</td>\n",
       "      <td>sometimes</td>\n",
       "      <td>30</td>\n",
       "      <td>sometimes</td>\n",
       "      <td>100</td>\n",
       "      <td>sometimes</td>\n",
       "      <td>1.00</td>\n",
       "      <td>no subtype</td>\n",
       "      <td>hyperkinetic dysphonia</td>\n",
       "      <td>1</td>\n",
       "      <td>-0.58</td>\n",
       "    </tr>\n",
       "    <tr>\n",
       "      <th>4</th>\n",
       "      <td>voice008</td>\n",
       "      <td>51</td>\n",
       "      <td>f</td>\n",
       "      <td>researcher</td>\n",
       "      <td>19</td>\n",
       "      <td>15</td>\n",
       "      <td>no</td>\n",
       "      <td>0</td>\n",
       "      <td>casual</td>\n",
       "      <td>0.36</td>\n",
       "      <td>...</td>\n",
       "      <td>almost always</td>\n",
       "      <td>20</td>\n",
       "      <td>sometimes</td>\n",
       "      <td>100</td>\n",
       "      <td>almost always</td>\n",
       "      <td>1.00</td>\n",
       "      <td>no subtype</td>\n",
       "      <td>reflux laryngitis</td>\n",
       "      <td>1</td>\n",
       "      <td>0.68</td>\n",
       "    </tr>\n",
       "  </tbody>\n",
       "</table>\n",
       "<p>5 rows × 26 columns</p>\n",
       "</div>"
      ],
      "text/plain": [
       "         id  age gender occupation_status  vhi_score  rsi_score smoker  \\\n",
       "0  voice100   24      m           unknown          0          5     no   \n",
       "1  voice101   60      m           unknown         80         10     no   \n",
       "2  voice192   22      m              cook          0         10     no   \n",
       "3  voice193   46      f         housewife          0         36    yes   \n",
       "4  voice008   51      f        researcher         19         15     no   \n",
       "\n",
       "   cigarettes_pd alcohol_consumption  alcohol_pd  ...      chocolate  \\\n",
       "0              0              casual        0.36  ...      sometimes   \n",
       "1              0          nondrinker        0.00  ...      sometimes   \n",
       "2              0          nondrinker        0.00  ...         always   \n",
       "3             15              casual        0.36  ...      sometimes   \n",
       "4              0              casual        0.36  ...  almost always   \n",
       "\n",
       "  chocolate_grams_pd    soft_cheese soft_cheese_pd  citrus_fruits  \\\n",
       "0                 30  almost always            100          never   \n",
       "1                 30      sometimes            100          never   \n",
       "2                 14      sometimes            100  almost always   \n",
       "3                 30      sometimes            100      sometimes   \n",
       "4                 20      sometimes            100  almost always   \n",
       "\n",
       "   citrus_fruits_pd     subtype               diagnosis reflux_indicated  \\\n",
       "0              0.00  no subtype                 healthy                0   \n",
       "1              0.00  no subtype                 healthy                0   \n",
       "2              1.17  no subtype  hyperkinetic dysphonia                0   \n",
       "3              1.00  no subtype  hyperkinetic dysphonia                1   \n",
       "4              1.00  no subtype       reflux laryngitis                1   \n",
       "\n",
       "   vhi_zscore  \n",
       "0       -0.58  \n",
       "1        4.76  \n",
       "2       -0.58  \n",
       "3       -0.58  \n",
       "4        0.68  \n",
       "\n",
       "[5 rows x 26 columns]"
      ]
     },
     "execution_count": 94,
     "metadata": {},
     "output_type": "execute_result"
    }
   ],
   "source": [
    "# Add vhi_zscore, based on research paper\n",
    "normal_mean = 8.75\n",
    "stddev = 14.97\n",
    "equation = (clean_num_df['vhi_score'] - normal_mean) / stddev\n",
    "clean_num_df['vhi_zscore'] = round(equation, 2)\n",
    "\n",
    "# Display the dataframe\n",
    "clean_num_df.head()"
   ]
  },
  {
   "cell_type": "markdown",
   "id": "86e9657b-1818-454d-8c94-c31c31d9bc12",
   "metadata": {},
   "source": [
    "__NOTE (from the research paper)__:\n",
    "- Negative values are WNL (within normal limits), negative values mean no perception of handicap.\n",
    "- Positive values indicate that voice impairment has a negative impact on aspects of daily life\n",
    "    - __0 to +1.00__, No significant impact on aspects of daily life\n",
    "    - __+1.01 to +1.99__, Mild significant impact on aspects of daily life\n",
    "    - __+2.00 to +2.99__, Moderate significant impact on aspects of daily life\n",
    "    - __+3.00 or greater__, Severe significant impact on aspects of daily life"
   ]
  },
  {
   "cell_type": "code",
   "execution_count": 95,
   "id": "72ae16d9-c79e-4826-8524-33ae78a97734",
   "metadata": {
    "scrolled": true
   },
   "outputs": [
    {
     "data": {
      "text/html": [
       "<div>\n",
       "<style scoped>\n",
       "    .dataframe tbody tr th:only-of-type {\n",
       "        vertical-align: middle;\n",
       "    }\n",
       "\n",
       "    .dataframe tbody tr th {\n",
       "        vertical-align: top;\n",
       "    }\n",
       "\n",
       "    .dataframe thead th {\n",
       "        text-align: right;\n",
       "    }\n",
       "</style>\n",
       "<table border=\"1\" class=\"dataframe\">\n",
       "  <thead>\n",
       "    <tr style=\"text-align: right;\">\n",
       "      <th></th>\n",
       "      <th>id</th>\n",
       "      <th>age</th>\n",
       "      <th>gender</th>\n",
       "      <th>occupation_status</th>\n",
       "      <th>vhi_score</th>\n",
       "      <th>rsi_score</th>\n",
       "      <th>smoker</th>\n",
       "      <th>cigarettes_pd</th>\n",
       "      <th>alcohol_consumption</th>\n",
       "      <th>alcohol_pd</th>\n",
       "      <th>...</th>\n",
       "      <th>chocolate_grams_pd</th>\n",
       "      <th>soft_cheese</th>\n",
       "      <th>soft_cheese_pd</th>\n",
       "      <th>citrus_fruits</th>\n",
       "      <th>citrus_fruits_pd</th>\n",
       "      <th>subtype</th>\n",
       "      <th>diagnosis</th>\n",
       "      <th>reflux_indicated</th>\n",
       "      <th>vhi_zscore</th>\n",
       "      <th>vhi_impact</th>\n",
       "    </tr>\n",
       "  </thead>\n",
       "  <tbody>\n",
       "    <tr>\n",
       "      <th>0</th>\n",
       "      <td>voice100</td>\n",
       "      <td>24</td>\n",
       "      <td>m</td>\n",
       "      <td>unknown</td>\n",
       "      <td>0</td>\n",
       "      <td>5</td>\n",
       "      <td>no</td>\n",
       "      <td>0</td>\n",
       "      <td>casual</td>\n",
       "      <td>0.36</td>\n",
       "      <td>...</td>\n",
       "      <td>30</td>\n",
       "      <td>almost always</td>\n",
       "      <td>100</td>\n",
       "      <td>never</td>\n",
       "      <td>0.00</td>\n",
       "      <td>no subtype</td>\n",
       "      <td>healthy</td>\n",
       "      <td>0</td>\n",
       "      <td>-0.58</td>\n",
       "      <td>0</td>\n",
       "    </tr>\n",
       "    <tr>\n",
       "      <th>1</th>\n",
       "      <td>voice101</td>\n",
       "      <td>60</td>\n",
       "      <td>m</td>\n",
       "      <td>unknown</td>\n",
       "      <td>80</td>\n",
       "      <td>10</td>\n",
       "      <td>no</td>\n",
       "      <td>0</td>\n",
       "      <td>nondrinker</td>\n",
       "      <td>0.00</td>\n",
       "      <td>...</td>\n",
       "      <td>30</td>\n",
       "      <td>sometimes</td>\n",
       "      <td>100</td>\n",
       "      <td>never</td>\n",
       "      <td>0.00</td>\n",
       "      <td>no subtype</td>\n",
       "      <td>healthy</td>\n",
       "      <td>0</td>\n",
       "      <td>4.76</td>\n",
       "      <td>4</td>\n",
       "    </tr>\n",
       "    <tr>\n",
       "      <th>2</th>\n",
       "      <td>voice192</td>\n",
       "      <td>22</td>\n",
       "      <td>m</td>\n",
       "      <td>cook</td>\n",
       "      <td>0</td>\n",
       "      <td>10</td>\n",
       "      <td>no</td>\n",
       "      <td>0</td>\n",
       "      <td>nondrinker</td>\n",
       "      <td>0.00</td>\n",
       "      <td>...</td>\n",
       "      <td>14</td>\n",
       "      <td>sometimes</td>\n",
       "      <td>100</td>\n",
       "      <td>almost always</td>\n",
       "      <td>1.17</td>\n",
       "      <td>no subtype</td>\n",
       "      <td>hyperkinetic dysphonia</td>\n",
       "      <td>0</td>\n",
       "      <td>-0.58</td>\n",
       "      <td>0</td>\n",
       "    </tr>\n",
       "    <tr>\n",
       "      <th>3</th>\n",
       "      <td>voice193</td>\n",
       "      <td>46</td>\n",
       "      <td>f</td>\n",
       "      <td>housewife</td>\n",
       "      <td>0</td>\n",
       "      <td>36</td>\n",
       "      <td>yes</td>\n",
       "      <td>15</td>\n",
       "      <td>casual</td>\n",
       "      <td>0.36</td>\n",
       "      <td>...</td>\n",
       "      <td>30</td>\n",
       "      <td>sometimes</td>\n",
       "      <td>100</td>\n",
       "      <td>sometimes</td>\n",
       "      <td>1.00</td>\n",
       "      <td>no subtype</td>\n",
       "      <td>hyperkinetic dysphonia</td>\n",
       "      <td>1</td>\n",
       "      <td>-0.58</td>\n",
       "      <td>0</td>\n",
       "    </tr>\n",
       "    <tr>\n",
       "      <th>4</th>\n",
       "      <td>voice008</td>\n",
       "      <td>51</td>\n",
       "      <td>f</td>\n",
       "      <td>researcher</td>\n",
       "      <td>19</td>\n",
       "      <td>15</td>\n",
       "      <td>no</td>\n",
       "      <td>0</td>\n",
       "      <td>casual</td>\n",
       "      <td>0.36</td>\n",
       "      <td>...</td>\n",
       "      <td>20</td>\n",
       "      <td>sometimes</td>\n",
       "      <td>100</td>\n",
       "      <td>almost always</td>\n",
       "      <td>1.00</td>\n",
       "      <td>no subtype</td>\n",
       "      <td>reflux laryngitis</td>\n",
       "      <td>1</td>\n",
       "      <td>0.68</td>\n",
       "      <td>1</td>\n",
       "    </tr>\n",
       "  </tbody>\n",
       "</table>\n",
       "<p>5 rows × 27 columns</p>\n",
       "</div>"
      ],
      "text/plain": [
       "         id  age gender occupation_status  vhi_score  rsi_score smoker  \\\n",
       "0  voice100   24      m           unknown          0          5     no   \n",
       "1  voice101   60      m           unknown         80         10     no   \n",
       "2  voice192   22      m              cook          0         10     no   \n",
       "3  voice193   46      f         housewife          0         36    yes   \n",
       "4  voice008   51      f        researcher         19         15     no   \n",
       "\n",
       "   cigarettes_pd alcohol_consumption  alcohol_pd  ...  chocolate_grams_pd  \\\n",
       "0              0              casual        0.36  ...                  30   \n",
       "1              0          nondrinker        0.00  ...                  30   \n",
       "2              0          nondrinker        0.00  ...                  14   \n",
       "3             15              casual        0.36  ...                  30   \n",
       "4              0              casual        0.36  ...                  20   \n",
       "\n",
       "     soft_cheese  soft_cheese_pd  citrus_fruits citrus_fruits_pd     subtype  \\\n",
       "0  almost always             100          never             0.00  no subtype   \n",
       "1      sometimes             100          never             0.00  no subtype   \n",
       "2      sometimes             100  almost always             1.17  no subtype   \n",
       "3      sometimes             100      sometimes             1.00  no subtype   \n",
       "4      sometimes             100  almost always             1.00  no subtype   \n",
       "\n",
       "                diagnosis  reflux_indicated vhi_zscore  vhi_impact  \n",
       "0                 healthy                 0      -0.58           0  \n",
       "1                 healthy                 0       4.76           4  \n",
       "2  hyperkinetic dysphonia                 0      -0.58           0  \n",
       "3  hyperkinetic dysphonia                 1      -0.58           0  \n",
       "4       reflux laryngitis                 1       0.68           1  \n",
       "\n",
       "[5 rows x 27 columns]"
      ]
     },
     "execution_count": 95,
     "metadata": {},
     "output_type": "execute_result"
    }
   ],
   "source": [
    "# Add vhi_impact, based on research paper, encode as integers\n",
    "clean_num_df['vhi_impact'] = pd.cut(\n",
    "    clean_num_df['vhi_zscore'],\n",
    "    bins = [\n",
    "        -float('inf'),\n",
    "        0, # negative values = within normal limits\n",
    "        1, # no significant impact\n",
    "        1.99, # mild significant impact\n",
    "        2.99, # moderate significant impact\n",
    "        float('inf') # severe significant impact\n",
    "    ],\n",
    "    labels = [0, 1, 2, 3, 4]\n",
    ")\n",
    "\n",
    "# Display the dataframe\n",
    "clean_num_df.head()"
   ]
  },
  {
   "cell_type": "markdown",
   "id": "ace6caed-59e2-4b3b-ba98-ce6508c29a2f",
   "metadata": {},
   "source": [
    "## Export to CSVs"
   ]
  },
  {
   "cell_type": "code",
   "execution_count": 96,
   "id": "3f08e811-1358-454b-bdba-20eb6c6758d1",
   "metadata": {
    "scrolled": true
   },
   "outputs": [
    {
     "name": "stdout",
     "output_type": "stream",
     "text": [
      "Shape: (204, 4)\n"
     ]
    },
    {
     "data": {
      "text/html": [
       "<div>\n",
       "<style scoped>\n",
       "    .dataframe tbody tr th:only-of-type {\n",
       "        vertical-align: middle;\n",
       "    }\n",
       "\n",
       "    .dataframe tbody tr th {\n",
       "        vertical-align: top;\n",
       "    }\n",
       "\n",
       "    .dataframe thead th {\n",
       "        text-align: right;\n",
       "    }\n",
       "</style>\n",
       "<table border=\"1\" class=\"dataframe\">\n",
       "  <thead>\n",
       "    <tr style=\"text-align: right;\">\n",
       "      <th></th>\n",
       "      <th>id</th>\n",
       "      <th>age</th>\n",
       "      <th>gender</th>\n",
       "      <th>occupation_status</th>\n",
       "    </tr>\n",
       "  </thead>\n",
       "  <tbody>\n",
       "    <tr>\n",
       "      <th>0</th>\n",
       "      <td>voice100</td>\n",
       "      <td>24</td>\n",
       "      <td>m</td>\n",
       "      <td>unknown</td>\n",
       "    </tr>\n",
       "    <tr>\n",
       "      <th>1</th>\n",
       "      <td>voice101</td>\n",
       "      <td>60</td>\n",
       "      <td>m</td>\n",
       "      <td>unknown</td>\n",
       "    </tr>\n",
       "    <tr>\n",
       "      <th>2</th>\n",
       "      <td>voice192</td>\n",
       "      <td>22</td>\n",
       "      <td>m</td>\n",
       "      <td>cook</td>\n",
       "    </tr>\n",
       "    <tr>\n",
       "      <th>3</th>\n",
       "      <td>voice193</td>\n",
       "      <td>46</td>\n",
       "      <td>f</td>\n",
       "      <td>housewife</td>\n",
       "    </tr>\n",
       "    <tr>\n",
       "      <th>4</th>\n",
       "      <td>voice008</td>\n",
       "      <td>51</td>\n",
       "      <td>f</td>\n",
       "      <td>researcher</td>\n",
       "    </tr>\n",
       "  </tbody>\n",
       "</table>\n",
       "</div>"
      ],
      "text/plain": [
       "         id  age gender occupation_status\n",
       "0  voice100   24      m           unknown\n",
       "1  voice101   60      m           unknown\n",
       "2  voice192   22      m              cook\n",
       "3  voice193   46      f         housewife\n",
       "4  voice008   51      f        researcher"
      ]
     },
     "execution_count": 96,
     "metadata": {},
     "output_type": "execute_result"
    }
   ],
   "source": [
    "# Demographic columns\n",
    "demographic_cols = [\n",
    "    'id',\n",
    "    'age',\n",
    "    'gender',\n",
    "    'occupation_status'\n",
    "]\n",
    "\n",
    "# Create dataframe\n",
    "demographic_df = clean_num_df[demographic_cols].copy()\n",
    "\n",
    "# Display the dataframe\n",
    "print(f'Shape: {demographic_df.shape}')\n",
    "demographic_df.head()"
   ]
  },
  {
   "cell_type": "code",
   "execution_count": 97,
   "id": "f4876ebd-f3aa-45b0-a097-65badea51e84",
   "metadata": {
    "scrolled": true
   },
   "outputs": [
    {
     "name": "stdout",
     "output_type": "stream",
     "text": [
      "Shape: (204, 8)\n"
     ]
    },
    {
     "data": {
      "text/html": [
       "<div>\n",
       "<style scoped>\n",
       "    .dataframe tbody tr th:only-of-type {\n",
       "        vertical-align: middle;\n",
       "    }\n",
       "\n",
       "    .dataframe tbody tr th {\n",
       "        vertical-align: top;\n",
       "    }\n",
       "\n",
       "    .dataframe thead th {\n",
       "        text-align: right;\n",
       "    }\n",
       "</style>\n",
       "<table border=\"1\" class=\"dataframe\">\n",
       "  <thead>\n",
       "    <tr style=\"text-align: right;\">\n",
       "      <th></th>\n",
       "      <th>id</th>\n",
       "      <th>diagnosis</th>\n",
       "      <th>subtype</th>\n",
       "      <th>vhi_score</th>\n",
       "      <th>rsi_score</th>\n",
       "      <th>reflux_indicated</th>\n",
       "      <th>vhi_zscore</th>\n",
       "      <th>vhi_impact</th>\n",
       "    </tr>\n",
       "  </thead>\n",
       "  <tbody>\n",
       "    <tr>\n",
       "      <th>0</th>\n",
       "      <td>voice100</td>\n",
       "      <td>healthy</td>\n",
       "      <td>no subtype</td>\n",
       "      <td>0</td>\n",
       "      <td>5</td>\n",
       "      <td>0</td>\n",
       "      <td>-0.58</td>\n",
       "      <td>0</td>\n",
       "    </tr>\n",
       "    <tr>\n",
       "      <th>1</th>\n",
       "      <td>voice101</td>\n",
       "      <td>healthy</td>\n",
       "      <td>no subtype</td>\n",
       "      <td>80</td>\n",
       "      <td>10</td>\n",
       "      <td>0</td>\n",
       "      <td>4.76</td>\n",
       "      <td>4</td>\n",
       "    </tr>\n",
       "    <tr>\n",
       "      <th>2</th>\n",
       "      <td>voice192</td>\n",
       "      <td>hyperkinetic dysphonia</td>\n",
       "      <td>no subtype</td>\n",
       "      <td>0</td>\n",
       "      <td>10</td>\n",
       "      <td>0</td>\n",
       "      <td>-0.58</td>\n",
       "      <td>0</td>\n",
       "    </tr>\n",
       "    <tr>\n",
       "      <th>3</th>\n",
       "      <td>voice193</td>\n",
       "      <td>hyperkinetic dysphonia</td>\n",
       "      <td>no subtype</td>\n",
       "      <td>0</td>\n",
       "      <td>36</td>\n",
       "      <td>1</td>\n",
       "      <td>-0.58</td>\n",
       "      <td>0</td>\n",
       "    </tr>\n",
       "    <tr>\n",
       "      <th>4</th>\n",
       "      <td>voice008</td>\n",
       "      <td>reflux laryngitis</td>\n",
       "      <td>no subtype</td>\n",
       "      <td>19</td>\n",
       "      <td>15</td>\n",
       "      <td>1</td>\n",
       "      <td>0.68</td>\n",
       "      <td>1</td>\n",
       "    </tr>\n",
       "  </tbody>\n",
       "</table>\n",
       "</div>"
      ],
      "text/plain": [
       "         id               diagnosis     subtype  vhi_score  rsi_score  \\\n",
       "0  voice100                 healthy  no subtype          0          5   \n",
       "1  voice101                 healthy  no subtype         80         10   \n",
       "2  voice192  hyperkinetic dysphonia  no subtype          0         10   \n",
       "3  voice193  hyperkinetic dysphonia  no subtype          0         36   \n",
       "4  voice008       reflux laryngitis  no subtype         19         15   \n",
       "\n",
       "   reflux_indicated  vhi_zscore vhi_impact  \n",
       "0                 0       -0.58          0  \n",
       "1                 0        4.76          4  \n",
       "2                 0       -0.58          0  \n",
       "3                 1       -0.58          0  \n",
       "4                 1        0.68          1  "
      ]
     },
     "execution_count": 97,
     "metadata": {},
     "output_type": "execute_result"
    }
   ],
   "source": [
    "# Diagnosis columns\n",
    "diagnosis_cols = [\n",
    "    'id',\n",
    "    'diagnosis',\n",
    "    'subtype',\n",
    "    'vhi_score',\n",
    "    'rsi_score',\n",
    "    'reflux_indicated',\n",
    "    'vhi_zscore',\n",
    "    'vhi_impact'\n",
    "]\n",
    "\n",
    "# Create dataframe\n",
    "diagnosis_df = clean_num_df[diagnosis_cols].copy()\n",
    "\n",
    "# Display the dataframe\n",
    "print(f'Shape: {diagnosis_df.shape}')\n",
    "diagnosis_df.head()"
   ]
  },
  {
   "cell_type": "code",
   "execution_count": 98,
   "id": "8adf374b-1667-4813-ba0d-97c9be221df2",
   "metadata": {
    "scrolled": true
   },
   "outputs": [
    {
     "data": {
      "text/plain": [
       "['id',\n",
       " 'carbonated_beverages',\n",
       " 'citrus_fruits_pd',\n",
       " 'tomatoes',\n",
       " 'alcohol_consumption',\n",
       " 'cigarettes_pd',\n",
       " 'chocolate',\n",
       " 'soft_cheese_pd',\n",
       " 'smoker',\n",
       " 'water_litres_pd',\n",
       " 'coffee_pd',\n",
       " 'alcohol_pd',\n",
       " 'citrus_fruits',\n",
       " 'coffee',\n",
       " 'soft_cheese',\n",
       " 'carbonated_pd',\n",
       " 'chocolate_grams_pd']"
      ]
     },
     "execution_count": 98,
     "metadata": {},
     "output_type": "execute_result"
    }
   ],
   "source": [
    "# Select the habits columns\n",
    "habits_cols = list(set(clean_num_df.columns)\\\n",
    "    .difference(set(demographic_cols))\\\n",
    "    .difference(set(diagnosis_cols)))\n",
    "\n",
    "# Return 'id'\n",
    "habits_cols.insert(0, 'id')\n",
    "habits_cols"
   ]
  },
  {
   "cell_type": "code",
   "execution_count": 99,
   "id": "9e81af6f-cb58-451f-b6c7-6a3dad2d9eba",
   "metadata": {
    "scrolled": true
   },
   "outputs": [
    {
     "name": "stdout",
     "output_type": "stream",
     "text": [
      "Shape: (204, 17)\n"
     ]
    },
    {
     "data": {
      "text/html": [
       "<div>\n",
       "<style scoped>\n",
       "    .dataframe tbody tr th:only-of-type {\n",
       "        vertical-align: middle;\n",
       "    }\n",
       "\n",
       "    .dataframe tbody tr th {\n",
       "        vertical-align: top;\n",
       "    }\n",
       "\n",
       "    .dataframe thead th {\n",
       "        text-align: right;\n",
       "    }\n",
       "</style>\n",
       "<table border=\"1\" class=\"dataframe\">\n",
       "  <thead>\n",
       "    <tr style=\"text-align: right;\">\n",
       "      <th></th>\n",
       "      <th>id</th>\n",
       "      <th>alcohol_consumption</th>\n",
       "      <th>alcohol_pd</th>\n",
       "      <th>smoker</th>\n",
       "      <th>cigarettes_pd</th>\n",
       "      <th>carbonated_beverages</th>\n",
       "      <th>carbonated_pd</th>\n",
       "      <th>chocolate</th>\n",
       "      <th>chocolate_grams_pd</th>\n",
       "      <th>coffee</th>\n",
       "      <th>coffee_pd</th>\n",
       "      <th>citrus_fruits</th>\n",
       "      <th>citrus_fruits_pd</th>\n",
       "      <th>soft_cheese</th>\n",
       "      <th>soft_cheese_pd</th>\n",
       "      <th>tomatoes</th>\n",
       "      <th>water_litres_pd</th>\n",
       "    </tr>\n",
       "  </thead>\n",
       "  <tbody>\n",
       "    <tr>\n",
       "      <th>0</th>\n",
       "      <td>voice100</td>\n",
       "      <td>casual</td>\n",
       "      <td>0.36</td>\n",
       "      <td>no</td>\n",
       "      <td>0</td>\n",
       "      <td>almost always</td>\n",
       "      <td>3.00</td>\n",
       "      <td>sometimes</td>\n",
       "      <td>30</td>\n",
       "      <td>always</td>\n",
       "      <td>3</td>\n",
       "      <td>never</td>\n",
       "      <td>0.00</td>\n",
       "      <td>almost always</td>\n",
       "      <td>100</td>\n",
       "      <td>never</td>\n",
       "      <td>1.5</td>\n",
       "    </tr>\n",
       "    <tr>\n",
       "      <th>1</th>\n",
       "      <td>voice101</td>\n",
       "      <td>nondrinker</td>\n",
       "      <td>0.00</td>\n",
       "      <td>no</td>\n",
       "      <td>0</td>\n",
       "      <td>almost always</td>\n",
       "      <td>3.00</td>\n",
       "      <td>sometimes</td>\n",
       "      <td>30</td>\n",
       "      <td>always</td>\n",
       "      <td>4</td>\n",
       "      <td>never</td>\n",
       "      <td>0.00</td>\n",
       "      <td>sometimes</td>\n",
       "      <td>100</td>\n",
       "      <td>sometimes</td>\n",
       "      <td>1.5</td>\n",
       "    </tr>\n",
       "    <tr>\n",
       "      <th>2</th>\n",
       "      <td>voice192</td>\n",
       "      <td>nondrinker</td>\n",
       "      <td>0.00</td>\n",
       "      <td>no</td>\n",
       "      <td>0</td>\n",
       "      <td>never</td>\n",
       "      <td>0.00</td>\n",
       "      <td>always</td>\n",
       "      <td>14</td>\n",
       "      <td>always</td>\n",
       "      <td>3</td>\n",
       "      <td>almost always</td>\n",
       "      <td>1.17</td>\n",
       "      <td>sometimes</td>\n",
       "      <td>100</td>\n",
       "      <td>sometimes</td>\n",
       "      <td>2.5</td>\n",
       "    </tr>\n",
       "    <tr>\n",
       "      <th>3</th>\n",
       "      <td>voice193</td>\n",
       "      <td>casual</td>\n",
       "      <td>0.36</td>\n",
       "      <td>yes</td>\n",
       "      <td>15</td>\n",
       "      <td>sometimes</td>\n",
       "      <td>0.61</td>\n",
       "      <td>sometimes</td>\n",
       "      <td>30</td>\n",
       "      <td>always</td>\n",
       "      <td>2</td>\n",
       "      <td>sometimes</td>\n",
       "      <td>1.00</td>\n",
       "      <td>sometimes</td>\n",
       "      <td>100</td>\n",
       "      <td>sometimes</td>\n",
       "      <td>1.0</td>\n",
       "    </tr>\n",
       "    <tr>\n",
       "      <th>4</th>\n",
       "      <td>voice008</td>\n",
       "      <td>casual</td>\n",
       "      <td>0.36</td>\n",
       "      <td>no</td>\n",
       "      <td>0</td>\n",
       "      <td>almost never</td>\n",
       "      <td>0.09</td>\n",
       "      <td>almost always</td>\n",
       "      <td>20</td>\n",
       "      <td>always</td>\n",
       "      <td>2</td>\n",
       "      <td>almost always</td>\n",
       "      <td>1.00</td>\n",
       "      <td>sometimes</td>\n",
       "      <td>100</td>\n",
       "      <td>almost always</td>\n",
       "      <td>1.0</td>\n",
       "    </tr>\n",
       "  </tbody>\n",
       "</table>\n",
       "</div>"
      ],
      "text/plain": [
       "         id alcohol_consumption  alcohol_pd smoker  cigarettes_pd  \\\n",
       "0  voice100              casual        0.36     no              0   \n",
       "1  voice101          nondrinker        0.00     no              0   \n",
       "2  voice192          nondrinker        0.00     no              0   \n",
       "3  voice193              casual        0.36    yes             15   \n",
       "4  voice008              casual        0.36     no              0   \n",
       "\n",
       "  carbonated_beverages  carbonated_pd      chocolate  chocolate_grams_pd  \\\n",
       "0        almost always           3.00      sometimes                  30   \n",
       "1        almost always           3.00      sometimes                  30   \n",
       "2                never           0.00         always                  14   \n",
       "3            sometimes           0.61      sometimes                  30   \n",
       "4         almost never           0.09  almost always                  20   \n",
       "\n",
       "   coffee  coffee_pd  citrus_fruits  citrus_fruits_pd    soft_cheese  \\\n",
       "0  always          3          never              0.00  almost always   \n",
       "1  always          4          never              0.00      sometimes   \n",
       "2  always          3  almost always              1.17      sometimes   \n",
       "3  always          2      sometimes              1.00      sometimes   \n",
       "4  always          2  almost always              1.00      sometimes   \n",
       "\n",
       "   soft_cheese_pd       tomatoes  water_litres_pd  \n",
       "0             100          never              1.5  \n",
       "1             100      sometimes              1.5  \n",
       "2             100      sometimes              2.5  \n",
       "3             100      sometimes              1.0  \n",
       "4             100  almost always              1.0  "
      ]
     },
     "execution_count": 99,
     "metadata": {},
     "output_type": "execute_result"
    }
   ],
   "source": [
    "# Rearrange the habits column\n",
    "habits_cols = [\n",
    "    'id',\n",
    "    'alcohol_consumption', 'alcohol_pd',\n",
    "    'smoker', 'cigarettes_pd',\n",
    "    'carbonated_beverages', 'carbonated_pd',\n",
    "    'chocolate', 'chocolate_grams_pd',\n",
    "    'coffee', 'coffee_pd',\n",
    "    'citrus_fruits', 'citrus_fruits_pd',\n",
    "    'soft_cheese', 'soft_cheese_pd',\n",
    "    'tomatoes',\n",
    "    'water_litres_pd'\n",
    "]\n",
    "\n",
    "# Create dataframe\n",
    "habits_df = clean_num_df[habits_cols].copy()\n",
    "\n",
    "# Display the dataframe\n",
    "print(f'Shape: {habits_df.shape}')\n",
    "habits_df.head()"
   ]
  },
  {
   "cell_type": "code",
   "execution_count": 100,
   "id": "b82da4bc-f588-463d-b8f6-8ec1c05e81f8",
   "metadata": {
    "scrolled": true
   },
   "outputs": [],
   "source": [
    "# Export to CSV\n",
    "demographic_df.to_csv(\n",
    "    \"../resources/clean_data/metadata/demographic.csv\",\n",
    "    encoding = 'utf8',\n",
    "    index = False\n",
    ")"
   ]
  },
  {
   "cell_type": "code",
   "execution_count": 101,
   "id": "e50f5586-2ca6-41f1-9a9b-9f812f153f53",
   "metadata": {
    "scrolled": true
   },
   "outputs": [],
   "source": [
    "# Export to CSV\n",
    "diagnosis_df.to_csv(\n",
    "    \"../resources/clean_data/metadata/diagnosis.csv\",\n",
    "    encoding = 'utf8',\n",
    "    index = False\n",
    ")"
   ]
  },
  {
   "cell_type": "code",
   "execution_count": 102,
   "id": "bfdaac0a-4cfa-4f51-9824-b2c1f2586bbf",
   "metadata": {
    "scrolled": true
   },
   "outputs": [],
   "source": [
    "# Export to CSV\n",
    "habits_df.to_csv(\n",
    "    \"../resources/clean_data/metadata/habits.csv\",\n",
    "    encoding = 'utf8',\n",
    "    index = False\n",
    ")"
   ]
  }
 ],
 "metadata": {
  "kernelspec": {
   "display_name": "dev",
   "language": "python",
   "name": "dev"
  },
  "language_info": {
   "codemirror_mode": {
    "name": "ipython",
    "version": 3
   },
   "file_extension": ".py",
   "mimetype": "text/x-python",
   "name": "python",
   "nbconvert_exporter": "python",
   "pygments_lexer": "ipython3",
   "version": "3.10.13"
  }
 },
 "nbformat": 4,
 "nbformat_minor": 5
}
